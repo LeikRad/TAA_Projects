{
 "cells": [
  {
   "cell_type": "markdown",
   "metadata": {},
   "source": [
    "# Logistical Regression"
   ]
  },
  {
   "cell_type": "code",
   "execution_count": 29,
   "metadata": {},
   "outputs": [],
   "source": [
    "import numpy as np\n",
    "import matplotlib.pyplot as plt\n",
    "import seaborn as sns\n",
    "import pandas as pd\n",
    "from sklearn.linear_model import LogisticRegression\n",
    "import os\n",
    "# Set directory\n",
    "base_dir = './sets'\n",
    "# Load validation set and test set\n",
    "X_val = np.load(f'{base_dir}/X_val.npy')\n",
    "y_val = np.load(f'{base_dir}/y_val.npy')\n",
    "X_test = np.load(f'{base_dir}/X_test.npy')\n",
    "over_sampled_best_X_test = np.load(f'{base_dir}/over_sampled_best_X_test.npy')\n",
    "under_sampled_best_X_test = np.load(f'{base_dir}/under_sampled_best_X_test.npy')\n",
    "y_test = np.load(f'{base_dir}/y_test.npy')\n",
    "\n",
    "# make output directory\n",
    "output_dir = './logistic_regression_out'\n",
    "os.makedirs(output_dir, exist_ok=True)\n"
   ]
  },
  {
   "cell_type": "markdown",
   "metadata": {},
   "source": [
    "# Hyper Tunning paramaters"
   ]
  },
  {
   "cell_type": "code",
   "execution_count": 30,
   "metadata": {},
   "outputs": [],
   "source": [
    "param_grid = { 'C': [0.001, 0.01, 0.1, 1, 10, 100, 1000], \n",
    "               'penalty': ['l1', 'l2'],\n",
    "               'solver': ['liblinear', 'saga', 'lbfgs']\n",
    "            }"
   ]
  },
  {
   "cell_type": "markdown",
   "metadata": {},
   "source": [
    "# Hyper Tunning to each specific set\n"
   ]
  },
  {
   "cell_type": "markdown",
   "metadata": {},
   "source": [
    "## Base Set"
   ]
  },
  {
   "cell_type": "code",
   "execution_count": 31,
   "metadata": {},
   "outputs": [
    {
     "name": "stdout",
     "output_type": "stream",
     "text": [
      "Fitting 5 folds for each of 42 candidates, totalling 210 fits\n"
     ]
    },
    {
     "name": "stdout",
     "output_type": "stream",
     "text": [
      "[CV 1/5] END ...C=0.001, penalty=l1, solver=lbfgs;, score=nan total time=   0.0s\n",
      "[CV 2/5] END ...C=0.001, penalty=l1, solver=lbfgs;, score=nan total time=   0.1s\n",
      "[CV 3/5] END ...C=0.001, penalty=l1, solver=lbfgs;, score=nan total time=   0.0s\n",
      "[CV 4/5] END ...C=0.001, penalty=l1, solver=lbfgs;, score=nan total time=   0.1s\n",
      "[CV 1/5] END C=0.001, penalty=l1, solver=liblinear;, score=0.998 total time=   0.8s\n",
      "[CV 5/5] END ...C=0.001, penalty=l1, solver=lbfgs;, score=nan total time=   0.0s\n",
      "[CV 5/5] END C=0.001, penalty=l1, solver=liblinear;, score=0.999 total time=   0.9s\n",
      "[CV 4/5] END C=0.001, penalty=l1, solver=liblinear;, score=0.999 total time=   1.2s\n",
      "[CV 3/5] END C=0.001, penalty=l1, solver=liblinear;, score=0.998 total time=   1.4s\n",
      "[CV 2/5] END C=0.001, penalty=l1, solver=liblinear;, score=0.998 total time=   1.2s\n",
      "[CV 3/5] END C=0.001, penalty=l2, solver=liblinear;, score=0.999 total time=   1.0s\n",
      "[CV 1/5] END C=0.001, penalty=l2, solver=liblinear;, score=0.999 total time=   1.1s\n",
      "[CV 2/5] END C=0.001, penalty=l2, solver=liblinear;, score=0.999 total time=   1.1s\n",
      "[CV 4/5] END C=0.001, penalty=l2, solver=liblinear;, score=0.999 total time=   0.9s\n",
      "[CV 5/5] END C=0.001, penalty=l2, solver=liblinear;, score=0.999 total time=   0.7s\n",
      "[CV 1/5] END .C=0.001, penalty=l2, solver=lbfgs;, score=0.999 total time=   0.3s\n",
      "[CV 2/5] END .C=0.001, penalty=l2, solver=lbfgs;, score=0.999 total time=   0.4s\n",
      "[CV 3/5] END .C=0.001, penalty=l2, solver=lbfgs;, score=0.999 total time=   0.3s\n",
      "[CV 5/5] END .C=0.001, penalty=l2, solver=lbfgs;, score=0.999 total time=   0.3s\n",
      "[CV 4/5] END .C=0.001, penalty=l2, solver=lbfgs;, score=0.999 total time=   0.4s\n",
      "[CV 1/5] END C=0.01, penalty=l1, solver=liblinear;, score=0.999 total time=   0.8s\n",
      "[CV 2/5] END C=0.01, penalty=l1, solver=liblinear;, score=0.999 total time=   0.9s\n",
      "[CV 3/5] END C=0.01, penalty=l1, solver=liblinear;, score=0.999 total time=   0.8s\n",
      "[CV 4/5] END C=0.01, penalty=l1, solver=liblinear;, score=0.999 total time=   0.8s\n",
      "[CV 5/5] END C=0.01, penalty=l1, solver=liblinear;, score=0.999 total time=   0.6s\n"
     ]
    },
    {
     "name": "stderr",
     "output_type": "stream",
     "text": [
      "/home/leikrad/Projects/TAA/venv/lib/python3.11/site-packages/sklearn/linear_model/_sag.py:350: ConvergenceWarning: The max_iter was reached which means the coef_ did not converge\n",
      "  warnings.warn(\n"
     ]
    },
    {
     "name": "stdout",
     "output_type": "stream",
     "text": [
      "[CV 1/5] END ..C=0.001, penalty=l2, solver=saga;, score=0.999 total time=  13.7s\n"
     ]
    },
    {
     "name": "stderr",
     "output_type": "stream",
     "text": [
      "/home/leikrad/Projects/TAA/venv/lib/python3.11/site-packages/sklearn/linear_model/_sag.py:350: ConvergenceWarning: The max_iter was reached which means the coef_ did not converge\n",
      "  warnings.warn(\n"
     ]
    },
    {
     "name": "stdout",
     "output_type": "stream",
     "text": [
      "[CV 2/5] END ..C=0.001, penalty=l2, solver=saga;, score=0.999 total time=  14.0s\n"
     ]
    },
    {
     "name": "stderr",
     "output_type": "stream",
     "text": [
      "/home/leikrad/Projects/TAA/venv/lib/python3.11/site-packages/sklearn/linear_model/_sag.py:350: ConvergenceWarning: The max_iter was reached which means the coef_ did not converge\n",
      "  warnings.warn(\n",
      "/home/leikrad/Projects/TAA/venv/lib/python3.11/site-packages/sklearn/linear_model/_sag.py:350: ConvergenceWarning: The max_iter was reached which means the coef_ did not converge\n",
      "  warnings.warn(\n",
      "/home/leikrad/Projects/TAA/venv/lib/python3.11/site-packages/sklearn/linear_model/_sag.py:350: ConvergenceWarning: The max_iter was reached which means the coef_ did not converge\n",
      "  warnings.warn(\n"
     ]
    },
    {
     "name": "stdout",
     "output_type": "stream",
     "text": [
      "[CV 2/5] END ..C=0.001, penalty=l1, solver=saga;, score=0.998 total time=  15.7s\n",
      "[CV 1/5] END ..C=0.001, penalty=l1, solver=saga;, score=0.998 total time=  15.9s\n",
      "[CV 5/5] END ..C=0.001, penalty=l2, solver=saga;, score=0.999 total time=  14.0s\n",
      "[CV 1/5] END ....C=0.01, penalty=l1, solver=lbfgs;, score=nan total time=   0.0s\n",
      "[CV 3/5] END ....C=0.01, penalty=l1, solver=lbfgs;, score=nan total time=   0.0s\n",
      "[CV 2/5] END ....C=0.01, penalty=l1, solver=lbfgs;, score=nan total time=   0.0s\n",
      "[CV 4/5] END ....C=0.01, penalty=l1, solver=lbfgs;, score=nan total time=   0.0s\n",
      "[CV 5/5] END ....C=0.01, penalty=l1, solver=lbfgs;, score=nan total time=   0.0s\n"
     ]
    },
    {
     "name": "stderr",
     "output_type": "stream",
     "text": [
      "/home/leikrad/Projects/TAA/venv/lib/python3.11/site-packages/sklearn/linear_model/_sag.py:350: ConvergenceWarning: The max_iter was reached which means the coef_ did not converge\n",
      "  warnings.warn(\n"
     ]
    },
    {
     "name": "stdout",
     "output_type": "stream",
     "text": [
      "[CV 3/5] END ..C=0.001, penalty=l2, solver=saga;, score=0.999 total time=  14.5s\n",
      "[CV 2/5] END C=0.01, penalty=l2, solver=liblinear;, score=0.999 total time=   0.9s\n",
      "[CV 5/5] END ..C=0.001, penalty=l1, solver=saga;, score=0.999 total time=  16.8s\n",
      "[CV 1/5] END C=0.01, penalty=l2, solver=liblinear;, score=0.999 total time=   1.0s\n",
      "[CV 4/5] END ..C=0.001, penalty=l1, solver=saga;, score=0.999 total time=  16.4s\n"
     ]
    },
    {
     "name": "stderr",
     "output_type": "stream",
     "text": [
      "/home/leikrad/Projects/TAA/venv/lib/python3.11/site-packages/sklearn/linear_model/_sag.py:350: ConvergenceWarning: The max_iter was reached which means the coef_ did not converge\n",
      "  warnings.warn(\n",
      "/home/leikrad/Projects/TAA/venv/lib/python3.11/site-packages/sklearn/linear_model/_sag.py:350: ConvergenceWarning: The max_iter was reached which means the coef_ did not converge\n",
      "  warnings.warn(\n"
     ]
    },
    {
     "name": "stdout",
     "output_type": "stream",
     "text": [
      "[CV 3/5] END C=0.01, penalty=l2, solver=liblinear;, score=0.999 total time=   1.1s\n",
      "[CV 3/5] END ..C=0.001, penalty=l1, solver=saga;, score=0.998 total time=  17.2s\n"
     ]
    },
    {
     "name": "stderr",
     "output_type": "stream",
     "text": [
      "/home/leikrad/Projects/TAA/venv/lib/python3.11/site-packages/sklearn/linear_model/_sag.py:350: ConvergenceWarning: The max_iter was reached which means the coef_ did not converge\n",
      "  warnings.warn(\n",
      "/home/leikrad/Projects/TAA/venv/lib/python3.11/site-packages/sklearn/linear_model/_sag.py:350: ConvergenceWarning: The max_iter was reached which means the coef_ did not converge\n",
      "  warnings.warn(\n"
     ]
    },
    {
     "name": "stdout",
     "output_type": "stream",
     "text": [
      "[CV 4/5] END ..C=0.001, penalty=l2, solver=saga;, score=0.999 total time=  15.9s\n",
      "[CV 5/5] END C=0.01, penalty=l2, solver=liblinear;, score=0.999 total time=   1.2s\n",
      "[CV 4/5] END C=0.01, penalty=l2, solver=liblinear;, score=0.999 total time=   1.3s\n",
      "[CV 1/5] END ..C=0.01, penalty=l2, solver=lbfgs;, score=0.999 total time=   0.3s\n",
      "[CV 2/5] END ..C=0.01, penalty=l2, solver=lbfgs;, score=0.999 total time=   0.3s\n",
      "[CV 4/5] END ..C=0.01, penalty=l2, solver=lbfgs;, score=0.999 total time=   0.3s\n",
      "[CV 3/5] END ..C=0.01, penalty=l2, solver=lbfgs;, score=0.999 total time=   0.4s\n",
      "[CV 5/5] END ..C=0.01, penalty=l2, solver=lbfgs;, score=0.999 total time=   0.3s\n"
     ]
    },
    {
     "name": "stderr",
     "output_type": "stream",
     "text": [
      "/home/leikrad/Projects/TAA/venv/lib/python3.11/site-packages/sklearn/linear_model/_sag.py:350: ConvergenceWarning: The max_iter was reached which means the coef_ did not converge\n",
      "  warnings.warn(\n"
     ]
    },
    {
     "name": "stdout",
     "output_type": "stream",
     "text": [
      "[CV 1/5] END ...C=0.01, penalty=l1, solver=saga;, score=0.999 total time=  15.5s\n",
      "[CV 1/5] END C=0.1, penalty=l1, solver=liblinear;, score=0.999 total time=   1.7s\n",
      "[CV 2/5] END C=0.1, penalty=l1, solver=liblinear;, score=0.999 total time=   2.0s\n"
     ]
    },
    {
     "name": "stderr",
     "output_type": "stream",
     "text": [
      "/home/leikrad/Projects/TAA/venv/lib/python3.11/site-packages/sklearn/linear_model/_sag.py:350: ConvergenceWarning: The max_iter was reached which means the coef_ did not converge\n",
      "  warnings.warn(\n"
     ]
    },
    {
     "name": "stdout",
     "output_type": "stream",
     "text": [
      "[CV 2/5] END ...C=0.01, penalty=l1, solver=saga;, score=0.999 total time=  16.3s\n",
      "[CV 4/5] END C=0.1, penalty=l1, solver=liblinear;, score=0.999 total time=   1.9s\n",
      "[CV 3/5] END C=0.1, penalty=l1, solver=liblinear;, score=0.999 total time=   2.4s\n",
      "[CV 5/5] END C=0.1, penalty=l1, solver=liblinear;, score=0.999 total time=   1.7s\n"
     ]
    },
    {
     "name": "stderr",
     "output_type": "stream",
     "text": [
      "/home/leikrad/Projects/TAA/venv/lib/python3.11/site-packages/sklearn/linear_model/_sag.py:350: ConvergenceWarning: The max_iter was reached which means the coef_ did not converge\n",
      "  warnings.warn(\n"
     ]
    },
    {
     "name": "stdout",
     "output_type": "stream",
     "text": [
      "[CV 1/5] END ...C=0.01, penalty=l2, solver=saga;, score=0.999 total time=  14.8s\n"
     ]
    },
    {
     "name": "stderr",
     "output_type": "stream",
     "text": [
      "/home/leikrad/Projects/TAA/venv/lib/python3.11/site-packages/sklearn/linear_model/_sag.py:350: ConvergenceWarning: The max_iter was reached which means the coef_ did not converge\n",
      "  warnings.warn(\n"
     ]
    },
    {
     "name": "stdout",
     "output_type": "stream",
     "text": [
      "[CV 2/5] END ...C=0.01, penalty=l2, solver=saga;, score=0.999 total time=  15.0s\n",
      "[CV 1/5] END .....C=0.1, penalty=l1, solver=lbfgs;, score=nan total time=   0.0s\n",
      "[CV 2/5] END .....C=0.1, penalty=l1, solver=lbfgs;, score=nan total time=   0.0s\n",
      "[CV 3/5] END .....C=0.1, penalty=l1, solver=lbfgs;, score=nan total time=   0.0s\n",
      "[CV 4/5] END .....C=0.1, penalty=l1, solver=lbfgs;, score=nan total time=   0.0s\n",
      "[CV 5/5] END .....C=0.1, penalty=l1, solver=lbfgs;, score=nan total time=   0.0s\n"
     ]
    },
    {
     "name": "stderr",
     "output_type": "stream",
     "text": [
      "/home/leikrad/Projects/TAA/venv/lib/python3.11/site-packages/sklearn/linear_model/_sag.py:350: ConvergenceWarning: The max_iter was reached which means the coef_ did not converge\n",
      "  warnings.warn(\n",
      "/home/leikrad/Projects/TAA/venv/lib/python3.11/site-packages/sklearn/linear_model/_sag.py:350: ConvergenceWarning: The max_iter was reached which means the coef_ did not converge\n",
      "  warnings.warn(\n"
     ]
    },
    {
     "name": "stdout",
     "output_type": "stream",
     "text": [
      "[CV 3/5] END ...C=0.01, penalty=l1, solver=saga;, score=0.999 total time=  17.5s\n",
      "[CV 3/5] END ...C=0.01, penalty=l2, solver=saga;, score=0.999 total time=  15.2s\n"
     ]
    },
    {
     "name": "stderr",
     "output_type": "stream",
     "text": [
      "/home/leikrad/Projects/TAA/venv/lib/python3.11/site-packages/sklearn/linear_model/_sag.py:350: ConvergenceWarning: The max_iter was reached which means the coef_ did not converge\n",
      "  warnings.warn(\n",
      "/home/leikrad/Projects/TAA/venv/lib/python3.11/site-packages/sklearn/linear_model/_sag.py:350: ConvergenceWarning: The max_iter was reached which means the coef_ did not converge\n",
      "  warnings.warn(\n"
     ]
    },
    {
     "name": "stdout",
     "output_type": "stream",
     "text": [
      "[CV 4/5] END ...C=0.01, penalty=l1, solver=saga;, score=0.999 total time=  17.3s\n",
      "[CV 4/5] END ...C=0.01, penalty=l2, solver=saga;, score=0.999 total time=  15.3s\n"
     ]
    },
    {
     "name": "stderr",
     "output_type": "stream",
     "text": [
      "/home/leikrad/Projects/TAA/venv/lib/python3.11/site-packages/sklearn/linear_model/_sag.py:350: ConvergenceWarning: The max_iter was reached which means the coef_ did not converge\n",
      "  warnings.warn(\n"
     ]
    },
    {
     "name": "stdout",
     "output_type": "stream",
     "text": [
      "[CV 5/5] END ...C=0.01, penalty=l1, solver=saga;, score=0.999 total time=  18.2s\n",
      "[CV 1/5] END C=0.1, penalty=l2, solver=liblinear;, score=0.999 total time=   2.3s\n",
      "[CV 4/5] END C=0.1, penalty=l2, solver=liblinear;, score=0.999 total time=   2.1s\n",
      "[CV 2/5] END C=0.1, penalty=l2, solver=liblinear;, score=0.999 total time=   2.3s\n",
      "[CV 5/5] END C=0.1, penalty=l2, solver=liblinear;, score=0.999 total time=   2.0s\n",
      "[CV 3/5] END C=0.1, penalty=l2, solver=liblinear;, score=0.999 total time=   2.2s\n"
     ]
    },
    {
     "name": "stderr",
     "output_type": "stream",
     "text": [
      "/home/leikrad/Projects/TAA/venv/lib/python3.11/site-packages/sklearn/linear_model/_sag.py:350: ConvergenceWarning: The max_iter was reached which means the coef_ did not converge\n",
      "  warnings.warn(\n"
     ]
    },
    {
     "name": "stdout",
     "output_type": "stream",
     "text": [
      "[CV 5/5] END ...C=0.01, penalty=l2, solver=saga;, score=0.999 total time=  17.5s\n",
      "[CV 1/5] END ...C=0.1, penalty=l2, solver=lbfgs;, score=0.999 total time=   0.5s\n",
      "[CV 2/5] END ...C=0.1, penalty=l2, solver=lbfgs;, score=0.999 total time=   0.5s\n",
      "[CV 3/5] END ...C=0.1, penalty=l2, solver=lbfgs;, score=0.999 total time=   0.5s\n",
      "[CV 4/5] END ...C=0.1, penalty=l2, solver=lbfgs;, score=0.999 total time=   0.4s\n",
      "[CV 5/5] END ...C=0.1, penalty=l2, solver=lbfgs;, score=0.999 total time=   0.5s\n"
     ]
    },
    {
     "name": "stderr",
     "output_type": "stream",
     "text": [
      "/home/leikrad/Projects/TAA/venv/lib/python3.11/site-packages/sklearn/linear_model/_sag.py:350: ConvergenceWarning: The max_iter was reached which means the coef_ did not converge\n",
      "  warnings.warn(\n"
     ]
    },
    {
     "name": "stdout",
     "output_type": "stream",
     "text": [
      "[CV 1/5] END ....C=0.1, penalty=l1, solver=saga;, score=0.999 total time=  17.8s\n"
     ]
    },
    {
     "name": "stderr",
     "output_type": "stream",
     "text": [
      "/home/leikrad/Projects/TAA/venv/lib/python3.11/site-packages/sklearn/linear_model/_sag.py:350: ConvergenceWarning: The max_iter was reached which means the coef_ did not converge\n",
      "  warnings.warn(\n"
     ]
    },
    {
     "name": "stdout",
     "output_type": "stream",
     "text": [
      "[CV 3/5] END ....C=0.1, penalty=l1, solver=saga;, score=0.999 total time=  17.2s\n"
     ]
    },
    {
     "name": "stderr",
     "output_type": "stream",
     "text": [
      "/home/leikrad/Projects/TAA/venv/lib/python3.11/site-packages/sklearn/linear_model/_sag.py:350: ConvergenceWarning: The max_iter was reached which means the coef_ did not converge\n",
      "  warnings.warn(\n"
     ]
    },
    {
     "name": "stdout",
     "output_type": "stream",
     "text": [
      "[CV 4/5] END ....C=0.1, penalty=l1, solver=saga;, score=0.999 total time=  18.4s\n"
     ]
    },
    {
     "name": "stderr",
     "output_type": "stream",
     "text": [
      "/home/leikrad/Projects/TAA/venv/lib/python3.11/site-packages/sklearn/linear_model/_sag.py:350: ConvergenceWarning: The max_iter was reached which means the coef_ did not converge\n",
      "  warnings.warn(\n"
     ]
    },
    {
     "name": "stdout",
     "output_type": "stream",
     "text": [
      "[CV 2/5] END ....C=0.1, penalty=l1, solver=saga;, score=0.999 total time=  19.4s\n",
      "[CV 2/5] END .C=1, penalty=l1, solver=liblinear;, score=0.999 total time=   7.9s\n",
      "[CV 1/5] END .C=1, penalty=l1, solver=liblinear;, score=0.999 total time=   9.1s\n",
      "[CV 4/5] END .C=1, penalty=l1, solver=liblinear;, score=0.999 total time=   8.6s\n",
      "[CV 5/5] END .C=1, penalty=l1, solver=liblinear;, score=0.999 total time=   8.2s\n"
     ]
    },
    {
     "name": "stderr",
     "output_type": "stream",
     "text": [
      "/home/leikrad/Projects/TAA/venv/lib/python3.11/site-packages/sklearn/linear_model/_sag.py:350: ConvergenceWarning: The max_iter was reached which means the coef_ did not converge\n",
      "  warnings.warn(\n"
     ]
    },
    {
     "name": "stdout",
     "output_type": "stream",
     "text": [
      "[CV 5/5] END ....C=0.1, penalty=l1, solver=saga;, score=0.999 total time=  20.9s\n",
      "[CV 1/5] END .......C=1, penalty=l1, solver=lbfgs;, score=nan total time=   0.0s\n",
      "[CV 2/5] END .......C=1, penalty=l1, solver=lbfgs;, score=nan total time=   0.0s\n",
      "[CV 3/5] END .......C=1, penalty=l1, solver=lbfgs;, score=nan total time=   0.0s\n",
      "[CV 4/5] END .......C=1, penalty=l1, solver=lbfgs;, score=nan total time=   0.0s\n",
      "[CV 5/5] END .......C=1, penalty=l1, solver=lbfgs;, score=nan total time=   0.0s\n",
      "[CV 3/5] END .C=1, penalty=l1, solver=liblinear;, score=0.999 total time=  13.7s\n"
     ]
    },
    {
     "name": "stderr",
     "output_type": "stream",
     "text": [
      "/home/leikrad/Projects/TAA/venv/lib/python3.11/site-packages/sklearn/linear_model/_sag.py:350: ConvergenceWarning: The max_iter was reached which means the coef_ did not converge\n",
      "  warnings.warn(\n"
     ]
    },
    {
     "name": "stdout",
     "output_type": "stream",
     "text": [
      "[CV 4/5] END ....C=0.1, penalty=l2, solver=saga;, score=0.999 total time=  19.1s\n"
     ]
    },
    {
     "name": "stderr",
     "output_type": "stream",
     "text": [
      "/home/leikrad/Projects/TAA/venv/lib/python3.11/site-packages/sklearn/linear_model/_sag.py:350: ConvergenceWarning: The max_iter was reached which means the coef_ did not converge\n",
      "  warnings.warn(\n",
      "/home/leikrad/Projects/TAA/venv/lib/python3.11/site-packages/sklearn/linear_model/_sag.py:350: ConvergenceWarning: The max_iter was reached which means the coef_ did not converge\n",
      "  warnings.warn(\n"
     ]
    },
    {
     "name": "stdout",
     "output_type": "stream",
     "text": [
      "[CV 1/5] END ....C=0.1, penalty=l2, solver=saga;, score=0.999 total time=  20.5s\n",
      "[CV 2/5] END ....C=0.1, penalty=l2, solver=saga;, score=0.999 total time=  20.2s\n",
      "[CV 1/5] END .C=1, penalty=l2, solver=liblinear;, score=0.999 total time=   2.1s\n",
      "[CV 2/5] END .C=1, penalty=l2, solver=liblinear;, score=0.999 total time=   2.4s\n"
     ]
    },
    {
     "name": "stderr",
     "output_type": "stream",
     "text": [
      "/home/leikrad/Projects/TAA/venv/lib/python3.11/site-packages/sklearn/linear_model/_sag.py:350: ConvergenceWarning: The max_iter was reached which means the coef_ did not converge\n",
      "  warnings.warn(\n",
      "/home/leikrad/Projects/TAA/venv/lib/python3.11/site-packages/sklearn/linear_model/_sag.py:350: ConvergenceWarning: The max_iter was reached which means the coef_ did not converge\n",
      "  warnings.warn(\n"
     ]
    },
    {
     "name": "stdout",
     "output_type": "stream",
     "text": [
      "[CV 3/5] END ....C=0.1, penalty=l2, solver=saga;, score=0.999 total time=  20.8s\n",
      "[CV 5/5] END ....C=0.1, penalty=l2, solver=saga;, score=0.999 total time=  20.8s\n",
      "[CV 4/5] END .C=1, penalty=l2, solver=liblinear;, score=0.999 total time=   2.2s\n",
      "[CV 3/5] END .C=1, penalty=l2, solver=liblinear;, score=0.999 total time=   3.0s\n",
      "[CV 1/5] END .....C=1, penalty=l2, solver=lbfgs;, score=0.999 total time=   0.4s\n",
      "[CV 5/5] END .C=1, penalty=l2, solver=liblinear;, score=0.999 total time=   3.0s\n",
      "[CV 2/5] END .....C=1, penalty=l2, solver=lbfgs;, score=0.999 total time=   0.5s\n",
      "[CV 3/5] END .....C=1, penalty=l2, solver=lbfgs;, score=0.999 total time=   0.5s\n",
      "[CV 4/5] END .....C=1, penalty=l2, solver=lbfgs;, score=0.999 total time=   0.4s\n",
      "[CV 5/5] END .....C=1, penalty=l2, solver=lbfgs;, score=0.999 total time=   0.6s\n"
     ]
    },
    {
     "name": "stderr",
     "output_type": "stream",
     "text": [
      "/home/leikrad/Projects/TAA/venv/lib/python3.11/site-packages/sklearn/linear_model/_sag.py:350: ConvergenceWarning: The max_iter was reached which means the coef_ did not converge\n",
      "  warnings.warn(\n",
      "/home/leikrad/Projects/TAA/venv/lib/python3.11/site-packages/sklearn/linear_model/_sag.py:350: ConvergenceWarning: The max_iter was reached which means the coef_ did not converge\n",
      "  warnings.warn(\n"
     ]
    },
    {
     "name": "stdout",
     "output_type": "stream",
     "text": [
      "[CV 2/5] END ......C=1, penalty=l1, solver=saga;, score=0.999 total time=  20.0s\n",
      "[CV 1/5] END ......C=1, penalty=l1, solver=saga;, score=0.999 total time=  22.6s\n",
      "[CV 1/5] END C=10, penalty=l1, solver=liblinear;, score=0.999 total time=   8.9s\n"
     ]
    },
    {
     "name": "stderr",
     "output_type": "stream",
     "text": [
      "/home/leikrad/Projects/TAA/venv/lib/python3.11/site-packages/sklearn/linear_model/_sag.py:350: ConvergenceWarning: The max_iter was reached which means the coef_ did not converge\n",
      "  warnings.warn(\n"
     ]
    },
    {
     "name": "stdout",
     "output_type": "stream",
     "text": [
      "[CV 4/5] END ......C=1, penalty=l1, solver=saga;, score=0.999 total time=  19.2s\n",
      "[CV 2/5] END C=10, penalty=l1, solver=liblinear;, score=0.999 total time=  10.2s\n"
     ]
    },
    {
     "name": "stderr",
     "output_type": "stream",
     "text": [
      "/home/leikrad/Projects/TAA/venv/lib/python3.11/site-packages/sklearn/linear_model/_sag.py:350: ConvergenceWarning: The max_iter was reached which means the coef_ did not converge\n",
      "  warnings.warn(\n"
     ]
    },
    {
     "name": "stdout",
     "output_type": "stream",
     "text": [
      "[CV 3/5] END ......C=1, penalty=l1, solver=saga;, score=0.999 total time=  24.0s\n"
     ]
    },
    {
     "name": "stderr",
     "output_type": "stream",
     "text": [
      "/home/leikrad/Projects/TAA/venv/lib/python3.11/site-packages/sklearn/linear_model/_sag.py:350: ConvergenceWarning: The max_iter was reached which means the coef_ did not converge\n",
      "  warnings.warn(\n"
     ]
    },
    {
     "name": "stdout",
     "output_type": "stream",
     "text": [
      "[CV 5/5] END ......C=1, penalty=l1, solver=saga;, score=0.999 total time=  21.4s\n"
     ]
    },
    {
     "name": "stderr",
     "output_type": "stream",
     "text": [
      "/home/leikrad/Projects/TAA/venv/lib/python3.11/site-packages/sklearn/linear_model/_sag.py:350: ConvergenceWarning: The max_iter was reached which means the coef_ did not converge\n",
      "  warnings.warn(\n"
     ]
    },
    {
     "name": "stdout",
     "output_type": "stream",
     "text": [
      "[CV 1/5] END ......C=1, penalty=l2, solver=saga;, score=0.999 total time=  18.6s\n"
     ]
    },
    {
     "name": "stderr",
     "output_type": "stream",
     "text": [
      "/home/leikrad/Projects/TAA/venv/lib/python3.11/site-packages/sklearn/linear_model/_sag.py:350: ConvergenceWarning: The max_iter was reached which means the coef_ did not converge\n",
      "  warnings.warn(\n"
     ]
    },
    {
     "name": "stdout",
     "output_type": "stream",
     "text": [
      "[CV 2/5] END ......C=1, penalty=l2, solver=saga;, score=0.999 total time=  19.0s\n",
      "[CV 1/5] END ......C=10, penalty=l1, solver=lbfgs;, score=nan total time=   0.0s\n",
      "[CV 2/5] END ......C=10, penalty=l1, solver=lbfgs;, score=nan total time=   0.0s\n",
      "[CV 3/5] END ......C=10, penalty=l1, solver=lbfgs;, score=nan total time=   0.0s\n",
      "[CV 4/5] END ......C=10, penalty=l1, solver=lbfgs;, score=nan total time=   0.0s\n",
      "[CV 5/5] END ......C=10, penalty=l1, solver=lbfgs;, score=nan total time=   0.0s\n"
     ]
    },
    {
     "name": "stderr",
     "output_type": "stream",
     "text": [
      "/home/leikrad/Projects/TAA/venv/lib/python3.11/site-packages/sklearn/linear_model/_sag.py:350: ConvergenceWarning: The max_iter was reached which means the coef_ did not converge\n",
      "  warnings.warn(\n"
     ]
    },
    {
     "name": "stdout",
     "output_type": "stream",
     "text": [
      "[CV 3/5] END ......C=1, penalty=l2, solver=saga;, score=0.999 total time=  19.5s\n"
     ]
    },
    {
     "name": "stderr",
     "output_type": "stream",
     "text": [
      "/home/leikrad/Projects/TAA/venv/lib/python3.11/site-packages/sklearn/linear_model/_sag.py:350: ConvergenceWarning: The max_iter was reached which means the coef_ did not converge\n",
      "  warnings.warn(\n"
     ]
    },
    {
     "name": "stdout",
     "output_type": "stream",
     "text": [
      "[CV 4/5] END ......C=1, penalty=l2, solver=saga;, score=0.999 total time=  20.9s\n",
      "[CV 4/5] END C=10, penalty=l1, solver=liblinear;, score=0.999 total time=  13.0s\n"
     ]
    },
    {
     "name": "stderr",
     "output_type": "stream",
     "text": [
      "/home/leikrad/Projects/TAA/venv/lib/python3.11/site-packages/sklearn/linear_model/_sag.py:350: ConvergenceWarning: The max_iter was reached which means the coef_ did not converge\n",
      "  warnings.warn(\n"
     ]
    },
    {
     "name": "stdout",
     "output_type": "stream",
     "text": [
      "[CV 5/5] END ......C=1, penalty=l2, solver=saga;, score=0.999 total time=  21.2s\n",
      "[CV 1/5] END C=10, penalty=l2, solver=liblinear;, score=0.999 total time=   3.7s\n",
      "[CV 2/5] END C=10, penalty=l2, solver=liblinear;, score=0.999 total time=   3.8s\n",
      "[CV 5/5] END C=10, penalty=l1, solver=liblinear;, score=0.999 total time=  13.1s\n",
      "[CV 4/5] END C=10, penalty=l2, solver=liblinear;, score=0.999 total time=   3.7s\n",
      "[CV 5/5] END C=10, penalty=l2, solver=liblinear;, score=0.999 total time=   3.2s\n",
      "[CV 3/5] END C=10, penalty=l2, solver=liblinear;, score=0.999 total time=   5.0s\n",
      "[CV 1/5] END ....C=10, penalty=l2, solver=lbfgs;, score=0.999 total time=   0.4s\n",
      "[CV 2/5] END ....C=10, penalty=l2, solver=lbfgs;, score=0.999 total time=   0.4s\n",
      "[CV 3/5] END ....C=10, penalty=l2, solver=lbfgs;, score=0.999 total time=   0.4s\n",
      "[CV 4/5] END ....C=10, penalty=l2, solver=lbfgs;, score=0.999 total time=   0.4s\n",
      "[CV 5/5] END ....C=10, penalty=l2, solver=lbfgs;, score=0.999 total time=   0.4s\n"
     ]
    },
    {
     "name": "stderr",
     "output_type": "stream",
     "text": [
      "/home/leikrad/Projects/TAA/venv/lib/python3.11/site-packages/sklearn/linear_model/_sag.py:350: ConvergenceWarning: The max_iter was reached which means the coef_ did not converge\n",
      "  warnings.warn(\n"
     ]
    },
    {
     "name": "stdout",
     "output_type": "stream",
     "text": [
      "[CV 2/5] END .....C=10, penalty=l1, solver=saga;, score=0.999 total time=  20.8s\n"
     ]
    },
    {
     "name": "stderr",
     "output_type": "stream",
     "text": [
      "/home/leikrad/Projects/TAA/venv/lib/python3.11/site-packages/sklearn/linear_model/_sag.py:350: ConvergenceWarning: The max_iter was reached which means the coef_ did not converge\n",
      "  warnings.warn(\n"
     ]
    },
    {
     "name": "stdout",
     "output_type": "stream",
     "text": [
      "[CV 1/5] END .....C=10, penalty=l1, solver=saga;, score=0.999 total time=  22.9s\n",
      "[CV 1/5] END C=100, penalty=l1, solver=liblinear;, score=0.999 total time=   8.9s\n"
     ]
    },
    {
     "name": "stderr",
     "output_type": "stream",
     "text": [
      "/home/leikrad/Projects/TAA/venv/lib/python3.11/site-packages/sklearn/linear_model/_sag.py:350: ConvergenceWarning: The max_iter was reached which means the coef_ did not converge\n",
      "  warnings.warn(\n"
     ]
    },
    {
     "name": "stdout",
     "output_type": "stream",
     "text": [
      "[CV 4/5] END .....C=10, penalty=l1, solver=saga;, score=0.999 total time=  22.7s\n"
     ]
    },
    {
     "name": "stderr",
     "output_type": "stream",
     "text": [
      "/home/leikrad/Projects/TAA/venv/lib/python3.11/site-packages/sklearn/linear_model/_sag.py:350: ConvergenceWarning: The max_iter was reached which means the coef_ did not converge\n",
      "  warnings.warn(\n",
      "/home/leikrad/Projects/TAA/venv/lib/python3.11/site-packages/sklearn/linear_model/_sag.py:350: ConvergenceWarning: The max_iter was reached which means the coef_ did not converge\n",
      "  warnings.warn(\n"
     ]
    },
    {
     "name": "stdout",
     "output_type": "stream",
     "text": [
      "[CV 3/5] END .....C=10, penalty=l2, solver=saga;, score=0.999 total time=  17.2s\n",
      "[CV 5/5] END .....C=10, penalty=l1, solver=saga;, score=0.999 total time=  24.1s\n"
     ]
    },
    {
     "name": "stderr",
     "output_type": "stream",
     "text": [
      "/home/leikrad/Projects/TAA/venv/lib/python3.11/site-packages/sklearn/linear_model/_sag.py:350: ConvergenceWarning: The max_iter was reached which means the coef_ did not converge\n",
      "  warnings.warn(\n"
     ]
    },
    {
     "name": "stdout",
     "output_type": "stream",
     "text": [
      "[CV 3/5] END .....C=10, penalty=l1, solver=saga;, score=0.999 total time=  30.1s\n"
     ]
    },
    {
     "name": "stderr",
     "output_type": "stream",
     "text": [
      "/home/leikrad/Projects/TAA/venv/lib/python3.11/site-packages/sklearn/linear_model/_sag.py:350: ConvergenceWarning: The max_iter was reached which means the coef_ did not converge\n",
      "  warnings.warn(\n",
      "/home/leikrad/Projects/TAA/venv/lib/python3.11/site-packages/sklearn/linear_model/_sag.py:350: ConvergenceWarning: The max_iter was reached which means the coef_ did not converge\n",
      "  warnings.warn(\n"
     ]
    },
    {
     "name": "stdout",
     "output_type": "stream",
     "text": [
      "[CV 1/5] END .....C=10, penalty=l2, solver=saga;, score=0.999 total time=  22.9s\n",
      "[CV 2/5] END .....C=10, penalty=l2, solver=saga;, score=0.999 total time=  22.2s\n"
     ]
    },
    {
     "name": "stderr",
     "output_type": "stream",
     "text": [
      "/home/leikrad/Projects/TAA/venv/lib/python3.11/site-packages/sklearn/linear_model/_sag.py:350: ConvergenceWarning: The max_iter was reached which means the coef_ did not converge\n",
      "  warnings.warn(\n"
     ]
    },
    {
     "name": "stdout",
     "output_type": "stream",
     "text": [
      "[CV 5/5] END .....C=10, penalty=l2, solver=saga;, score=0.999 total time=  20.8s\n",
      "[CV 1/5] END .....C=100, penalty=l1, solver=lbfgs;, score=nan total time=   0.1s\n",
      "[CV 2/5] END .....C=100, penalty=l1, solver=lbfgs;, score=nan total time=   0.1s\n",
      "[CV 3/5] END .....C=100, penalty=l1, solver=lbfgs;, score=nan total time=   0.0s\n",
      "[CV 4/5] END .....C=100, penalty=l1, solver=lbfgs;, score=nan total time=   0.0s\n",
      "[CV 5/5] END .....C=100, penalty=l1, solver=lbfgs;, score=nan total time=   0.0s\n"
     ]
    },
    {
     "name": "stderr",
     "output_type": "stream",
     "text": [
      "/home/leikrad/Projects/TAA/venv/lib/python3.11/site-packages/sklearn/linear_model/_sag.py:350: ConvergenceWarning: The max_iter was reached which means the coef_ did not converge\n",
      "  warnings.warn(\n"
     ]
    },
    {
     "name": "stdout",
     "output_type": "stream",
     "text": [
      "[CV 4/5] END .....C=10, penalty=l2, solver=saga;, score=0.999 total time=  23.9s\n",
      "[CV 1/5] END C=100, penalty=l2, solver=liblinear;, score=0.999 total time=   4.6s\n",
      "[CV 2/5] END C=100, penalty=l1, solver=liblinear;, score=0.999 total time=  19.3s\n",
      "[CV 5/5] END C=100, penalty=l1, solver=liblinear;, score=0.999 total time=  17.6s\n",
      "[CV 2/5] END C=100, penalty=l2, solver=liblinear;, score=0.999 total time=   6.9s\n",
      "[CV 4/5] END C=100, penalty=l2, solver=liblinear;, score=0.999 total time=   3.7s\n",
      "[CV 4/5] END C=100, penalty=l1, solver=liblinear;, score=0.999 total time=  20.5s\n",
      "[CV 5/5] END C=100, penalty=l2, solver=liblinear;, score=0.999 total time=   4.8s\n",
      "[CV 3/5] END C=100, penalty=l2, solver=liblinear;, score=0.999 total time=   9.6s\n",
      "[CV 3/5] END C=10, penalty=l1, solver=liblinear;, score=0.999 total time=  57.1s\n",
      "[CV 1/5] END ...C=100, penalty=l2, solver=lbfgs;, score=0.999 total time=   0.4s\n",
      "[CV 2/5] END ...C=100, penalty=l2, solver=lbfgs;, score=0.999 total time=   0.4s\n",
      "[CV 3/5] END ...C=100, penalty=l2, solver=lbfgs;, score=0.999 total time=   0.4s\n",
      "[CV 4/5] END ...C=100, penalty=l2, solver=lbfgs;, score=0.999 total time=   0.4s\n",
      "[CV 5/5] END ...C=100, penalty=l2, solver=lbfgs;, score=0.999 total time=   0.4s\n"
     ]
    },
    {
     "name": "stderr",
     "output_type": "stream",
     "text": [
      "/home/leikrad/Projects/TAA/venv/lib/python3.11/site-packages/sklearn/linear_model/_sag.py:350: ConvergenceWarning: The max_iter was reached which means the coef_ did not converge\n",
      "  warnings.warn(\n"
     ]
    },
    {
     "name": "stdout",
     "output_type": "stream",
     "text": [
      "[CV 1/5] END ....C=100, penalty=l1, solver=saga;, score=0.999 total time=  26.9s\n"
     ]
    },
    {
     "name": "stderr",
     "output_type": "stream",
     "text": [
      "/home/leikrad/Projects/TAA/venv/lib/python3.11/site-packages/sklearn/linear_model/_sag.py:350: ConvergenceWarning: The max_iter was reached which means the coef_ did not converge\n",
      "  warnings.warn(\n",
      "/home/leikrad/Projects/TAA/venv/lib/python3.11/site-packages/sklearn/linear_model/_sag.py:350: ConvergenceWarning: The max_iter was reached which means the coef_ did not converge\n",
      "  warnings.warn(\n"
     ]
    },
    {
     "name": "stdout",
     "output_type": "stream",
     "text": [
      "[CV 2/5] END ....C=100, penalty=l1, solver=saga;, score=0.999 total time=  27.4s\n",
      "[CV 5/5] END ....C=100, penalty=l1, solver=saga;, score=0.999 total time=  23.9s\n"
     ]
    },
    {
     "name": "stderr",
     "output_type": "stream",
     "text": [
      "/home/leikrad/Projects/TAA/venv/lib/python3.11/site-packages/sklearn/linear_model/_sag.py:350: ConvergenceWarning: The max_iter was reached which means the coef_ did not converge\n",
      "  warnings.warn(\n"
     ]
    },
    {
     "name": "stdout",
     "output_type": "stream",
     "text": [
      "[CV 4/5] END ....C=100, penalty=l1, solver=saga;, score=0.999 total time=  29.2s\n"
     ]
    },
    {
     "name": "stderr",
     "output_type": "stream",
     "text": [
      "/home/leikrad/Projects/TAA/venv/lib/python3.11/site-packages/sklearn/linear_model/_sag.py:350: ConvergenceWarning: The max_iter was reached which means the coef_ did not converge\n",
      "  warnings.warn(\n"
     ]
    },
    {
     "name": "stdout",
     "output_type": "stream",
     "text": [
      "[CV 3/5] END ....C=100, penalty=l1, solver=saga;, score=0.999 total time=  34.4s\n"
     ]
    },
    {
     "name": "stderr",
     "output_type": "stream",
     "text": [
      "/home/leikrad/Projects/TAA/venv/lib/python3.11/site-packages/sklearn/linear_model/_sag.py:350: ConvergenceWarning: The max_iter was reached which means the coef_ did not converge\n",
      "  warnings.warn(\n"
     ]
    },
    {
     "name": "stdout",
     "output_type": "stream",
     "text": [
      "[CV 2/5] END ....C=100, penalty=l2, solver=saga;, score=0.999 total time=  22.8s\n"
     ]
    },
    {
     "name": "stderr",
     "output_type": "stream",
     "text": [
      "/home/leikrad/Projects/TAA/venv/lib/python3.11/site-packages/sklearn/linear_model/_sag.py:350: ConvergenceWarning: The max_iter was reached which means the coef_ did not converge\n",
      "  warnings.warn(\n"
     ]
    },
    {
     "name": "stdout",
     "output_type": "stream",
     "text": [
      "[CV 3/5] END ....C=100, penalty=l2, solver=saga;, score=0.999 total time=  23.1s\n"
     ]
    },
    {
     "name": "stderr",
     "output_type": "stream",
     "text": [
      "/home/leikrad/Projects/TAA/venv/lib/python3.11/site-packages/sklearn/linear_model/_sag.py:350: ConvergenceWarning: The max_iter was reached which means the coef_ did not converge\n",
      "  warnings.warn(\n"
     ]
    },
    {
     "name": "stdout",
     "output_type": "stream",
     "text": [
      "[CV 1/5] END ....C=100, penalty=l2, solver=saga;, score=0.999 total time=  24.4s\n",
      "[CV 1/5] END C=1000, penalty=l1, solver=liblinear;, score=0.999 total time=  18.0s\n",
      "[CV 2/5] END C=1000, penalty=l1, solver=liblinear;, score=0.999 total time=  17.8s\n",
      "[CV 1/5] END ....C=1000, penalty=l1, solver=lbfgs;, score=nan total time=   0.0s\n",
      "[CV 2/5] END ....C=1000, penalty=l1, solver=lbfgs;, score=nan total time=   0.0s\n",
      "[CV 3/5] END ....C=1000, penalty=l1, solver=lbfgs;, score=nan total time=   0.0s\n",
      "[CV 4/5] END ....C=1000, penalty=l1, solver=lbfgs;, score=nan total time=   0.0s\n",
      "[CV 5/5] END ....C=1000, penalty=l1, solver=lbfgs;, score=nan total time=   0.0s\n"
     ]
    },
    {
     "name": "stderr",
     "output_type": "stream",
     "text": [
      "/home/leikrad/Projects/TAA/venv/lib/python3.11/site-packages/sklearn/linear_model/_sag.py:350: ConvergenceWarning: The max_iter was reached which means the coef_ did not converge\n",
      "  warnings.warn(\n"
     ]
    },
    {
     "name": "stdout",
     "output_type": "stream",
     "text": [
      "[CV 4/5] END ....C=100, penalty=l2, solver=saga;, score=0.999 total time=  26.9s\n"
     ]
    },
    {
     "name": "stderr",
     "output_type": "stream",
     "text": [
      "/home/leikrad/Projects/TAA/venv/lib/python3.11/site-packages/sklearn/linear_model/_sag.py:350: ConvergenceWarning: The max_iter was reached which means the coef_ did not converge\n",
      "  warnings.warn(\n"
     ]
    },
    {
     "name": "stdout",
     "output_type": "stream",
     "text": [
      "[CV 5/5] END ....C=100, penalty=l2, solver=saga;, score=0.999 total time=  26.9s\n",
      "[CV 1/5] END C=1000, penalty=l2, solver=liblinear;, score=0.999 total time=   4.2s\n",
      "[CV 4/5] END C=1000, penalty=l1, solver=liblinear;, score=0.999 total time=  22.0s\n",
      "[CV 2/5] END C=1000, penalty=l2, solver=liblinear;, score=0.999 total time=   4.9s\n",
      "[CV 4/5] END C=1000, penalty=l2, solver=liblinear;, score=0.999 total time=   4.1s\n",
      "[CV 5/5] END C=1000, penalty=l1, solver=liblinear;, score=0.999 total time=  20.9s\n",
      "[CV 5/5] END C=1000, penalty=l2, solver=liblinear;, score=0.999 total time=   4.6s\n",
      "[CV 3/5] END C=1000, penalty=l2, solver=liblinear;, score=0.999 total time=  11.2s\n"
     ]
    },
    {
     "name": "stderr",
     "output_type": "stream",
     "text": [
      "/home/leikrad/Projects/TAA/venv/lib/python3.11/site-packages/sklearn/linear_model/_sag.py:350: ConvergenceWarning: The max_iter was reached which means the coef_ did not converge\n",
      "  warnings.warn(\n"
     ]
    },
    {
     "name": "stdout",
     "output_type": "stream",
     "text": [
      "[CV 4/5] END ...C=1000, penalty=l1, solver=saga;, score=0.999 total time=  25.1s\n"
     ]
    },
    {
     "name": "stderr",
     "output_type": "stream",
     "text": [
      "/home/leikrad/Projects/TAA/venv/lib/python3.11/site-packages/sklearn/linear_model/_sag.py:350: ConvergenceWarning: The max_iter was reached which means the coef_ did not converge\n",
      "  warnings.warn(\n"
     ]
    },
    {
     "name": "stdout",
     "output_type": "stream",
     "text": [
      "[CV 2/5] END ...C=1000, penalty=l1, solver=saga;, score=0.999 total time=  26.0s\n",
      "[CV 1/5] END ..C=1000, penalty=l2, solver=lbfgs;, score=0.999 total time=   0.4s\n"
     ]
    },
    {
     "name": "stderr",
     "output_type": "stream",
     "text": [
      "/home/leikrad/Projects/TAA/venv/lib/python3.11/site-packages/sklearn/linear_model/_sag.py:350: ConvergenceWarning: The max_iter was reached which means the coef_ did not converge\n",
      "  warnings.warn(\n",
      "/home/leikrad/Projects/TAA/venv/lib/python3.11/site-packages/sklearn/linear_model/_sag.py:350: ConvergenceWarning: The max_iter was reached which means the coef_ did not converge\n",
      "  warnings.warn(\n"
     ]
    },
    {
     "name": "stdout",
     "output_type": "stream",
     "text": [
      "[CV 1/5] END ...C=1000, penalty=l1, solver=saga;, score=0.999 total time=  28.5s\n",
      "[CV 5/5] END ...C=1000, penalty=l1, solver=saga;, score=0.999 total time=  20.9s\n",
      "[CV 2/5] END ..C=1000, penalty=l2, solver=lbfgs;, score=0.999 total time=   0.7s\n",
      "[CV 3/5] END ..C=1000, penalty=l2, solver=lbfgs;, score=0.999 total time=   0.5s\n",
      "[CV 4/5] END ..C=1000, penalty=l2, solver=lbfgs;, score=0.999 total time=   0.4s\n",
      "[CV 5/5] END ..C=1000, penalty=l2, solver=lbfgs;, score=0.999 total time=   0.5s\n"
     ]
    },
    {
     "name": "stderr",
     "output_type": "stream",
     "text": [
      "/home/leikrad/Projects/TAA/venv/lib/python3.11/site-packages/sklearn/linear_model/_sag.py:350: ConvergenceWarning: The max_iter was reached which means the coef_ did not converge\n",
      "  warnings.warn(\n"
     ]
    },
    {
     "name": "stdout",
     "output_type": "stream",
     "text": [
      "[CV 3/5] END ...C=1000, penalty=l1, solver=saga;, score=0.999 total time=  27.8s\n"
     ]
    },
    {
     "name": "stderr",
     "output_type": "stream",
     "text": [
      "/home/leikrad/Projects/TAA/venv/lib/python3.11/site-packages/sklearn/linear_model/_sag.py:350: ConvergenceWarning: The max_iter was reached which means the coef_ did not converge\n",
      "  warnings.warn(\n"
     ]
    },
    {
     "name": "stdout",
     "output_type": "stream",
     "text": [
      "[CV 1/5] END ...C=1000, penalty=l2, solver=saga;, score=0.999 total time=  17.4s\n"
     ]
    },
    {
     "name": "stderr",
     "output_type": "stream",
     "text": [
      "/home/leikrad/Projects/TAA/venv/lib/python3.11/site-packages/sklearn/linear_model/_sag.py:350: ConvergenceWarning: The max_iter was reached which means the coef_ did not converge\n",
      "  warnings.warn(\n"
     ]
    },
    {
     "name": "stdout",
     "output_type": "stream",
     "text": [
      "[CV 2/5] END ...C=1000, penalty=l2, solver=saga;, score=0.999 total time=  15.9s\n"
     ]
    },
    {
     "name": "stderr",
     "output_type": "stream",
     "text": [
      "/home/leikrad/Projects/TAA/venv/lib/python3.11/site-packages/sklearn/linear_model/_sag.py:350: ConvergenceWarning: The max_iter was reached which means the coef_ did not converge\n",
      "  warnings.warn(\n"
     ]
    },
    {
     "name": "stdout",
     "output_type": "stream",
     "text": [
      "[CV 3/5] END ...C=1000, penalty=l2, solver=saga;, score=0.999 total time=  16.5s\n"
     ]
    },
    {
     "name": "stderr",
     "output_type": "stream",
     "text": [
      "/home/leikrad/Projects/TAA/venv/lib/python3.11/site-packages/sklearn/linear_model/_sag.py:350: ConvergenceWarning: The max_iter was reached which means the coef_ did not converge\n",
      "  warnings.warn(\n"
     ]
    },
    {
     "name": "stdout",
     "output_type": "stream",
     "text": [
      "[CV 4/5] END ...C=1000, penalty=l2, solver=saga;, score=0.999 total time=  16.2s\n"
     ]
    },
    {
     "name": "stderr",
     "output_type": "stream",
     "text": [
      "/home/leikrad/Projects/TAA/venv/lib/python3.11/site-packages/sklearn/linear_model/_sag.py:350: ConvergenceWarning: The max_iter was reached which means the coef_ did not converge\n",
      "  warnings.warn(\n"
     ]
    },
    {
     "name": "stdout",
     "output_type": "stream",
     "text": [
      "[CV 5/5] END ...C=1000, penalty=l2, solver=saga;, score=0.999 total time=  15.1s\n"
     ]
    },
    {
     "name": "stderr",
     "output_type": "stream",
     "text": [
      "/home/leikrad/Projects/TAA/venv/lib/python3.11/site-packages/sklearn/svm/_base.py:1237: ConvergenceWarning: Liblinear failed to converge, increase the number of iterations.\n",
      "  warnings.warn(\n"
     ]
    },
    {
     "name": "stdout",
     "output_type": "stream",
     "text": [
      "[CV 3/5] END C=100, penalty=l1, solver=liblinear;, score=0.999 total time= 4.0min\n"
     ]
    },
    {
     "name": "stderr",
     "output_type": "stream",
     "text": [
      "/home/leikrad/Projects/TAA/venv/lib/python3.11/site-packages/sklearn/svm/_base.py:1237: ConvergenceWarning: Liblinear failed to converge, increase the number of iterations.\n",
      "  warnings.warn(\n",
      "/home/leikrad/Projects/TAA/venv/lib/python3.11/site-packages/sklearn/model_selection/_validation.py:547: FitFailedWarning: \n",
      "35 fits failed out of a total of 210.\n",
      "The score on these train-test partitions for these parameters will be set to nan.\n",
      "If these failures are not expected, you can try to debug them by setting error_score='raise'.\n",
      "\n",
      "Below are more details about the failures:\n",
      "--------------------------------------------------------------------------------\n",
      "35 fits failed with the following error:\n",
      "Traceback (most recent call last):\n",
      "  File \"/home/leikrad/Projects/TAA/venv/lib/python3.11/site-packages/sklearn/model_selection/_validation.py\", line 895, in _fit_and_score\n",
      "    estimator.fit(X_train, y_train, **fit_params)\n",
      "  File \"/home/leikrad/Projects/TAA/venv/lib/python3.11/site-packages/sklearn/base.py\", line 1474, in wrapper\n",
      "    return fit_method(estimator, *args, **kwargs)\n",
      "           ^^^^^^^^^^^^^^^^^^^^^^^^^^^^^^^^^^^^^^\n",
      "  File \"/home/leikrad/Projects/TAA/venv/lib/python3.11/site-packages/sklearn/linear_model/_logistic.py\", line 1172, in fit\n",
      "    solver = _check_solver(self.solver, self.penalty, self.dual)\n",
      "             ^^^^^^^^^^^^^^^^^^^^^^^^^^^^^^^^^^^^^^^^^^^^^^^^^^^\n",
      "  File \"/home/leikrad/Projects/TAA/venv/lib/python3.11/site-packages/sklearn/linear_model/_logistic.py\", line 67, in _check_solver\n",
      "    raise ValueError(\n",
      "ValueError: Solver lbfgs supports only 'l2' or None penalties, got l1 penalty.\n",
      "\n",
      "  warnings.warn(some_fits_failed_message, FitFailedWarning)\n",
      "/home/leikrad/Projects/TAA/venv/lib/python3.11/site-packages/sklearn/model_selection/_search.py:1051: UserWarning: One or more of the test scores are non-finite: [0.9984875  0.99850371        nan 0.99911411 0.99903308 0.99902228\n",
      " 0.99913031 0.99911411        nan 0.99919513 0.99917893 0.99918973\n",
      " 0.99921674 0.99917353        nan 0.99922214 0.99918973 0.99919513\n",
      " 0.99920594 0.99918973        nan 0.99921674 0.99918973 0.99920594\n",
      " 0.99920054 0.99918973        nan 0.99920054 0.99918973 0.99920594\n",
      " 0.99920054 0.99918973        nan 0.99920054 0.99918973 0.99920594\n",
      " 0.99920054 0.99918973        nan 0.99920054 0.99918973 0.99920594]\n",
      "  warnings.warn(\n"
     ]
    },
    {
     "name": "stdout",
     "output_type": "stream",
     "text": [
      "[CV 3/5] END C=1000, penalty=l1, solver=liblinear;, score=0.999 total time= 6.5min\n",
      "Best hyperparameters: {'C': 0.1, 'penalty': 'l2', 'solver': 'liblinear'}\n",
      "Best score: 0.9992221434044716\n",
      "Accuracy: 0.997054874097051\n"
     ]
    }
   ],
   "source": [
    "from sklearn.linear_model import LogisticRegression\n",
    "from sklearn.model_selection import GridSearchCV\n",
    "\n",
    "# Create logistic regression\n",
    "log_reg = LogisticRegression()\n",
    "\n",
    "gridSearch = GridSearchCV(log_reg, param_grid,refit=True, verbose=3, scoring=\"accuracy\" ,cv=5,n_jobs=-1,return_train_score=False)\n",
    "\n",
    "# Base set\n",
    "X_train = np.load(f'{base_dir}/X_train.npy')\n",
    "y_train = np.load(f'{base_dir}/y_train.npy')\n",
    "\n",
    "X_train = np.concatenate((X_train, X_val))\n",
    "y_train = np.concatenate((y_train, y_val))\n",
    "\n",
    "y_train = y_train.ravel()\n",
    "\n",
    "gridSearch.fit(X_train, y_train)\n",
    "\n",
    "# Get the best model\n",
    "best_model = gridSearch.best_estimator_\n",
    "\n",
    "# Get the best hyperparameters\n",
    "best_hyperparams = gridSearch.best_params_\n",
    "\n",
    "# Get the best score\n",
    "\n",
    "best_score = gridSearch.best_score_\n",
    "\n",
    "print(f'Best hyperparameters: {best_hyperparams}')\n",
    "print(f'Best score: {best_score}')\n",
    "\n",
    "# Predict the test set\n",
    "y_pred = best_model.predict(X_test)\n",
    "\n",
    "# Calculate the accuracy\n",
    "accuracy = np.mean(y_pred == y_test)\n",
    "print(f'Accuracy: {accuracy}')\n",
    "\n",
    "\n",
    "os.makedirs(output_dir + '/base', exist_ok=True)\n",
    "\n",
    "output = f'{output_dir}/base/'\n",
    "# Save the model\n",
    "import joblib\n",
    "joblib.dump(best_model, f'{output}/model.pkl')\n",
    "\n",
    "# Save the best hyperparameters\n",
    "import json\n",
    "with open(f'{output}/best_hyperparams.json', 'w') as f:\n",
    "    json.dump(best_hyperparams, f)\n",
    "\n",
    "# Save the accuracy\n",
    "with open(f'{output}/accuracy.txt', 'w') as f:\n",
    "    f.write(str(accuracy))\n",
    "\n",
    "# convert to pandas dataframe\n",
    "df = pd.DataFrame(gridSearch.cv_results_)\n",
    "\n",
    "# save to csv\n",
    "df.to_csv(f'{output}/cv_results.csv', index=False)"
   ]
  },
  {
   "cell_type": "markdown",
   "metadata": {},
   "source": [
    "## Under Sampling - No Selection"
   ]
  },
  {
   "cell_type": "code",
   "execution_count": 32,
   "metadata": {},
   "outputs": [
    {
     "name": "stdout",
     "output_type": "stream",
     "text": [
      "Fitting 5 folds for each of 42 candidates, totalling 210 fits\n",
      "[CV 1/5] END C=0.001, penalty=l1, solver=liblinear;, score=0.500 total time=   0.0s\n",
      "[CV 2/5] END C=0.001, penalty=l1, solver=liblinear;, score=0.500 total time=   0.0s\n",
      "[CV 3/5] END C=0.001, penalty=l1, solver=liblinear;, score=0.500 total time=   0.0s\n",
      "[CV 4/5] END C=0.001, penalty=l1, solver=liblinear;, score=0.494 total time=   0.0s\n",
      "[CV 5/5] END C=0.001, penalty=l1, solver=liblinear;, score=0.506 total time=   0.0s\n",
      "[CV 1/5] END ..C=0.001, penalty=l1, solver=saga;, score=0.500 total time=   0.0s\n",
      "[CV 2/5] END ..C=0.001, penalty=l1, solver=saga;, score=0.500 total time=   0.0s\n",
      "[CV 3/5] END ..C=0.001, penalty=l1, solver=saga;, score=0.500 total time=   0.0s\n",
      "[CV 4/5] END ..C=0.001, penalty=l1, solver=saga;, score=0.494 total time=   0.0s\n",
      "[CV 1/5] END ...C=0.001, penalty=l1, solver=lbfgs;, score=nan total time=   0.0s\n",
      "[CV 5/5] END ..C=0.001, penalty=l1, solver=saga;, score=0.506 total time=   0.0s\n",
      "[CV 2/5] END ...C=0.001, penalty=l1, solver=lbfgs;, score=nan total time=   0.0s\n",
      "[CV 3/5] END ...C=0.001, penalty=l1, solver=lbfgs;, score=nan total time=   0.0s\n",
      "[CV 4/5] END ...C=0.001, penalty=l1, solver=lbfgs;, score=nan total time=   0.0s\n",
      "[CV 5/5] END ...C=0.001, penalty=l1, solver=lbfgs;, score=nan total time=   0.0s\n",
      "[CV 1/5] END C=0.001, penalty=l2, solver=liblinear;, score=0.933 total time=   0.0s\n",
      "[CV 2/5] END C=0.001, penalty=l2, solver=liblinear;, score=0.911 total time=   0.0s\n",
      "[CV 3/5] END C=0.001, penalty=l2, solver=liblinear;, score=0.878 total time=   0.0s\n",
      "[CV 4/5] END C=0.001, penalty=l2, solver=liblinear;, score=0.933 total time=   0.0s\n",
      "[CV 5/5] END C=0.001, penalty=l2, solver=liblinear;, score=0.944 total time=   0.0s\n",
      "[CV 1/5] END ..C=0.001, penalty=l2, solver=saga;, score=0.889 total time=   0.0s\n",
      "[CV 2/5] END ..C=0.001, penalty=l2, solver=saga;, score=0.944 total time=   0.0s\n",
      "[CV 3/5] END ..C=0.001, penalty=l2, solver=saga;, score=0.922 total time=   0.0s\n",
      "[CV 4/5] END ..C=0.001, penalty=l2, solver=saga;, score=0.899 total time=   0.0s\n",
      "[CV 2/5] END .C=0.001, penalty=l2, solver=lbfgs;, score=0.944 total time=   0.0s\n",
      "[CV 3/5] END .C=0.001, penalty=l2, solver=lbfgs;, score=0.911 total time=   0.0s\n",
      "[CV 5/5] END ..C=0.001, penalty=l2, solver=saga;, score=0.899 total time=   0.0s\n",
      "[CV 4/5] END .C=0.001, penalty=l2, solver=lbfgs;, score=0.899 total time=   0.0s\n",
      "[CV 1/5] END .C=0.001, penalty=l2, solver=lbfgs;, score=0.889 total time=   0.0s\n",
      "[CV 5/5] END .C=0.001, penalty=l2, solver=lbfgs;, score=0.899 total time=   0.0s\n",
      "[CV 1/5] END C=0.01, penalty=l1, solver=liblinear;, score=0.711 total time=   0.0s\n",
      "[CV 2/5] END C=0.01, penalty=l1, solver=liblinear;, score=0.756 total time=   0.0s\n",
      "[CV 5/5] END C=0.01, penalty=l1, solver=liblinear;, score=0.787 total time=   0.0s\n",
      "[CV 3/5] END C=0.01, penalty=l1, solver=liblinear;, score=0.722 total time=   0.0s\n",
      "[CV 4/5] END C=0.01, penalty=l1, solver=liblinear;, score=0.697 total time=   0.0s\n",
      "[CV 1/5] END ...C=0.01, penalty=l1, solver=saga;, score=0.889 total time=   0.0s\n",
      "[CV 2/5] END ...C=0.01, penalty=l1, solver=saga;, score=0.967 total time=   0.0s\n",
      "[CV 4/5] END ...C=0.01, penalty=l1, solver=saga;, score=0.888 total time=   0.0s\n",
      "[CV 3/5] END ...C=0.01, penalty=l1, solver=saga;, score=0.911 total time=   0.0s\n",
      "[CV 5/5] END ...C=0.01, penalty=l1, solver=saga;, score=0.899 total time=   0.0s\n",
      "[CV 3/5] END ...C=0.01, penalty=l2, solver=saga;, score=0.922 total time=   0.0s\n",
      "[CV 5/5] END ...C=0.01, penalty=l2, solver=saga;, score=0.910 total time=   0.0s\n",
      "[CV 1/5] END ..C=0.01, penalty=l2, solver=lbfgs;, score=0.911 total time=   0.0s\n",
      "[CV 1/5] END C=0.1, penalty=l1, solver=liblinear;, score=0.933 total time=   0.0s\n",
      "[CV 2/5] END C=0.1, penalty=l1, solver=liblinear;, score=0.933 total time=   0.0s\n",
      "[CV 4/5] END ...C=0.01, penalty=l2, solver=saga;, score=0.921 total time=   0.0s\n",
      "[CV 5/5] END C=0.1, penalty=l1, solver=liblinear;, score=0.899 total time=   0.0s\n",
      "[CV 2/5] END ....C=0.1, penalty=l1, solver=saga;, score=0.944 total time=   0.0s\n",
      "[CV 1/5] END ....C=0.1, penalty=l1, solver=saga;, score=0.933 total time=   0.0s\n",
      "[CV 1/5] END .....C=0.1, penalty=l1, solver=lbfgs;, score=nan total time=   0.0s\n",
      "[CV 2/5] END .....C=0.1, penalty=l1, solver=lbfgs;, score=nan total time=   0.0s\n",
      "[CV 3/5] END .....C=0.1, penalty=l1, solver=lbfgs;, score=nan total time=   0.0s\n",
      "[CV 4/5] END .....C=0.1, penalty=l1, solver=lbfgs;, score=nan total time=   0.0s\n",
      "[CV 5/5] END .....C=0.1, penalty=l1, solver=lbfgs;, score=nan total time=   0.0s\n",
      "[CV 1/5] END C=0.1, penalty=l2, solver=liblinear;, score=0.933 total time=   0.0s\n",
      "[CV 2/5] END C=0.1, penalty=l2, solver=liblinear;, score=0.944 total time=   0.0s"
     ]
    },
    {
     "name": "stderr",
     "output_type": "stream",
     "text": [
      "/home/leikrad/Projects/TAA/venv/lib/python3.11/site-packages/sklearn/linear_model/_sag.py:350: ConvergenceWarning: The max_iter was reached which means the coef_ did not converge\n",
      "  warnings.warn(\n",
      "/home/leikrad/Projects/TAA/venv/lib/python3.11/site-packages/sklearn/linear_model/_sag.py:350: ConvergenceWarning: The max_iter was reached which means the coef_ did not converge\n",
      "  warnings.warn(\n",
      "/home/leikrad/Projects/TAA/venv/lib/python3.11/site-packages/sklearn/linear_model/_sag.py:350: ConvergenceWarning: The max_iter was reached which means the coef_ did not converge\n",
      "  warnings.warn(\n",
      "/home/leikrad/Projects/TAA/venv/lib/python3.11/site-packages/sklearn/linear_model/_sag.py:350: ConvergenceWarning: The max_iter was reached which means the coef_ did not converge\n",
      "  warnings.warn(\n",
      "/home/leikrad/Projects/TAA/venv/lib/python3.11/site-packages/sklearn/linear_model/_sag.py:350: ConvergenceWarning: The max_iter was reached which means the coef_ did not converge\n",
      "  warnings.warn(\n",
      "/home/leikrad/Projects/TAA/venv/lib/python3.11/site-packages/sklearn/linear_model/_sag.py:350: ConvergenceWarning: The max_iter was reached which means the coef_ did not converge\n",
      "  warnings.warn(\n",
      "/home/leikrad/Projects/TAA/venv/lib/python3.11/site-packages/sklearn/linear_model/_sag.py:350: ConvergenceWarning: The max_iter was reached which means the coef_ did not converge\n",
      "  warnings.warn(\n",
      "/home/leikrad/Projects/TAA/venv/lib/python3.11/site-packages/sklearn/linear_model/_sag.py:350: ConvergenceWarning: The max_iter was reached which means the coef_ did not converge\n",
      "  warnings.warn(\n",
      "/home/leikrad/Projects/TAA/venv/lib/python3.11/site-packages/sklearn/linear_model/_sag.py:350: ConvergenceWarning: The max_iter was reached which means the coef_ did not converge\n",
      "  warnings.warn(\n",
      "/home/leikrad/Projects/TAA/venv/lib/python3.11/site-packages/sklearn/linear_model/_sag.py:350: ConvergenceWarning: The max_iter was reached which means the coef_ did not converge\n",
      "  warnings.warn(\n",
      "/home/leikrad/Projects/TAA/venv/lib/python3.11/site-packages/sklearn/linear_model/_sag.py:350: ConvergenceWarning: The max_iter was reached which means the coef_ did not converge\n",
      "  warnings.warn(\n",
      "/home/leikrad/Projects/TAA/venv/lib/python3.11/site-packages/sklearn/linear_model/_sag.py:350: ConvergenceWarning: The max_iter was reached which means the coef_ did not converge\n",
      "  warnings.warn(\n",
      "/home/leikrad/Projects/TAA/venv/lib/python3.11/site-packages/sklearn/linear_model/_sag.py:350: ConvergenceWarning: The max_iter was reached which means the coef_ did not converge\n",
      "  warnings.warn(\n",
      "/home/leikrad/Projects/TAA/venv/lib/python3.11/site-packages/sklearn/linear_model/_sag.py:350: ConvergenceWarning: The max_iter was reached which means the coef_ did not converge\n",
      "  warnings.warn(\n",
      "/home/leikrad/Projects/TAA/venv/lib/python3.11/site-packages/sklearn/linear_model/_sag.py:350: ConvergenceWarning: The max_iter was reached which means the coef_ did not converge\n",
      "  warnings.warn(\n",
      "/home/leikrad/Projects/TAA/venv/lib/python3.11/site-packages/sklearn/linear_model/_sag.py:350: ConvergenceWarning: The max_iter was reached which means the coef_ did not converge\n",
      "  warnings.warn(\n"
     ]
    },
    {
     "name": "stdout",
     "output_type": "stream",
     "text": [
      "[CV 3/5] END ....C=0.1, penalty=l1, solver=saga;, score=0.911 total time=   0.0s\n",
      "\n",
      "[CV 3/5] END C=0.1, penalty=l2, solver=liblinear;, score=0.911 total time=   0.0s\n",
      "[CV 4/5] END C=0.1, penalty=l2, solver=liblinear;, score=0.933 total time=   0.0s\n",
      "[CV 5/5] END C=0.1, penalty=l2, solver=liblinear;, score=0.933 total time=   0.0s\n",
      "[CV 1/5] END ....C=0.1, penalty=l2, solver=saga;, score=0.933 total time=   0.0s\n",
      "[CV 2/5] END ....C=0.1, penalty=l2, solver=saga;, score=0.978 total time=   0.0s\n",
      "[CV 5/5] END ....C=0.1, penalty=l2, solver=saga;, score=0.933 total time=   0.0s\n",
      "[CV 1/5] END ...C=0.1, penalty=l2, solver=lbfgs;, score=0.922 total time=   0.0s\n",
      "[CV 2/5] END ...C=0.1, penalty=l2, solver=lbfgs;, score=0.978 total time=   0.0s\n",
      "[CV 3/5] END ....C=0.1, penalty=l2, solver=saga;, score=0.922 total time=   0.0s\n",
      "[CV 3/5] END ...C=0.1, penalty=l2, solver=lbfgs;, score=0.922 total time=   0.0s\n",
      "[CV 4/5] END ...C=0.1, penalty=l2, solver=lbfgs;, score=0.933 total time=   0.0s\n",
      "[CV 5/5] END ...C=0.1, penalty=l2, solver=lbfgs;, score=0.944 total time=   0.0s\n",
      "[CV 4/5] END ....C=0.1, penalty=l2, solver=saga;, score=0.933 total time=   0.0s\n",
      "[CV 1/5] END .C=1, penalty=l1, solver=liblinear;, score=0.933 total time=   0.0s\n",
      "[CV 3/5] END .C=1, penalty=l1, solver=liblinear;, score=0.922 total time=   0.0s\n",
      "[CV 2/5] END .C=1, penalty=l1, solver=liblinear;, score=0.944 total time=   0.0s\n",
      "[CV 4/5] END .C=1, penalty=l1, solver=liblinear;, score=0.933 total time=   0.0s\n",
      "[CV 5/5] END .C=1, penalty=l1, solver=liblinear;, score=0.933 total time=   0.0s\n",
      "[CV 2/5] END ......C=1, penalty=l1, solver=saga;, score=0.956 total time=   0.0s\n",
      "[CV 1/5] END ......C=1, penalty=l1, solver=saga;, score=0.933 total time=   0.0s\n",
      "[CV 1/5] END .......C=1, penalty=l1, solver=lbfgs;, score=nan total time=   0.0s\n",
      "[CV 3/5] END ......C=1, penalty=l1, solver=saga;, score=0.922 total time=   0.0s\n",
      "[CV 2/5] END .......C=1, penalty=l1, solver=lbfgs;, score=nan total time=   0.0s\n",
      "[CV 3/5] END .......C=1, penalty=l1, solver=lbfgs;, score=nan total time=   0.0s\n",
      "[CV 4/5] END .......C=1, penalty=l1, solver=lbfgs;, score=nan total time=   0.0s\n",
      "[CV 5/5] END .......C=1, penalty=l1, solver=lbfgs;, score=nan total time=   0.0s\n",
      "[CV 1/5] END .C=1, penalty=l2, solver=liblinear;, score=0.933 total time=   0.0s\n",
      "[CV 2/5] END .C=1, penalty=l2, solver=liblinear;, score=0.944 total time=   0.0s\n",
      "[CV 3/5] END .C=1, penalty=l2, solver=liblinear;, score=0.922 total time=   0.0s\n",
      "[CV 4/5] END ......C=1, penalty=l1, solver=saga;, score=0.921 total time=   0.0s\n",
      "[CV 4/5] END .C=1, penalty=l2, solver=liblinear;, score=0.933 total time=   0.0s\n",
      "[CV 5/5] END .C=1, penalty=l2, solver=liblinear;, score=0.944 total time=   0.0s\n",
      "[CV 5/5] END ......C=1, penalty=l1, solver=saga;, score=0.933 total time=   0.0s\n",
      "[CV 1/5] END ......C=1, penalty=l2, solver=saga;, score=0.933 total time=   0.0s\n",
      "[CV 3/5] END ......C=1, penalty=l2, solver=saga;, score=0.922 total time=   0.0s\n",
      "[CV 2/5] END ......C=1, penalty=l2, solver=saga;, score=0.956 total time=   0.0s\n",
      "[CV 4/5] END ......C=1, penalty=l2, solver=saga;, score=0.921 total time=   0.0s"
     ]
    },
    {
     "name": "stderr",
     "output_type": "stream",
     "text": [
      "/home/leikrad/Projects/TAA/venv/lib/python3.11/site-packages/sklearn/linear_model/_sag.py:350: ConvergenceWarning: The max_iter was reached which means the coef_ did not converge\n",
      "  warnings.warn(\n",
      "/home/leikrad/Projects/TAA/venv/lib/python3.11/site-packages/sklearn/linear_model/_sag.py:350: ConvergenceWarning: The max_iter was reached which means the coef_ did not converge\n",
      "  warnings.warn(\n",
      "/home/leikrad/Projects/TAA/venv/lib/python3.11/site-packages/sklearn/linear_model/_sag.py:350: ConvergenceWarning: The max_iter was reached which means the coef_ did not converge\n",
      "  warnings.warn(\n",
      "/home/leikrad/Projects/TAA/venv/lib/python3.11/site-packages/sklearn/linear_model/_sag.py:350: ConvergenceWarning: The max_iter was reached which means the coef_ did not converge\n",
      "  warnings.warn(\n",
      "/home/leikrad/Projects/TAA/venv/lib/python3.11/site-packages/sklearn/linear_model/_sag.py:350: ConvergenceWarning: The max_iter was reached which means the coef_ did not converge\n",
      "  warnings.warn(\n",
      "/home/leikrad/Projects/TAA/venv/lib/python3.11/site-packages/sklearn/linear_model/_sag.py:350: ConvergenceWarning: The max_iter was reached which means the coef_ did not converge\n",
      "  warnings.warn(\n",
      "/home/leikrad/Projects/TAA/venv/lib/python3.11/site-packages/sklearn/linear_model/_sag.py:350: ConvergenceWarning: The max_iter was reached which means the coef_ did not converge\n",
      "  warnings.warn(\n",
      "/home/leikrad/Projects/TAA/venv/lib/python3.11/site-packages/sklearn/linear_model/_sag.py:350: ConvergenceWarning: The max_iter was reached which means the coef_ did not converge\n",
      "  warnings.warn(\n",
      "/home/leikrad/Projects/TAA/venv/lib/python3.11/site-packages/sklearn/linear_model/_sag.py:350: ConvergenceWarning: The max_iter was reached which means the coef_ did not converge\n",
      "  warnings.warn(\n",
      "/home/leikrad/Projects/TAA/venv/lib/python3.11/site-packages/sklearn/linear_model/_sag.py:350: ConvergenceWarning: The max_iter was reached which means the coef_ did not converge\n",
      "  warnings.warn(\n",
      "/home/leikrad/Projects/TAA/venv/lib/python3.11/site-packages/sklearn/linear_model/_sag.py:350: ConvergenceWarning: The max_iter was reached which means the coef_ did not converge\n",
      "  warnings.warn(\n",
      "/home/leikrad/Projects/TAA/venv/lib/python3.11/site-packages/sklearn/linear_model/_sag.py:350: ConvergenceWarning: The max_iter was reached which means the coef_ did not converge\n",
      "  warnings.warn(\n",
      "/home/leikrad/Projects/TAA/venv/lib/python3.11/site-packages/sklearn/linear_model/_sag.py:350: ConvergenceWarning: The max_iter was reached which means the coef_ did not converge\n",
      "  warnings.warn(\n",
      "/home/leikrad/Projects/TAA/venv/lib/python3.11/site-packages/sklearn/linear_model/_sag.py:350: ConvergenceWarning: The max_iter was reached which means the coef_ did not converge\n",
      "  warnings.warn(\n"
     ]
    },
    {
     "name": "stdout",
     "output_type": "stream",
     "text": [
      "\n",
      "[CV 2/5] END .....C=1, penalty=l2, solver=lbfgs;, score=0.933 total time=   0.0s\n",
      "[CV 3/5] END .....C=1, penalty=l2, solver=lbfgs;, score=0.922 total time=   0.0s\n",
      "[CV 5/5] END ......C=1, penalty=l2, solver=saga;, score=0.933 total time=   0.0s\n",
      "[CV 4/5] END .....C=1, penalty=l2, solver=lbfgs;, score=0.933 total time=   0.0s\n",
      "[CV 1/5] END .....C=1, penalty=l2, solver=lbfgs;, score=0.933 total time=   0.0s\n",
      "[CV 5/5] END .....C=1, penalty=l2, solver=lbfgs;, score=0.944 total time=   0.0s\n",
      "[CV 1/5] END C=10, penalty=l1, solver=liblinear;, score=0.922 total time=   0.0s\n",
      "[CV 2/5] END C=10, penalty=l1, solver=liblinear;, score=0.933 total time=   0.0s\n",
      "[CV 3/5] END C=10, penalty=l1, solver=liblinear;, score=0.933 total time=   0.0s\n",
      "[CV 4/5] END C=10, penalty=l1, solver=liblinear;, score=0.910 total time=   0.0s\n",
      "[CV 5/5] END C=10, penalty=l1, solver=liblinear;, score=0.944 total time=   0.0s\n",
      "[CV 1/5] END .....C=10, penalty=l1, solver=saga;, score=0.933 total time=   0.0s\n",
      "[CV 3/5] END .....C=10, penalty=l1, solver=saga;, score=0.922 total time=   0.0s\n",
      "[CV 2/5] END .....C=10, penalty=l1, solver=saga;, score=0.956 total time=   0.0s\n",
      "[CV 5/5] END .....C=10, penalty=l1, solver=saga;, score=0.933 total time=   0.0s[CV 4/5] END .....C=10, penalty=l1, solver=saga;, score=0.921 total time=   0.0s\n",
      "\n",
      "[CV 1/5] END ......C=10, penalty=l1, solver=lbfgs;, score=nan total time=   0.0s\n",
      "[CV 2/5] END ......C=10, penalty=l1, solver=lbfgs;, score=nan total time=   0.0s\n",
      "[CV 3/5] END ......C=10, penalty=l1, solver=lbfgs;, score=nan total time=   0.0s\n",
      "[CV 4/5] END ......C=10, penalty=l1, solver=lbfgs;, score=nan total time=   0.0s\n",
      "[CV 5/5] END ......C=10, penalty=l1, solver=lbfgs;, score=nan total time=   0.0s\n",
      "[CV 2/5] END C=10, penalty=l2, solver=liblinear;, score=0.933 total time=   0.0s[CV 1/5] END C=10, penalty=l2, solver=liblinear;, score=0.922 total time=   0.0s\n",
      "\n",
      "[CV 3/5] END C=10, penalty=l2, solver=liblinear;, score=0.922 total time=   0.0s\n",
      "[CV 4/5] END C=10, penalty=l2, solver=liblinear;, score=0.910 total time=   0.0s\n",
      "[CV 5/5] END C=10, penalty=l2, solver=liblinear;, score=0.933 total time=   0.0s\n",
      "[CV 1/5] END .....C=10, penalty=l2, solver=saga;, score=0.933 total time=   0.0s\n",
      "[CV 5/5] END ....C=0.01, penalty=l1, solver=lbfgs;, score=nan total time=   0.0s[CV 2/5] END .....C=10, penalty=l2, solver=saga;, score=0.956 total time=   0.0s\n",
      "\n",
      "[CV 2/5] END ..C=0.01, penalty=l2, solver=lbfgs;, score=0.978 total time=   0.0s\n",
      "[CV 3/5] END .....C=10, penalty=l2, solver=saga;, score=0.922 total time=   0.0s\n",
      "[CV 1/5] END C=0.01, penalty=l2, solver=liblinear;, score=0.933 total time=   0.0s\n",
      "[CV 3/5] END ..C=0.01, penalty=l2, solver=lbfgs;, score=0.933 total time=   0.0s\n",
      "[CV 4/5] END C=0.01, penalty=l2, solver=liblinear;, score=0.910 total time=   0.0s\n",
      "[CV 1/5] END ....C=0.01, penalty=l1, solver=lbfgs;, score=nan total time=   0.0s\n",
      "[CV 5/5] END C=0.01, penalty=l2, solver=liblinear;, score=0.955 total time=   0.0s\n",
      "[CV 2/5] END ....C=0.01, penalty=l1, solver=lbfgs;, score=nan total time=   0.0s\n",
      "[CV 4/5] END .....C=10, penalty=l2, solver=saga;, score=0.921 total time=   0.0s[CV 1/5] END ...C=0.01, penalty=l2, solver=saga;, score=0.933 total time=   0.0s\n",
      "\n",
      "[CV 3/5] END C=0.1, penalty=l1, solver=liblinear;, score=0.911 total time=   0.0s\n",
      "[CV 4/5] END ..C=0.01, penalty=l2, solver=lbfgs;, score=0.910 total time=   0.0s\n",
      "[CV 4/5] END C=0.1, penalty=l1, solver=liblinear;, score=0.933 total time=   0.0s\n",
      "[CV 2/5] END C=0.01, penalty=l2, solver=liblinear;, score=0.944 total time=   0.0s\n"
     ]
    },
    {
     "name": "stderr",
     "output_type": "stream",
     "text": [
      "/home/leikrad/Projects/TAA/venv/lib/python3.11/site-packages/sklearn/linear_model/_sag.py:350: ConvergenceWarning: The max_iter was reached which means the coef_ did not converge\n",
      "  warnings.warn(\n",
      "/home/leikrad/Projects/TAA/venv/lib/python3.11/site-packages/sklearn/linear_model/_sag.py:350: ConvergenceWarning: The max_iter was reached which means the coef_ did not converge\n",
      "  warnings.warn(\n",
      "/home/leikrad/Projects/TAA/venv/lib/python3.11/site-packages/sklearn/linear_model/_sag.py:350: ConvergenceWarning: The max_iter was reached which means the coef_ did not converge\n",
      "  warnings.warn(\n",
      "/home/leikrad/Projects/TAA/venv/lib/python3.11/site-packages/sklearn/linear_model/_sag.py:350: ConvergenceWarning: The max_iter was reached which means the coef_ did not converge\n",
      "  warnings.warn(\n",
      "/home/leikrad/Projects/TAA/venv/lib/python3.11/site-packages/sklearn/linear_model/_sag.py:350: ConvergenceWarning: The max_iter was reached which means the coef_ did not converge\n",
      "  warnings.warn(\n",
      "/home/leikrad/Projects/TAA/venv/lib/python3.11/site-packages/sklearn/linear_model/_sag.py:350: ConvergenceWarning: The max_iter was reached which means the coef_ did not converge\n",
      "  warnings.warn(\n",
      "/home/leikrad/Projects/TAA/venv/lib/python3.11/site-packages/sklearn/linear_model/_sag.py:350: ConvergenceWarning: The max_iter was reached which means the coef_ did not converge\n",
      "  warnings.warn(\n",
      "/home/leikrad/Projects/TAA/venv/lib/python3.11/site-packages/sklearn/linear_model/_sag.py:350: ConvergenceWarning: The max_iter was reached which means the coef_ did not converge\n",
      "  warnings.warn(\n",
      "/home/leikrad/Projects/TAA/venv/lib/python3.11/site-packages/sklearn/linear_model/_sag.py:350: ConvergenceWarning: The max_iter was reached which means the coef_ did not converge\n",
      "  warnings.warn(\n",
      "/home/leikrad/Projects/TAA/venv/lib/python3.11/site-packages/sklearn/linear_model/_sag.py:350: ConvergenceWarning: The max_iter was reached which means the coef_ did not converge\n",
      "  warnings.warn(\n",
      "/home/leikrad/Projects/TAA/venv/lib/python3.11/site-packages/sklearn/linear_model/_sag.py:350: ConvergenceWarning: The max_iter was reached which means the coef_ did not converge\n",
      "  warnings.warn(\n",
      "/home/leikrad/Projects/TAA/venv/lib/python3.11/site-packages/sklearn/linear_model/_sag.py:350: ConvergenceWarning: The max_iter was reached which means the coef_ did not converge\n",
      "  warnings.warn(\n",
      "/home/leikrad/Projects/TAA/venv/lib/python3.11/site-packages/sklearn/linear_model/_sag.py:350: ConvergenceWarning: The max_iter was reached which means the coef_ did not converge\n",
      "  warnings.warn(\n"
     ]
    },
    {
     "name": "stdout",
     "output_type": "stream",
     "text": [
      "[CV 5/5] END ..C=0.01, penalty=l2, solver=lbfgs;, score=0.899 total time=   0.0s\n",
      "[CV 3/5] END C=0.01, penalty=l2, solver=liblinear;, score=0.911 total time=   0.0s\n",
      "[CV 1/5] END ....C=10, penalty=l2, solver=lbfgs;, score=0.922 total time=   0.0s\n",
      "[CV 5/5] END .....C=10, penalty=l2, solver=saga;, score=0.933 total time=   0.0s\n",
      "[CV 2/5] END ...C=0.01, penalty=l2, solver=saga;, score=0.978 total time=   0.0s\n",
      "[CV 2/5] END ....C=10, penalty=l2, solver=lbfgs;, score=0.933 total time=   0.0s\n",
      "[CV 3/5] END ....C=10, penalty=l2, solver=lbfgs;, score=0.922 total time=   0.0s\n",
      "[CV 3/5] END ....C=0.01, penalty=l1, solver=lbfgs;, score=nan total time=   0.0s\n",
      "[CV 4/5] END ....C=10, penalty=l2, solver=lbfgs;, score=0.910 total time=   0.0s\n",
      "[CV 4/5] END ....C=0.01, penalty=l1, solver=lbfgs;, score=nan total time=   0.0s\n",
      "[CV 4/5] END ....C=0.1, penalty=l1, solver=saga;, score=0.933 total time=   0.0s\n",
      "[CV 5/5] END ....C=10, penalty=l2, solver=lbfgs;, score=0.933 total time=   0.0s\n",
      "[CV 5/5] END ....C=0.1, penalty=l1, solver=saga;, score=0.921 total time=   0.0s\n",
      "[CV 2/5] END C=100, penalty=l1, solver=liblinear;, score=0.922 total time=   0.0s[CV 4/5] END C=100, penalty=l1, solver=liblinear;, score=0.888 total time=   0.0s\n",
      "\n",
      "[CV 1/5] END C=100, penalty=l1, solver=liblinear;, score=0.911 total time=   0.0s\n",
      "[CV 1/5] END .....C=100, penalty=l1, solver=lbfgs;, score=nan total time=   0.0s\n",
      "[CV 2/5] END .....C=100, penalty=l1, solver=lbfgs;, score=nan total time=   0.0s\n",
      "[CV 3/5] END .....C=100, penalty=l1, solver=lbfgs;, score=nan total time=   0.0s\n",
      "[CV 4/5] END .....C=100, penalty=l1, solver=lbfgs;, score=nan total time=   0.0s\n",
      "[CV 5/5] END .....C=100, penalty=l1, solver=lbfgs;, score=nan total time=   0.0s\n",
      "[CV 1/5] END C=100, penalty=l2, solver=liblinear;, score=0.911 total time=   0.0s\n",
      "[CV 2/5] END C=100, penalty=l2, solver=liblinear;, score=0.933 total time=   0.0s[CV 3/5] END C=100, penalty=l1, solver=liblinear;, score=0.944 total time=   0.0s\n",
      "\n",
      "[CV 3/5] END C=100, penalty=l2, solver=liblinear;, score=0.944 total time=   0.0s[CV 5/5] END C=100, penalty=l1, solver=liblinear;, score=0.933 total time=   0.0s\n",
      "\n",
      "[CV 1/5] END ....C=100, penalty=l1, solver=saga;, score=0.933 total time=   0.0s\n",
      "[CV 2/5] END ....C=100, penalty=l1, solver=saga;, score=0.956 total time=   0.0s\n",
      "[CV 3/5] END ....C=100, penalty=l1, solver=saga;, score=0.922 total time=   0.0s\n",
      "[CV 4/5] END ....C=100, penalty=l1, solver=saga;, score=0.921 total time=   0.0s\n",
      "[CV 5/5] END C=100, penalty=l2, solver=liblinear;, score=0.921 total time=   0.0s\n",
      "[CV 5/5] END ....C=100, penalty=l1, solver=saga;, score=0.933 total time=   0.0s\n",
      "[CV 4/5] END C=100, penalty=l2, solver=liblinear;, score=0.888 total time=   0.0s\n",
      "[CV 2/5] END ...C=100, penalty=l2, solver=lbfgs;, score=0.933 total time=   0.0s\n",
      "[CV 1/5] END ...C=100, penalty=l2, solver=lbfgs;, score=0.900 total time=   0.0s\n",
      "[CV 3/5] END ...C=100, penalty=l2, solver=lbfgs;, score=0.944 total time=   0.0s\n",
      "[CV 4/5] END ...C=100, penalty=l2, solver=lbfgs;, score=0.888 total time=   0.0s\n",
      "[CV 1/5] END ....C=100, penalty=l2, solver=saga;, score=0.933 total time=   0.0s\n",
      "[CV 4/5] END ....C=100, penalty=l2, solver=saga;, score=0.921 total time=   0.0s\n",
      "[CV 5/5] END ....C=100, penalty=l2, solver=saga;, score=0.933 total time=   0.0s\n",
      "[CV 2/5] END ....C=100, penalty=l2, solver=saga;, score=0.956 total time=   0.0s\n",
      "[CV 3/5] END ....C=100, penalty=l2, solver=saga;, score=0.922 total time=   0.0s\n",
      "[CV 5/5] END ...C=100, penalty=l2, solver=lbfgs;, score=0.921 total time=   0.0s\n",
      "[CV 4/5] END C=1000, penalty=l1, solver=liblinear;, score=0.888 total time=   0.0s\n",
      "[CV 1/5] END ....C=1000, penalty=l1, solver=lbfgs;, score=nan total time=   0.0s\n",
      "[CV 2/5] END ....C=1000, penalty=l1, solver=lbfgs;, score=nan total time=   0.0s\n",
      "[CV 4/5] END ....C=1000, penalty=l1, solver=lbfgs;, score=nan total time=   0.0s\n",
      "[CV 2/5] END C=1000, penalty=l1, solver=liblinear;, score=0.922 total time=   0.0s\n",
      "[CV 5/5] END ....C=1000, penalty=l1, solver=lbfgs;, score=nan total time=   0.0s\n",
      "[CV 3/5] END ....C=1000, penalty=l1, solver=lbfgs;, score=nan total time=   0.0s\n",
      "[CV 5/5] END C=1000, penalty=l1, solver=liblinear;, score=0.933 total time=   0.0s\n",
      "[CV 2/5] END C=1000, penalty=l2, solver=liblinear;, score=0.922 total time=   0.0s\n",
      "[CV 1/5] END ...C=1000, penalty=l1, solver=saga;, score=0.933 total time=   0.0s\n",
      "[CV 1/5] END C=1000, penalty=l2, solver=liblinear;, score=0.900 total time=   0.0s\n",
      "[CV 3/5] END C=1000, penalty=l2, solver=liblinear;, score=0.944 total time=   0.0s\n",
      "[CV 2/5] END ...C=1000, penalty=l1, solver=saga;, score=0.956 total time=   0.0s\n",
      "[CV 3/5] END ...C=1000, penalty=l1, solver=saga;, score=0.922 total time=   0.0s\n",
      "[CV 4/5] END ...C=1000, penalty=l1, solver=saga;, score=0.921 total time=   0.0s\n",
      "[CV 5/5] END ...C=1000, penalty=l1, solver=saga;, score=0.933 total time=   0.0s\n",
      "[CV 4/5] END C=1000, penalty=l2, solver=liblinear;, score=0.921 total time=   0.0s\n",
      "[CV 1/5] END C=1000, penalty=l1, solver=liblinear;, score=0.922 total time=   0.0s\n",
      "[CV 5/5] END C=1000, penalty=l2, solver=liblinear;, score=0.933 total time=   0.0s\n",
      "[CV 2/5] END ..C=1000, penalty=l2, solver=lbfgs;, score=0.922 total time=   0.0s\n",
      "[CV 2/5] END ...C=1000, penalty=l2, solver=saga;, score=0.956 total time=   0.0s\n",
      "[CV 3/5] END ..C=1000, penalty=l2, solver=lbfgs;, score=0.944 total time=   0.0s\n",
      "[CV 4/5] END ...C=1000, penalty=l2, solver=saga;, score=0.921 total time=   0.0s\n",
      "[CV 1/5] END ...C=1000, penalty=l2, solver=saga;, score=0.933 total time=   0.0s\n",
      "[CV 3/5] END ...C=1000, penalty=l2, solver=saga;, score=0.922 total time=   0.0s\n",
      "[CV 5/5] END ...C=1000, penalty=l2, solver=saga;, score=0.933 total time=   0.0s\n",
      "[CV 5/5] END ..C=1000, penalty=l2, solver=lbfgs;, score=0.921 total time=   0.0s\n",
      "[CV 1/5] END ..C=1000, penalty=l2, solver=lbfgs;, score=0.900 total time=   0.0s\n",
      "[CV 4/5] END ..C=1000, penalty=l2, solver=lbfgs;, score=0.899 total time=   0.0s\n",
      "[CV 3/5] END C=1000, penalty=l1, solver=liblinear;, score=0.944 total time=   0.1s\n",
      "Best hyperparameters: {'C': 0.1, 'penalty': 'l2', 'solver': 'lbfgs'}\n",
      "Best score: 0.9397253433208489\n"
     ]
    },
    {
     "name": "stderr",
     "output_type": "stream",
     "text": [
      "/home/leikrad/Projects/TAA/venv/lib/python3.11/site-packages/sklearn/linear_model/_sag.py:350: ConvergenceWarning: The max_iter was reached which means the coef_ did not converge\n",
      "  warnings.warn(\n",
      "/home/leikrad/Projects/TAA/venv/lib/python3.11/site-packages/sklearn/linear_model/_sag.py:350: ConvergenceWarning: The max_iter was reached which means the coef_ did not converge\n",
      "  warnings.warn(\n",
      "/home/leikrad/Projects/TAA/venv/lib/python3.11/site-packages/sklearn/linear_model/_sag.py:350: ConvergenceWarning: The max_iter was reached which means the coef_ did not converge\n",
      "  warnings.warn(\n",
      "/home/leikrad/Projects/TAA/venv/lib/python3.11/site-packages/sklearn/linear_model/_sag.py:350: ConvergenceWarning: The max_iter was reached which means the coef_ did not converge\n",
      "  warnings.warn(\n",
      "/home/leikrad/Projects/TAA/venv/lib/python3.11/site-packages/sklearn/linear_model/_sag.py:350: ConvergenceWarning: The max_iter was reached which means the coef_ did not converge\n",
      "  warnings.warn(\n",
      "/home/leikrad/Projects/TAA/venv/lib/python3.11/site-packages/sklearn/linear_model/_sag.py:350: ConvergenceWarning: The max_iter was reached which means the coef_ did not converge\n",
      "  warnings.warn(\n",
      "/home/leikrad/Projects/TAA/venv/lib/python3.11/site-packages/sklearn/linear_model/_sag.py:350: ConvergenceWarning: The max_iter was reached which means the coef_ did not converge\n",
      "  warnings.warn(\n",
      "/home/leikrad/Projects/TAA/venv/lib/python3.11/site-packages/sklearn/linear_model/_sag.py:350: ConvergenceWarning: The max_iter was reached which means the coef_ did not converge\n",
      "  warnings.warn(\n",
      "/home/leikrad/Projects/TAA/venv/lib/python3.11/site-packages/sklearn/linear_model/_sag.py:350: ConvergenceWarning: The max_iter was reached which means the coef_ did not converge\n",
      "  warnings.warn(\n",
      "/home/leikrad/Projects/TAA/venv/lib/python3.11/site-packages/sklearn/linear_model/_sag.py:350: ConvergenceWarning: The max_iter was reached which means the coef_ did not converge\n",
      "  warnings.warn(\n",
      "/home/leikrad/Projects/TAA/venv/lib/python3.11/site-packages/sklearn/linear_model/_sag.py:350: ConvergenceWarning: The max_iter was reached which means the coef_ did not converge\n",
      "  warnings.warn(\n",
      "/home/leikrad/Projects/TAA/venv/lib/python3.11/site-packages/sklearn/linear_model/_sag.py:350: ConvergenceWarning: The max_iter was reached which means the coef_ did not converge\n",
      "  warnings.warn(\n",
      "/home/leikrad/Projects/TAA/venv/lib/python3.11/site-packages/sklearn/linear_model/_sag.py:350: ConvergenceWarning: The max_iter was reached which means the coef_ did not converge\n",
      "  warnings.warn(\n",
      "/home/leikrad/Projects/TAA/venv/lib/python3.11/site-packages/sklearn/linear_model/_sag.py:350: ConvergenceWarning: The max_iter was reached which means the coef_ did not converge\n",
      "  warnings.warn(\n",
      "/home/leikrad/Projects/TAA/venv/lib/python3.11/site-packages/sklearn/linear_model/_sag.py:350: ConvergenceWarning: The max_iter was reached which means the coef_ did not converge\n",
      "  warnings.warn(\n",
      "/home/leikrad/Projects/TAA/venv/lib/python3.11/site-packages/sklearn/linear_model/_sag.py:350: ConvergenceWarning: The max_iter was reached which means the coef_ did not converge\n",
      "  warnings.warn(\n",
      "/home/leikrad/Projects/TAA/venv/lib/python3.11/site-packages/sklearn/linear_model/_sag.py:350: ConvergenceWarning: The max_iter was reached which means the coef_ did not converge\n",
      "  warnings.warn(\n",
      "/home/leikrad/Projects/TAA/venv/lib/python3.11/site-packages/sklearn/linear_model/_sag.py:350: ConvergenceWarning: The max_iter was reached which means the coef_ did not converge\n",
      "  warnings.warn(\n",
      "/home/leikrad/Projects/TAA/venv/lib/python3.11/site-packages/sklearn/linear_model/_sag.py:350: ConvergenceWarning: The max_iter was reached which means the coef_ did not converge\n",
      "  warnings.warn(\n",
      "/home/leikrad/Projects/TAA/venv/lib/python3.11/site-packages/sklearn/linear_model/_sag.py:350: ConvergenceWarning: The max_iter was reached which means the coef_ did not converge\n",
      "  warnings.warn(\n",
      "/home/leikrad/Projects/TAA/venv/lib/python3.11/site-packages/sklearn/linear_model/_sag.py:350: ConvergenceWarning: The max_iter was reached which means the coef_ did not converge\n",
      "  warnings.warn(\n",
      "/home/leikrad/Projects/TAA/venv/lib/python3.11/site-packages/sklearn/linear_model/_sag.py:350: ConvergenceWarning: The max_iter was reached which means the coef_ did not converge\n",
      "  warnings.warn(\n",
      "/home/leikrad/Projects/TAA/venv/lib/python3.11/site-packages/sklearn/linear_model/_logistic.py:469: ConvergenceWarning: lbfgs failed to converge (status=1):\n",
      "STOP: TOTAL NO. of ITERATIONS REACHED LIMIT.\n",
      "\n",
      "Increase the number of iterations (max_iter) or scale the data as shown in:\n",
      "    https://scikit-learn.org/stable/modules/preprocessing.html\n",
      "Please also refer to the documentation for alternative solver options:\n",
      "    https://scikit-learn.org/stable/modules/linear_model.html#logistic-regression\n",
      "  n_iter_i = _check_optimize_result(\n",
      "/home/leikrad/Projects/TAA/venv/lib/python3.11/site-packages/sklearn/model_selection/_validation.py:547: FitFailedWarning: \n",
      "35 fits failed out of a total of 210.\n",
      "The score on these train-test partitions for these parameters will be set to nan.\n",
      "If these failures are not expected, you can try to debug them by setting error_score='raise'.\n",
      "\n",
      "Below are more details about the failures:\n",
      "--------------------------------------------------------------------------------\n",
      "35 fits failed with the following error:\n",
      "Traceback (most recent call last):\n",
      "  File \"/home/leikrad/Projects/TAA/venv/lib/python3.11/site-packages/sklearn/model_selection/_validation.py\", line 895, in _fit_and_score\n",
      "    estimator.fit(X_train, y_train, **fit_params)\n",
      "  File \"/home/leikrad/Projects/TAA/venv/lib/python3.11/site-packages/sklearn/base.py\", line 1474, in wrapper\n",
      "    return fit_method(estimator, *args, **kwargs)\n",
      "           ^^^^^^^^^^^^^^^^^^^^^^^^^^^^^^^^^^^^^^\n",
      "  File \"/home/leikrad/Projects/TAA/venv/lib/python3.11/site-packages/sklearn/linear_model/_logistic.py\", line 1172, in fit\n",
      "    solver = _check_solver(self.solver, self.penalty, self.dual)\n",
      "             ^^^^^^^^^^^^^^^^^^^^^^^^^^^^^^^^^^^^^^^^^^^^^^^^^^^\n",
      "  File \"/home/leikrad/Projects/TAA/venv/lib/python3.11/site-packages/sklearn/linear_model/_logistic.py\", line 67, in _check_solver\n",
      "    raise ValueError(\n",
      "ValueError: Solver lbfgs supports only 'l2' or None penalties, got l1 penalty.\n",
      "\n",
      "  warnings.warn(some_fits_failed_message, FitFailedWarning)\n",
      "/home/leikrad/Projects/TAA/venv/lib/python3.11/site-packages/sklearn/model_selection/_search.py:1051: UserWarning: One or more of the test scores are non-finite: [0.5        0.5               nan 0.91972534 0.91066167 0.90843945\n",
      " 0.73440699 0.9106367         nan 0.93081149 0.9329588  0.9262422\n",
      " 0.92184769 0.92856429        nan 0.93081149 0.93970037 0.93972534\n",
      " 0.93303371 0.93300874        nan 0.9352809  0.93300874 0.93305868\n",
      " 0.92856429 0.93300874        nan 0.92409488 0.93300874 0.92409488\n",
      " 0.9196005  0.93300874        nan 0.91957553 0.93300874 0.91735331\n",
      " 0.92182272 0.93300874        nan 0.92411985 0.93300874 0.91737828]\n",
      "  warnings.warn(\n"
     ]
    },
    {
     "name": "stdout",
     "output_type": "stream",
     "text": [
      "Accuracy: 0.969302697778033\n"
     ]
    }
   ],
   "source": [
    "from sklearn.linear_model import LogisticRegression\n",
    "from sklearn.model_selection import GridSearchCV\n",
    "\n",
    "# Create logistic regression\n",
    "log_reg = LogisticRegression()\n",
    "\n",
    "gridSearch = GridSearchCV(log_reg, param_grid,refit=True, verbose=3, scoring=\"accuracy\" ,cv=5,n_jobs=-1,return_train_score=False)\n",
    "\n",
    "# Under sampled set\n",
    "X_train = np.load(f'{base_dir}/under_sampled_X_train.npy')\n",
    "y_train = np.load(f'{base_dir}/under_sampled_y_train.npy')\n",
    "\n",
    "# cant concatenate the validation set because it is not under sampled\n",
    "\n",
    "y_train = y_train.ravel()\n",
    "\n",
    "gridSearch.fit(X_train, y_train)\n",
    "\n",
    "# Get the best model\n",
    "best_model = gridSearch.best_estimator_\n",
    "\n",
    "# Get the best hyperparameters\n",
    "best_hyperparams = gridSearch.best_params_\n",
    "\n",
    "# Get the best score\n",
    "\n",
    "best_score = gridSearch.best_score_\n",
    "\n",
    "print(f'Best hyperparameters: {best_hyperparams}')\n",
    "print(f'Best score: {best_score}')\n",
    "\n",
    "# Predict the test set\n",
    "y_pred = best_model.predict(X_test)\n",
    "\n",
    "# Calculate the accuracy\n",
    "accuracy = np.mean(y_pred == y_test)\n",
    "print(f'Accuracy: {accuracy}')\n",
    "\n",
    "os.makedirs(output_dir + '/under_sampled_no_selection', exist_ok=True)\n",
    "\n",
    "output = f'{output_dir}/under_sampled_no_selection/'\n",
    "\n",
    "# Save the model\n",
    "import joblib\n",
    "joblib.dump(best_model, f'{output}/model.pkl')\n",
    "\n",
    "# Save the best hyperparameters\n",
    "import json\n",
    "with open(f'{output}/best_hyperparams.json', 'w') as f:\n",
    "    json.dump(best_hyperparams, f)\n",
    "\n",
    "# Save the accuracy\n",
    "with open(f'{output}/accuracy.txt', 'w') as f:\n",
    "    f.write(str(accuracy))\n",
    "\n",
    "# convert to pandas dataframe\n",
    "df = pd.DataFrame(gridSearch.cv_results_)\n",
    "\n",
    "# save to csv\n",
    "df.to_csv(f'{output}/cv_results.csv', index=False)"
   ]
  },
  {
   "cell_type": "markdown",
   "metadata": {},
   "source": [
    "## Over Sampling - No Selection"
   ]
  },
  {
   "cell_type": "code",
   "execution_count": 33,
   "metadata": {},
   "outputs": [
    {
     "name": "stdout",
     "output_type": "stream",
     "text": [
      "Fitting 5 folds for each of 42 candidates, totalling 210 fits\n",
      "[CV 1/5] END ...C=0.001, penalty=l1, solver=lbfgs;, score=nan total time=   0.2s\n",
      "[CV 2/5] END ...C=0.001, penalty=l1, solver=lbfgs;, score=nan total time=   0.2s\n",
      "[CV 3/5] END ...C=0.001, penalty=l1, solver=lbfgs;, score=nan total time=   0.1s\n",
      "[CV 4/5] END ...C=0.001, penalty=l1, solver=lbfgs;, score=nan total time=   0.1s\n",
      "[CV 5/5] END ...C=0.001, penalty=l1, solver=lbfgs;, score=nan total time=   0.1s\n",
      "[CV 2/5] END C=0.001, penalty=l1, solver=liblinear;, score=0.945 total time=   2.2s\n",
      "[CV 4/5] END C=0.001, penalty=l1, solver=liblinear;, score=0.946 total time=   2.9s\n",
      "[CV 5/5] END C=0.001, penalty=l1, solver=liblinear;, score=0.945 total time=   3.0s\n",
      "[CV 3/5] END C=0.001, penalty=l1, solver=liblinear;, score=0.945 total time=   3.0s\n",
      "[CV 1/5] END C=0.001, penalty=l1, solver=liblinear;, score=0.945 total time=   3.1s\n",
      "[CV 1/5] END C=0.001, penalty=l2, solver=liblinear;, score=0.947 total time=   3.6s\n",
      "[CV 2/5] END C=0.001, penalty=l2, solver=liblinear;, score=0.948 total time=   3.6s\n",
      "[CV 3/5] END C=0.001, penalty=l2, solver=liblinear;, score=0.949 total time=   2.2s\n",
      "[CV 5/5] END C=0.001, penalty=l2, solver=liblinear;, score=0.948 total time=   1.9s\n",
      "[CV 4/5] END C=0.001, penalty=l2, solver=liblinear;, score=0.949 total time=   1.9s\n",
      "[CV 2/5] END ..C=0.001, penalty=l1, solver=saga;, score=0.945 total time=   5.2s\n",
      "[CV 4/5] END ..C=0.001, penalty=l1, solver=saga;, score=0.946 total time=   5.5s\n",
      "[CV 2/5] END .C=0.001, penalty=l2, solver=lbfgs;, score=0.949 total time=   0.7s\n",
      "[CV 1/5] END .C=0.001, penalty=l2, solver=lbfgs;, score=0.948 total time=   0.8s\n",
      "[CV 3/5] END .C=0.001, penalty=l2, solver=lbfgs;, score=0.950 total time=   0.8s\n",
      "[CV 4/5] END .C=0.001, penalty=l2, solver=lbfgs;, score=0.950 total time=   0.9s\n",
      "[CV 5/5] END .C=0.001, penalty=l2, solver=lbfgs;, score=0.949 total time=   0.9s\n",
      "[CV 5/5] END ..C=0.001, penalty=l1, solver=saga;, score=0.945 total time=   6.6s\n",
      "[CV 3/5] END ..C=0.001, penalty=l1, solver=saga;, score=0.945 total time=   6.7s\n",
      "[CV 1/5] END ..C=0.001, penalty=l1, solver=saga;, score=0.945 total time=   6.8s\n",
      "[CV 2/5] END ..C=0.001, penalty=l2, solver=saga;, score=0.949 total time=   6.7s\n",
      "[CV 1/5] END C=0.01, penalty=l1, solver=liblinear;, score=0.956 total time=   4.8s\n",
      "[CV 4/5] END C=0.01, penalty=l1, solver=liblinear;, score=0.955 total time=   4.4s\n",
      "[CV 3/5] END C=0.01, penalty=l1, solver=liblinear;, score=0.955 total time=   4.9s\n",
      "[CV 1/5] END ....C=0.01, penalty=l1, solver=lbfgs;, score=nan total time=   0.0s\n",
      "[CV 2/5] END ....C=0.01, penalty=l1, solver=lbfgs;, score=nan total time=   0.0s\n",
      "[CV 3/5] END ....C=0.01, penalty=l1, solver=lbfgs;, score=nan total time=   0.0s\n",
      "[CV 4/5] END ....C=0.01, penalty=l1, solver=lbfgs;, score=nan total time=   0.0s\n",
      "[CV 5/5] END ....C=0.01, penalty=l1, solver=lbfgs;, score=nan total time=   0.0s\n",
      "[CV 5/5] END C=0.01, penalty=l1, solver=liblinear;, score=0.952 total time=   4.9s\n",
      "[CV 2/5] END C=0.01, penalty=l1, solver=liblinear;, score=0.953 total time=   5.6s\n",
      "[CV 1/5] END ..C=0.001, penalty=l2, solver=saga;, score=0.948 total time=  10.3s\n",
      "[CV 5/5] END ..C=0.001, penalty=l2, solver=saga;, score=0.949 total time=   9.3s\n",
      "[CV 1/5] END C=0.01, penalty=l2, solver=liblinear;, score=0.952 total time=   2.3s\n",
      "[CV 4/5] END ..C=0.001, penalty=l2, solver=saga;, score=0.950 total time=  10.1s\n",
      "[CV 3/5] END ..C=0.001, penalty=l2, solver=saga;, score=0.950 total time=  10.3s\n",
      "[CV 2/5] END C=0.01, penalty=l2, solver=liblinear;, score=0.953 total time=   2.8s\n",
      "[CV 3/5] END C=0.01, penalty=l2, solver=liblinear;, score=0.955 total time=   2.9s\n",
      "[CV 4/5] END C=0.01, penalty=l2, solver=liblinear;, score=0.955 total time=   2.6s\n",
      "[CV 5/5] END C=0.01, penalty=l2, solver=liblinear;, score=0.952 total time=   2.5s\n",
      "[CV 1/5] END ..C=0.01, penalty=l2, solver=lbfgs;, score=0.952 total time=   0.9s\n",
      "[CV 2/5] END ..C=0.01, penalty=l2, solver=lbfgs;, score=0.953 total time=   0.9s\n",
      "[CV 3/5] END ..C=0.01, penalty=l2, solver=lbfgs;, score=0.955 total time=   0.8s\n",
      "[CV 4/5] END ..C=0.01, penalty=l2, solver=lbfgs;, score=0.955 total time=   1.1s\n",
      "[CV 5/5] END ..C=0.01, penalty=l2, solver=lbfgs;, score=0.953 total time=   0.8s\n",
      "[CV 2/5] END C=0.1, penalty=l1, solver=liblinear;, score=0.954 total time=   4.3s\n",
      "[CV 2/5] END ...C=0.01, penalty=l1, solver=saga;, score=0.953 total time=  17.9s\n",
      "[CV 1/5] END C=0.1, penalty=l1, solver=liblinear;, score=0.954 total time=   8.0s\n",
      "[CV 3/5] END C=0.1, penalty=l1, solver=liblinear;, score=0.954 total time=   5.2s\n",
      "[CV 4/5] END C=0.1, penalty=l1, solver=liblinear;, score=0.954 total time=   5.4s\n",
      "[CV 5/5] END C=0.1, penalty=l1, solver=liblinear;, score=0.952 total time=   5.1s\n",
      "[CV 2/5] END ...C=0.01, penalty=l2, solver=saga;, score=0.953 total time=  18.7s\n"
     ]
    },
    {
     "name": "stderr",
     "output_type": "stream",
     "text": [
      "/home/leikrad/Projects/TAA/venv/lib/python3.11/site-packages/sklearn/linear_model/_sag.py:350: ConvergenceWarning: The max_iter was reached which means the coef_ did not converge\n",
      "  warnings.warn(\n"
     ]
    },
    {
     "name": "stdout",
     "output_type": "stream",
     "text": [
      "[CV 1/5] END ...C=0.01, penalty=l1, solver=saga;, score=0.956 total time=  30.2s\n"
     ]
    },
    {
     "name": "stderr",
     "output_type": "stream",
     "text": [
      "/home/leikrad/Projects/TAA/venv/lib/python3.11/site-packages/sklearn/linear_model/_sag.py:350: ConvergenceWarning: The max_iter was reached which means the coef_ did not converge\n",
      "  warnings.warn(\n",
      "/home/leikrad/Projects/TAA/venv/lib/python3.11/site-packages/sklearn/linear_model/_sag.py:350: ConvergenceWarning: The max_iter was reached which means the coef_ did not converge\n",
      "  warnings.warn(\n"
     ]
    },
    {
     "name": "stdout",
     "output_type": "stream",
     "text": [
      "[CV 5/5] END ...C=0.01, penalty=l1, solver=saga;, score=0.953 total time=  26.4s\n",
      "[CV 1/5] END .....C=0.1, penalty=l1, solver=lbfgs;, score=nan total time=   0.0s\n",
      "[CV 4/5] END ...C=0.01, penalty=l1, solver=saga;, score=0.955 total time=  26.9s\n",
      "[CV 2/5] END .....C=0.1, penalty=l1, solver=lbfgs;, score=nan total time=   0.0s\n",
      "[CV 3/5] END .....C=0.1, penalty=l1, solver=lbfgs;, score=nan total time=   0.0s\n",
      "[CV 4/5] END .....C=0.1, penalty=l1, solver=lbfgs;, score=nan total time=   0.0s\n",
      "[CV 5/5] END .....C=0.1, penalty=l1, solver=lbfgs;, score=nan total time=   0.0s\n"
     ]
    },
    {
     "name": "stderr",
     "output_type": "stream",
     "text": [
      "/home/leikrad/Projects/TAA/venv/lib/python3.11/site-packages/sklearn/linear_model/_sag.py:350: ConvergenceWarning: The max_iter was reached which means the coef_ did not converge\n",
      "  warnings.warn(\n"
     ]
    },
    {
     "name": "stdout",
     "output_type": "stream",
     "text": [
      "[CV 1/5] END ...C=0.01, penalty=l2, solver=saga;, score=0.952 total time=  24.2s\n"
     ]
    },
    {
     "name": "stderr",
     "output_type": "stream",
     "text": [
      "/home/leikrad/Projects/TAA/venv/lib/python3.11/site-packages/sklearn/linear_model/_sag.py:350: ConvergenceWarning: The max_iter was reached which means the coef_ did not converge\n",
      "  warnings.warn(\n"
     ]
    },
    {
     "name": "stdout",
     "output_type": "stream",
     "text": [
      "[CV 4/5] END ...C=0.01, penalty=l2, solver=saga;, score=0.955 total time=  24.0s\n"
     ]
    },
    {
     "name": "stderr",
     "output_type": "stream",
     "text": [
      "/home/leikrad/Projects/TAA/venv/lib/python3.11/site-packages/sklearn/linear_model/_sag.py:350: ConvergenceWarning: The max_iter was reached which means the coef_ did not converge\n",
      "  warnings.warn(\n"
     ]
    },
    {
     "name": "stdout",
     "output_type": "stream",
     "text": [
      "[CV 3/5] END ...C=0.01, penalty=l1, solver=saga;, score=0.955 total time=  29.7s\n"
     ]
    },
    {
     "name": "stderr",
     "output_type": "stream",
     "text": [
      "/home/leikrad/Projects/TAA/venv/lib/python3.11/site-packages/sklearn/linear_model/_sag.py:350: ConvergenceWarning: The max_iter was reached which means the coef_ did not converge\n",
      "  warnings.warn(\n"
     ]
    },
    {
     "name": "stdout",
     "output_type": "stream",
     "text": [
      "[CV 3/5] END ...C=0.01, penalty=l2, solver=saga;, score=0.955 total time=  25.8s\n"
     ]
    },
    {
     "name": "stderr",
     "output_type": "stream",
     "text": [
      "/home/leikrad/Projects/TAA/venv/lib/python3.11/site-packages/sklearn/linear_model/_sag.py:350: ConvergenceWarning: The max_iter was reached which means the coef_ did not converge\n",
      "  warnings.warn(\n"
     ]
    },
    {
     "name": "stdout",
     "output_type": "stream",
     "text": [
      "[CV 5/5] END ...C=0.01, penalty=l2, solver=saga;, score=0.953 total time=  26.2s\n",
      "[CV 2/5] END C=0.1, penalty=l2, solver=liblinear;, score=0.954 total time=   3.9s\n",
      "[CV 1/5] END C=0.1, penalty=l2, solver=liblinear;, score=0.951 total time=   4.2s\n",
      "[CV 3/5] END C=0.1, penalty=l2, solver=liblinear;, score=0.954 total time=   3.7s\n",
      "[CV 4/5] END C=0.1, penalty=l2, solver=liblinear;, score=0.954 total time=   3.6s\n",
      "[CV 1/5] END ...C=0.1, penalty=l2, solver=lbfgs;, score=0.954 total time=   0.9s\n",
      "[CV 5/5] END C=0.1, penalty=l2, solver=liblinear;, score=0.952 total time=   3.4s\n",
      "[CV 2/5] END ...C=0.1, penalty=l2, solver=lbfgs;, score=0.954 total time=   0.9s\n",
      "[CV 3/5] END ...C=0.1, penalty=l2, solver=lbfgs;, score=0.954 total time=   1.0s\n",
      "[CV 5/5] END ...C=0.1, penalty=l2, solver=lbfgs;, score=0.952 total time=   0.7s\n",
      "[CV 4/5] END ...C=0.1, penalty=l2, solver=lbfgs;, score=0.954 total time=   1.3s\n",
      "[CV 1/5] END .C=1, penalty=l1, solver=liblinear;, score=0.954 total time=   5.4s\n",
      "[CV 2/5] END .C=1, penalty=l1, solver=liblinear;, score=0.954 total time=   9.8s\n"
     ]
    },
    {
     "name": "stderr",
     "output_type": "stream",
     "text": [
      "/home/leikrad/Projects/TAA/venv/lib/python3.11/site-packages/sklearn/linear_model/_sag.py:350: ConvergenceWarning: The max_iter was reached which means the coef_ did not converge\n",
      "  warnings.warn(\n"
     ]
    },
    {
     "name": "stdout",
     "output_type": "stream",
     "text": [
      "[CV 1/5] END ....C=0.1, penalty=l1, solver=saga;, score=0.953 total time=  28.2s\n",
      "[CV 3/5] END .C=1, penalty=l1, solver=liblinear;, score=0.954 total time=   6.8s\n"
     ]
    },
    {
     "name": "stderr",
     "output_type": "stream",
     "text": [
      "/home/leikrad/Projects/TAA/venv/lib/python3.11/site-packages/sklearn/linear_model/_sag.py:350: ConvergenceWarning: The max_iter was reached which means the coef_ did not converge\n",
      "  warnings.warn(\n"
     ]
    },
    {
     "name": "stdout",
     "output_type": "stream",
     "text": [
      "[CV 2/5] END ....C=0.1, penalty=l1, solver=saga;, score=0.954 total time=  28.4s\n"
     ]
    },
    {
     "name": "stderr",
     "output_type": "stream",
     "text": [
      "/home/leikrad/Projects/TAA/venv/lib/python3.11/site-packages/sklearn/linear_model/_sag.py:350: ConvergenceWarning: The max_iter was reached which means the coef_ did not converge\n",
      "  warnings.warn(\n",
      "/home/leikrad/Projects/TAA/venv/lib/python3.11/site-packages/sklearn/linear_model/_sag.py:350: ConvergenceWarning: The max_iter was reached which means the coef_ did not converge\n",
      "  warnings.warn(\n"
     ]
    },
    {
     "name": "stdout",
     "output_type": "stream",
     "text": [
      "[CV 4/5] END ....C=0.1, penalty=l1, solver=saga;, score=0.954 total time=  28.3s\n",
      "[CV 3/5] END ....C=0.1, penalty=l1, solver=saga;, score=0.954 total time=  29.8s\n",
      "[CV 5/5] END .C=1, penalty=l1, solver=liblinear;, score=0.954 total time=   5.1s\n",
      "[CV 4/5] END .C=1, penalty=l1, solver=liblinear;, score=0.956 total time=   6.4s\n",
      "[CV 1/5] END .......C=1, penalty=l1, solver=lbfgs;, score=nan total time=   0.0s\n",
      "[CV 2/5] END .......C=1, penalty=l1, solver=lbfgs;, score=nan total time=   0.0s\n",
      "[CV 3/5] END .......C=1, penalty=l1, solver=lbfgs;, score=nan total time=   0.0s\n",
      "[CV 4/5] END .......C=1, penalty=l1, solver=lbfgs;, score=nan total time=   0.0s\n",
      "[CV 5/5] END .......C=1, penalty=l1, solver=lbfgs;, score=nan total time=   0.0s\n",
      "[CV 1/5] END .C=1, penalty=l2, solver=liblinear;, score=0.954 total time=   2.3s\n"
     ]
    },
    {
     "name": "stderr",
     "output_type": "stream",
     "text": [
      "/home/leikrad/Projects/TAA/venv/lib/python3.11/site-packages/sklearn/linear_model/_sag.py:350: ConvergenceWarning: The max_iter was reached which means the coef_ did not converge\n",
      "  warnings.warn(\n"
     ]
    },
    {
     "name": "stdout",
     "output_type": "stream",
     "text": [
      "[CV 1/5] END ....C=0.1, penalty=l2, solver=saga;, score=0.951 total time=  25.2s\n"
     ]
    },
    {
     "name": "stderr",
     "output_type": "stream",
     "text": [
      "/home/leikrad/Projects/TAA/venv/lib/python3.11/site-packages/sklearn/linear_model/_sag.py:350: ConvergenceWarning: The max_iter was reached which means the coef_ did not converge\n",
      "  warnings.warn(\n"
     ]
    },
    {
     "name": "stdout",
     "output_type": "stream",
     "text": [
      "[CV 3/5] END ....C=0.1, penalty=l2, solver=saga;, score=0.954 total time=  24.2s\n"
     ]
    },
    {
     "name": "stderr",
     "output_type": "stream",
     "text": [
      "/home/leikrad/Projects/TAA/venv/lib/python3.11/site-packages/sklearn/linear_model/_sag.py:350: ConvergenceWarning: The max_iter was reached which means the coef_ did not converge\n",
      "  warnings.warn(\n",
      "/home/leikrad/Projects/TAA/venv/lib/python3.11/site-packages/sklearn/linear_model/_sag.py:350: ConvergenceWarning: The max_iter was reached which means the coef_ did not converge\n",
      "  warnings.warn(\n"
     ]
    },
    {
     "name": "stdout",
     "output_type": "stream",
     "text": [
      "[CV 5/5] END ....C=0.1, penalty=l1, solver=saga;, score=0.952 total time=  29.0s\n",
      "[CV 5/5] END ....C=0.1, penalty=l2, solver=saga;, score=0.952 total time=  24.2s\n"
     ]
    },
    {
     "name": "stderr",
     "output_type": "stream",
     "text": [
      "/home/leikrad/Projects/TAA/venv/lib/python3.11/site-packages/sklearn/linear_model/_sag.py:350: ConvergenceWarning: The max_iter was reached which means the coef_ did not converge\n",
      "  warnings.warn(\n",
      "/home/leikrad/Projects/TAA/venv/lib/python3.11/site-packages/sklearn/linear_model/_sag.py:350: ConvergenceWarning: The max_iter was reached which means the coef_ did not converge\n",
      "  warnings.warn(\n"
     ]
    },
    {
     "name": "stdout",
     "output_type": "stream",
     "text": [
      "[CV 4/5] END ....C=0.1, penalty=l2, solver=saga;, score=0.954 total time=  25.0s\n",
      "[CV 2/5] END ....C=0.1, penalty=l2, solver=saga;, score=0.954 total time=  25.9s\n",
      "[CV 2/5] END .C=1, penalty=l2, solver=liblinear;, score=0.954 total time=   3.1s\n",
      "[CV 4/5] END .C=1, penalty=l2, solver=liblinear;, score=0.956 total time=   3.6s\n",
      "[CV 5/5] END .C=1, penalty=l2, solver=liblinear;, score=0.954 total time=   3.6s\n",
      "[CV 3/5] END .C=1, penalty=l2, solver=liblinear;, score=0.954 total time=   4.5s\n",
      "[CV 1/5] END .....C=1, penalty=l2, solver=lbfgs;, score=0.954 total time=   1.1s\n",
      "[CV 2/5] END .....C=1, penalty=l2, solver=lbfgs;, score=0.954 total time=   0.9s\n",
      "[CV 3/5] END .....C=1, penalty=l2, solver=lbfgs;, score=0.954 total time=   1.2s\n",
      "[CV 4/5] END .....C=1, penalty=l2, solver=lbfgs;, score=0.956 total time=   1.4s\n",
      "[CV 5/5] END .....C=1, penalty=l2, solver=lbfgs;, score=0.954 total time=   1.2s\n",
      "[CV 1/5] END C=10, penalty=l1, solver=liblinear;, score=0.954 total time=   4.9s\n",
      "[CV 2/5] END C=10, penalty=l1, solver=liblinear;, score=0.954 total time=   4.9s\n",
      "[CV 3/5] END C=10, penalty=l1, solver=liblinear;, score=0.954 total time=   5.4s\n",
      "[CV 4/5] END C=10, penalty=l1, solver=liblinear;, score=0.956 total time=   5.5s\n"
     ]
    },
    {
     "name": "stderr",
     "output_type": "stream",
     "text": [
      "/home/leikrad/Projects/TAA/venv/lib/python3.11/site-packages/sklearn/linear_model/_sag.py:350: ConvergenceWarning: The max_iter was reached which means the coef_ did not converge\n",
      "  warnings.warn(\n"
     ]
    },
    {
     "name": "stdout",
     "output_type": "stream",
     "text": [
      "[CV 1/5] END ......C=1, penalty=l1, solver=saga;, score=0.951 total time=  27.8s\n"
     ]
    },
    {
     "name": "stderr",
     "output_type": "stream",
     "text": [
      "/home/leikrad/Projects/TAA/venv/lib/python3.11/site-packages/sklearn/linear_model/_sag.py:350: ConvergenceWarning: The max_iter was reached which means the coef_ did not converge\n",
      "  warnings.warn(\n"
     ]
    },
    {
     "name": "stdout",
     "output_type": "stream",
     "text": [
      "[CV 2/5] END ......C=1, penalty=l1, solver=saga;, score=0.954 total time=  28.0s\n",
      "[CV 5/5] END C=10, penalty=l1, solver=liblinear;, score=0.954 total time=   4.7s\n"
     ]
    },
    {
     "name": "stderr",
     "output_type": "stream",
     "text": [
      "/home/leikrad/Projects/TAA/venv/lib/python3.11/site-packages/sklearn/linear_model/_sag.py:350: ConvergenceWarning: The max_iter was reached which means the coef_ did not converge\n",
      "  warnings.warn(\n",
      "/home/leikrad/Projects/TAA/venv/lib/python3.11/site-packages/sklearn/linear_model/_sag.py:350: ConvergenceWarning: The max_iter was reached which means the coef_ did not converge\n",
      "  warnings.warn(\n"
     ]
    },
    {
     "name": "stdout",
     "output_type": "stream",
     "text": [
      "[CV 1/5] END ......C=1, penalty=l2, solver=saga;, score=0.951 total time=  22.4s\n",
      "[CV 3/5] END ......C=1, penalty=l1, solver=saga;, score=0.954 total time=  27.4s\n",
      "[CV 1/5] END ......C=10, penalty=l1, solver=lbfgs;, score=nan total time=   0.0s\n",
      "[CV 2/5] END ......C=10, penalty=l1, solver=lbfgs;, score=nan total time=   0.0s\n",
      "[CV 3/5] END ......C=10, penalty=l1, solver=lbfgs;, score=nan total time=   0.0s\n",
      "[CV 4/5] END ......C=10, penalty=l1, solver=lbfgs;, score=nan total time=   0.0s\n",
      "[CV 5/5] END ......C=10, penalty=l1, solver=lbfgs;, score=nan total time=   0.0s\n"
     ]
    },
    {
     "name": "stderr",
     "output_type": "stream",
     "text": [
      "/home/leikrad/Projects/TAA/venv/lib/python3.11/site-packages/sklearn/linear_model/_sag.py:350: ConvergenceWarning: The max_iter was reached which means the coef_ did not converge\n",
      "  warnings.warn(\n"
     ]
    },
    {
     "name": "stdout",
     "output_type": "stream",
     "text": [
      "[CV 4/5] END ......C=1, penalty=l1, solver=saga;, score=0.954 total time=  28.1s\n"
     ]
    },
    {
     "name": "stderr",
     "output_type": "stream",
     "text": [
      "/home/leikrad/Projects/TAA/venv/lib/python3.11/site-packages/sklearn/linear_model/_sag.py:350: ConvergenceWarning: The max_iter was reached which means the coef_ did not converge\n",
      "  warnings.warn(\n"
     ]
    },
    {
     "name": "stdout",
     "output_type": "stream",
     "text": [
      "[CV 5/5] END ......C=1, penalty=l1, solver=saga;, score=0.952 total time=  28.2s\n"
     ]
    },
    {
     "name": "stderr",
     "output_type": "stream",
     "text": [
      "/home/leikrad/Projects/TAA/venv/lib/python3.11/site-packages/sklearn/linear_model/_sag.py:350: ConvergenceWarning: The max_iter was reached which means the coef_ did not converge\n",
      "  warnings.warn(\n"
     ]
    },
    {
     "name": "stdout",
     "output_type": "stream",
     "text": [
      "[CV 2/5] END ......C=1, penalty=l2, solver=saga;, score=0.954 total time=  23.8s\n"
     ]
    },
    {
     "name": "stderr",
     "output_type": "stream",
     "text": [
      "/home/leikrad/Projects/TAA/venv/lib/python3.11/site-packages/sklearn/linear_model/_sag.py:350: ConvergenceWarning: The max_iter was reached which means the coef_ did not converge\n",
      "  warnings.warn(\n"
     ]
    },
    {
     "name": "stdout",
     "output_type": "stream",
     "text": [
      "[CV 3/5] END ......C=1, penalty=l2, solver=saga;, score=0.954 total time=  25.2s\n",
      "[CV 1/5] END C=10, penalty=l2, solver=liblinear;, score=0.954 total time=   3.4s\n",
      "[CV 2/5] END C=10, penalty=l2, solver=liblinear;, score=0.954 total time=   3.6s\n"
     ]
    },
    {
     "name": "stderr",
     "output_type": "stream",
     "text": [
      "/home/leikrad/Projects/TAA/venv/lib/python3.11/site-packages/sklearn/linear_model/_sag.py:350: ConvergenceWarning: The max_iter was reached which means the coef_ did not converge\n",
      "  warnings.warn(\n"
     ]
    },
    {
     "name": "stdout",
     "output_type": "stream",
     "text": [
      "[CV 4/5] END ......C=1, penalty=l2, solver=saga;, score=0.954 total time=  26.3s\n",
      "[CV 3/5] END C=10, penalty=l2, solver=liblinear;, score=0.954 total time=   4.4s\n",
      "[CV 4/5] END C=10, penalty=l2, solver=liblinear;, score=0.956 total time=   3.5s\n"
     ]
    },
    {
     "name": "stderr",
     "output_type": "stream",
     "text": [
      "/home/leikrad/Projects/TAA/venv/lib/python3.11/site-packages/sklearn/linear_model/_sag.py:350: ConvergenceWarning: The max_iter was reached which means the coef_ did not converge\n",
      "  warnings.warn(\n"
     ]
    },
    {
     "name": "stdout",
     "output_type": "stream",
     "text": [
      "[CV 5/5] END ......C=1, penalty=l2, solver=saga;, score=0.952 total time=  25.1s\n",
      "[CV 1/5] END ....C=10, penalty=l2, solver=lbfgs;, score=0.954 total time=   0.9s\n",
      "[CV 5/5] END C=10, penalty=l2, solver=liblinear;, score=0.954 total time=   3.3s\n",
      "[CV 2/5] END ....C=10, penalty=l2, solver=lbfgs;, score=0.954 total time=   0.9s\n",
      "[CV 3/5] END ....C=10, penalty=l2, solver=lbfgs;, score=0.954 total time=   1.2s\n",
      "[CV 4/5] END ....C=10, penalty=l2, solver=lbfgs;, score=0.956 total time=   1.1s\n",
      "[CV 5/5] END ....C=10, penalty=l2, solver=lbfgs;, score=0.954 total time=   1.1s\n",
      "[CV 2/5] END C=100, penalty=l1, solver=liblinear;, score=0.954 total time=   5.2s\n",
      "[CV 1/5] END C=100, penalty=l1, solver=liblinear;, score=0.954 total time=   8.0s\n",
      "[CV 3/5] END C=100, penalty=l1, solver=liblinear;, score=0.954 total time=   4.7s\n",
      "[CV 4/5] END C=100, penalty=l1, solver=liblinear;, score=0.956 total time=   5.4s\n"
     ]
    },
    {
     "name": "stderr",
     "output_type": "stream",
     "text": [
      "/home/leikrad/Projects/TAA/venv/lib/python3.11/site-packages/sklearn/linear_model/_sag.py:350: ConvergenceWarning: The max_iter was reached which means the coef_ did not converge\n",
      "  warnings.warn(\n"
     ]
    },
    {
     "name": "stdout",
     "output_type": "stream",
     "text": [
      "[CV 1/5] END .....C=10, penalty=l1, solver=saga;, score=0.954 total time=  27.9s\n",
      "[CV 5/5] END C=100, penalty=l1, solver=liblinear;, score=0.954 total time=   4.6s\n",
      "[CV 2/5] END .....C=10, penalty=l1, solver=saga;, score=0.954 total time=  27.6s\n"
     ]
    },
    {
     "name": "stderr",
     "output_type": "stream",
     "text": [
      "/home/leikrad/Projects/TAA/venv/lib/python3.11/site-packages/sklearn/linear_model/_sag.py:350: ConvergenceWarning: The max_iter was reached which means the coef_ did not converge\n",
      "  warnings.warn(\n",
      "/home/leikrad/Projects/TAA/venv/lib/python3.11/site-packages/sklearn/linear_model/_sag.py:350: ConvergenceWarning: The max_iter was reached which means the coef_ did not converge\n",
      "  warnings.warn(\n"
     ]
    },
    {
     "name": "stdout",
     "output_type": "stream",
     "text": [
      "[CV 4/5] END .....C=10, penalty=l1, solver=saga;, score=0.954 total time=  27.2s\n"
     ]
    },
    {
     "name": "stderr",
     "output_type": "stream",
     "text": [
      "/home/leikrad/Projects/TAA/venv/lib/python3.11/site-packages/sklearn/linear_model/_sag.py:350: ConvergenceWarning: The max_iter was reached which means the coef_ did not converge\n",
      "  warnings.warn(\n"
     ]
    },
    {
     "name": "stdout",
     "output_type": "stream",
     "text": [
      "[CV 5/5] END .....C=10, penalty=l1, solver=saga;, score=0.952 total time=  26.4s\n",
      "[CV 1/5] END .....C=100, penalty=l1, solver=lbfgs;, score=nan total time=   0.0s\n",
      "[CV 2/5] END .....C=100, penalty=l1, solver=lbfgs;, score=nan total time=   0.0s\n",
      "[CV 3/5] END .....C=100, penalty=l1, solver=lbfgs;, score=nan total time=   0.0s\n",
      "[CV 4/5] END .....C=100, penalty=l1, solver=lbfgs;, score=nan total time=   0.0s\n",
      "[CV 5/5] END .....C=100, penalty=l1, solver=lbfgs;, score=nan total time=   0.0s\n"
     ]
    },
    {
     "name": "stderr",
     "output_type": "stream",
     "text": [
      "/home/leikrad/Projects/TAA/venv/lib/python3.11/site-packages/sklearn/linear_model/_sag.py:350: ConvergenceWarning: The max_iter was reached which means the coef_ did not converge\n",
      "  warnings.warn(\n"
     ]
    },
    {
     "name": "stdout",
     "output_type": "stream",
     "text": [
      "[CV 3/5] END .....C=10, penalty=l1, solver=saga;, score=0.954 total time=  28.5s\n"
     ]
    },
    {
     "name": "stderr",
     "output_type": "stream",
     "text": [
      "/home/leikrad/Projects/TAA/venv/lib/python3.11/site-packages/sklearn/linear_model/_sag.py:350: ConvergenceWarning: The max_iter was reached which means the coef_ did not converge\n",
      "  warnings.warn(\n"
     ]
    },
    {
     "name": "stdout",
     "output_type": "stream",
     "text": [
      "[CV 1/5] END .....C=10, penalty=l2, solver=saga;, score=0.954 total time=  24.2s\n",
      "[CV 1/5] END C=100, penalty=l2, solver=liblinear;, score=0.954 total time=   2.6s\n",
      "[CV 2/5] END C=100, penalty=l2, solver=liblinear;, score=0.954 total time=   3.4s\n",
      "[CV 5/5] END .....C=10, penalty=l2, solver=saga;, score=0.952 total time=  24.7s\n"
     ]
    },
    {
     "name": "stderr",
     "output_type": "stream",
     "text": [
      "/home/leikrad/Projects/TAA/venv/lib/python3.11/site-packages/sklearn/linear_model/_sag.py:350: ConvergenceWarning: The max_iter was reached which means the coef_ did not converge\n",
      "  warnings.warn(\n",
      "/home/leikrad/Projects/TAA/venv/lib/python3.11/site-packages/sklearn/linear_model/_sag.py:350: ConvergenceWarning: The max_iter was reached which means the coef_ did not converge\n",
      "  warnings.warn(\n"
     ]
    },
    {
     "name": "stdout",
     "output_type": "stream",
     "text": [
      "[CV 2/5] END .....C=10, penalty=l2, solver=saga;, score=0.954 total time=  26.3s\n"
     ]
    },
    {
     "name": "stderr",
     "output_type": "stream",
     "text": [
      "/home/leikrad/Projects/TAA/venv/lib/python3.11/site-packages/sklearn/linear_model/_sag.py:350: ConvergenceWarning: The max_iter was reached which means the coef_ did not converge\n",
      "  warnings.warn(\n"
     ]
    },
    {
     "name": "stdout",
     "output_type": "stream",
     "text": [
      "[CV 4/5] END .....C=10, penalty=l2, solver=saga;, score=0.954 total time=  25.6s\n",
      "[CV 4/5] END C=100, penalty=l2, solver=liblinear;, score=0.956 total time=   3.0s\n",
      "[CV 3/5] END C=100, penalty=l2, solver=liblinear;, score=0.954 total time=   4.5s\n"
     ]
    },
    {
     "name": "stderr",
     "output_type": "stream",
     "text": [
      "/home/leikrad/Projects/TAA/venv/lib/python3.11/site-packages/sklearn/linear_model/_sag.py:350: ConvergenceWarning: The max_iter was reached which means the coef_ did not converge\n",
      "  warnings.warn(\n"
     ]
    },
    {
     "name": "stdout",
     "output_type": "stream",
     "text": [
      "[CV 3/5] END .....C=10, penalty=l2, solver=saga;, score=0.954 total time=  28.5s\n",
      "[CV 5/5] END C=100, penalty=l2, solver=liblinear;, score=0.954 total time=   3.5s\n",
      "[CV 2/5] END ...C=100, penalty=l2, solver=lbfgs;, score=0.954 total time=   0.8s\n",
      "[CV 1/5] END ...C=100, penalty=l2, solver=lbfgs;, score=0.954 total time=   1.1s\n",
      "[CV 4/5] END ...C=100, penalty=l2, solver=lbfgs;, score=0.956 total time=   1.4s\n",
      "[CV 3/5] END ...C=100, penalty=l2, solver=lbfgs;, score=0.954 total time=   1.5s\n",
      "[CV 5/5] END ...C=100, penalty=l2, solver=lbfgs;, score=0.954 total time=   1.5s\n",
      "[CV 1/5] END C=1000, penalty=l1, solver=liblinear;, score=0.954 total time=   5.7s\n",
      "[CV 2/5] END C=1000, penalty=l1, solver=liblinear;, score=0.954 total time=   6.4s\n",
      "[CV 3/5] END C=1000, penalty=l1, solver=liblinear;, score=0.954 total time=   5.7s\n",
      "[CV 4/5] END C=1000, penalty=l1, solver=liblinear;, score=0.956 total time=   6.3s\n",
      "[CV 1/5] END ....C=100, penalty=l1, solver=saga;, score=0.954 total time=  28.1s\n"
     ]
    },
    {
     "name": "stderr",
     "output_type": "stream",
     "text": [
      "/home/leikrad/Projects/TAA/venv/lib/python3.11/site-packages/sklearn/linear_model/_sag.py:350: ConvergenceWarning: The max_iter was reached which means the coef_ did not converge\n",
      "  warnings.warn(\n",
      "/home/leikrad/Projects/TAA/venv/lib/python3.11/site-packages/sklearn/linear_model/_sag.py:350: ConvergenceWarning: The max_iter was reached which means the coef_ did not converge\n",
      "  warnings.warn(\n"
     ]
    },
    {
     "name": "stdout",
     "output_type": "stream",
     "text": [
      "[CV 3/5] END ....C=100, penalty=l1, solver=saga;, score=0.954 total time=  28.2s\n",
      "[CV 5/5] END C=1000, penalty=l1, solver=liblinear;, score=0.954 total time=   4.7s\n"
     ]
    },
    {
     "name": "stderr",
     "output_type": "stream",
     "text": [
      "/home/leikrad/Projects/TAA/venv/lib/python3.11/site-packages/sklearn/linear_model/_sag.py:350: ConvergenceWarning: The max_iter was reached which means the coef_ did not converge\n",
      "  warnings.warn(\n"
     ]
    },
    {
     "name": "stdout",
     "output_type": "stream",
     "text": [
      "[CV 2/5] END ....C=100, penalty=l1, solver=saga;, score=0.954 total time=  30.5s\n"
     ]
    },
    {
     "name": "stderr",
     "output_type": "stream",
     "text": [
      "/home/leikrad/Projects/TAA/venv/lib/python3.11/site-packages/sklearn/linear_model/_sag.py:350: ConvergenceWarning: The max_iter was reached which means the coef_ did not converge\n",
      "  warnings.warn(\n"
     ]
    },
    {
     "name": "stdout",
     "output_type": "stream",
     "text": [
      "[CV 4/5] END ....C=100, penalty=l1, solver=saga;, score=0.954 total time=  30.5s\n",
      "[CV 1/5] END ....C=1000, penalty=l1, solver=lbfgs;, score=nan total time=   0.0s\n",
      "[CV 2/5] END ....C=1000, penalty=l1, solver=lbfgs;, score=nan total time=   0.0s\n",
      "[CV 3/5] END ....C=1000, penalty=l1, solver=lbfgs;, score=nan total time=   0.0s\n",
      "[CV 4/5] END ....C=1000, penalty=l1, solver=lbfgs;, score=nan total time=   0.0s\n",
      "[CV 5/5] END ....C=1000, penalty=l1, solver=lbfgs;, score=nan total time=   0.0s\n"
     ]
    },
    {
     "name": "stderr",
     "output_type": "stream",
     "text": [
      "/home/leikrad/Projects/TAA/venv/lib/python3.11/site-packages/sklearn/linear_model/_sag.py:350: ConvergenceWarning: The max_iter was reached which means the coef_ did not converge\n",
      "  warnings.warn(\n"
     ]
    },
    {
     "name": "stdout",
     "output_type": "stream",
     "text": [
      "[CV 2/5] END ....C=100, penalty=l2, solver=saga;, score=0.954 total time=  24.9s\n"
     ]
    },
    {
     "name": "stderr",
     "output_type": "stream",
     "text": [
      "/home/leikrad/Projects/TAA/venv/lib/python3.11/site-packages/sklearn/linear_model/_sag.py:350: ConvergenceWarning: The max_iter was reached which means the coef_ did not converge\n",
      "  warnings.warn(\n"
     ]
    },
    {
     "name": "stdout",
     "output_type": "stream",
     "text": [
      "[CV 5/5] END ....C=100, penalty=l1, solver=saga;, score=0.952 total time=  30.1s\n",
      "[CV 1/5] END C=1000, penalty=l2, solver=liblinear;, score=0.954 total time=   2.5s\n"
     ]
    },
    {
     "name": "stderr",
     "output_type": "stream",
     "text": [
      "/home/leikrad/Projects/TAA/venv/lib/python3.11/site-packages/sklearn/linear_model/_sag.py:350: ConvergenceWarning: The max_iter was reached which means the coef_ did not converge\n",
      "  warnings.warn(\n"
     ]
    },
    {
     "name": "stdout",
     "output_type": "stream",
     "text": [
      "[CV 5/5] END ....C=100, penalty=l2, solver=saga;, score=0.952 total time=  25.3s\n"
     ]
    },
    {
     "name": "stderr",
     "output_type": "stream",
     "text": [
      "/home/leikrad/Projects/TAA/venv/lib/python3.11/site-packages/sklearn/linear_model/_sag.py:350: ConvergenceWarning: The max_iter was reached which means the coef_ did not converge\n",
      "  warnings.warn(\n"
     ]
    },
    {
     "name": "stdout",
     "output_type": "stream",
     "text": [
      "[CV 1/5] END ....C=100, penalty=l2, solver=saga;, score=0.954 total time=  27.9s\n"
     ]
    },
    {
     "name": "stderr",
     "output_type": "stream",
     "text": [
      "/home/leikrad/Projects/TAA/venv/lib/python3.11/site-packages/sklearn/linear_model/_sag.py:350: ConvergenceWarning: The max_iter was reached which means the coef_ did not converge\n",
      "  warnings.warn(\n"
     ]
    },
    {
     "name": "stdout",
     "output_type": "stream",
     "text": [
      "[CV 4/5] END ....C=100, penalty=l2, solver=saga;, score=0.954 total time=  26.8s\n",
      "[CV 2/5] END C=1000, penalty=l2, solver=liblinear;, score=0.954 total time=   3.8s\n",
      "[CV 3/5] END ....C=100, penalty=l2, solver=saga;, score=0.954 total time=  28.4s\n"
     ]
    },
    {
     "name": "stderr",
     "output_type": "stream",
     "text": [
      "/home/leikrad/Projects/TAA/venv/lib/python3.11/site-packages/sklearn/linear_model/_sag.py:350: ConvergenceWarning: The max_iter was reached which means the coef_ did not converge\n",
      "  warnings.warn(\n"
     ]
    },
    {
     "name": "stdout",
     "output_type": "stream",
     "text": [
      "[CV 3/5] END C=1000, penalty=l2, solver=liblinear;, score=0.954 total time=   4.3s\n",
      "[CV 4/5] END C=1000, penalty=l2, solver=liblinear;, score=0.956 total time=   3.4s\n",
      "[CV 5/5] END C=1000, penalty=l2, solver=liblinear;, score=0.954 total time=   3.4s\n",
      "[CV 1/5] END ..C=1000, penalty=l2, solver=lbfgs;, score=0.954 total time=   1.2s\n",
      "[CV 2/5] END ..C=1000, penalty=l2, solver=lbfgs;, score=0.954 total time=   0.9s\n",
      "[CV 4/5] END ..C=1000, penalty=l2, solver=lbfgs;, score=0.956 total time=   1.1s\n",
      "[CV 3/5] END ..C=1000, penalty=l2, solver=lbfgs;, score=0.954 total time=   1.6s\n",
      "[CV 5/5] END ..C=1000, penalty=l2, solver=lbfgs;, score=0.954 total time=   0.9s\n"
     ]
    },
    {
     "name": "stderr",
     "output_type": "stream",
     "text": [
      "/home/leikrad/Projects/TAA/venv/lib/python3.11/site-packages/sklearn/linear_model/_sag.py:350: ConvergenceWarning: The max_iter was reached which means the coef_ did not converge\n",
      "  warnings.warn(\n"
     ]
    },
    {
     "name": "stdout",
     "output_type": "stream",
     "text": [
      "[CV 1/5] END ...C=1000, penalty=l1, solver=saga;, score=0.954 total time=  23.0s\n"
     ]
    },
    {
     "name": "stderr",
     "output_type": "stream",
     "text": [
      "/home/leikrad/Projects/TAA/venv/lib/python3.11/site-packages/sklearn/linear_model/_sag.py:350: ConvergenceWarning: The max_iter was reached which means the coef_ did not converge\n",
      "  warnings.warn(\n"
     ]
    },
    {
     "name": "stdout",
     "output_type": "stream",
     "text": [
      "[CV 2/5] END ...C=1000, penalty=l1, solver=saga;, score=0.954 total time=  23.6s\n"
     ]
    },
    {
     "name": "stderr",
     "output_type": "stream",
     "text": [
      "/home/leikrad/Projects/TAA/venv/lib/python3.11/site-packages/sklearn/linear_model/_sag.py:350: ConvergenceWarning: The max_iter was reached which means the coef_ did not converge\n",
      "  warnings.warn(\n"
     ]
    },
    {
     "name": "stdout",
     "output_type": "stream",
     "text": [
      "[CV 3/5] END ...C=1000, penalty=l1, solver=saga;, score=0.954 total time=  22.8s\n"
     ]
    },
    {
     "name": "stderr",
     "output_type": "stream",
     "text": [
      "/home/leikrad/Projects/TAA/venv/lib/python3.11/site-packages/sklearn/linear_model/_sag.py:350: ConvergenceWarning: The max_iter was reached which means the coef_ did not converge\n",
      "  warnings.warn(\n"
     ]
    },
    {
     "name": "stdout",
     "output_type": "stream",
     "text": [
      "[CV 4/5] END ...C=1000, penalty=l1, solver=saga;, score=0.954 total time=  22.9s\n"
     ]
    },
    {
     "name": "stderr",
     "output_type": "stream",
     "text": [
      "/home/leikrad/Projects/TAA/venv/lib/python3.11/site-packages/sklearn/linear_model/_sag.py:350: ConvergenceWarning: The max_iter was reached which means the coef_ did not converge\n",
      "  warnings.warn(\n"
     ]
    },
    {
     "name": "stdout",
     "output_type": "stream",
     "text": [
      "[CV 5/5] END ...C=1000, penalty=l1, solver=saga;, score=0.952 total time=  22.4s\n"
     ]
    },
    {
     "name": "stderr",
     "output_type": "stream",
     "text": [
      "/home/leikrad/Projects/TAA/venv/lib/python3.11/site-packages/sklearn/linear_model/_sag.py:350: ConvergenceWarning: The max_iter was reached which means the coef_ did not converge\n",
      "  warnings.warn(\n"
     ]
    },
    {
     "name": "stdout",
     "output_type": "stream",
     "text": [
      "[CV 1/5] END ...C=1000, penalty=l2, solver=saga;, score=0.954 total time=  19.0s\n"
     ]
    },
    {
     "name": "stderr",
     "output_type": "stream",
     "text": [
      "/home/leikrad/Projects/TAA/venv/lib/python3.11/site-packages/sklearn/linear_model/_sag.py:350: ConvergenceWarning: The max_iter was reached which means the coef_ did not converge\n",
      "  warnings.warn(\n",
      "/home/leikrad/Projects/TAA/venv/lib/python3.11/site-packages/sklearn/linear_model/_sag.py:350: ConvergenceWarning: The max_iter was reached which means the coef_ did not converge\n",
      "  warnings.warn(\n",
      "/home/leikrad/Projects/TAA/venv/lib/python3.11/site-packages/sklearn/linear_model/_sag.py:350: ConvergenceWarning: The max_iter was reached which means the coef_ did not converge\n",
      "  warnings.warn(\n"
     ]
    },
    {
     "name": "stdout",
     "output_type": "stream",
     "text": [
      "[CV 2/5] END ...C=1000, penalty=l2, solver=saga;, score=0.954 total time=  18.9s\n",
      "[CV 3/5] END ...C=1000, penalty=l2, solver=saga;, score=0.954 total time=  18.4s\n",
      "[CV 4/5] END ...C=1000, penalty=l2, solver=saga;, score=0.954 total time=  18.4s\n"
     ]
    },
    {
     "name": "stderr",
     "output_type": "stream",
     "text": [
      "/home/leikrad/Projects/TAA/venv/lib/python3.11/site-packages/sklearn/linear_model/_sag.py:350: ConvergenceWarning: The max_iter was reached which means the coef_ did not converge\n",
      "  warnings.warn(\n",
      "/home/leikrad/Projects/TAA/venv/lib/python3.11/site-packages/sklearn/model_selection/_validation.py:547: FitFailedWarning: \n",
      "35 fits failed out of a total of 210.\n",
      "The score on these train-test partitions for these parameters will be set to nan.\n",
      "If these failures are not expected, you can try to debug them by setting error_score='raise'.\n",
      "\n",
      "Below are more details about the failures:\n",
      "--------------------------------------------------------------------------------\n",
      "35 fits failed with the following error:\n",
      "Traceback (most recent call last):\n",
      "  File \"/home/leikrad/Projects/TAA/venv/lib/python3.11/site-packages/sklearn/model_selection/_validation.py\", line 895, in _fit_and_score\n",
      "    estimator.fit(X_train, y_train, **fit_params)\n",
      "  File \"/home/leikrad/Projects/TAA/venv/lib/python3.11/site-packages/sklearn/base.py\", line 1474, in wrapper\n",
      "    return fit_method(estimator, *args, **kwargs)\n",
      "           ^^^^^^^^^^^^^^^^^^^^^^^^^^^^^^^^^^^^^^\n",
      "  File \"/home/leikrad/Projects/TAA/venv/lib/python3.11/site-packages/sklearn/linear_model/_logistic.py\", line 1172, in fit\n",
      "    solver = _check_solver(self.solver, self.penalty, self.dual)\n",
      "             ^^^^^^^^^^^^^^^^^^^^^^^^^^^^^^^^^^^^^^^^^^^^^^^^^^^\n",
      "  File \"/home/leikrad/Projects/TAA/venv/lib/python3.11/site-packages/sklearn/linear_model/_logistic.py\", line 67, in _check_solver\n",
      "    raise ValueError(\n",
      "ValueError: Solver lbfgs supports only 'l2' or None penalties, got l1 penalty.\n",
      "\n",
      "  warnings.warn(some_fits_failed_message, FitFailedWarning)\n",
      "/home/leikrad/Projects/TAA/venv/lib/python3.11/site-packages/sklearn/model_selection/_search.py:1051: UserWarning: One or more of the test scores are non-finite: [0.9450882  0.94531624        nan 0.94834263 0.94918523 0.9491775\n",
      " 0.95410166 0.95418669        nan 0.95324361 0.95330932 0.95330159\n",
      " 0.95371515 0.95360306        nan 0.95321269 0.95323588 0.95371902\n",
      " 0.95454616 0.95320882        nan 0.95451524 0.95320496 0.95451523\n",
      " 0.95454616 0.95369196        nan 0.95449977 0.95368809 0.9545191\n",
      " 0.9545307  0.95369582        nan 0.95450364 0.95369196 0.95451524\n",
      " 0.9545307  0.95369196        nan 0.95449591 0.95369196 0.9545075 ]\n",
      "  warnings.warn(\n"
     ]
    },
    {
     "name": "stdout",
     "output_type": "stream",
     "text": [
      "[CV 5/5] END ...C=1000, penalty=l2, solver=saga;, score=0.952 total time=  17.9s\n",
      "Best hyperparameters: {'C': 1, 'penalty': 'l1', 'solver': 'liblinear'}\n",
      "Best score: 0.9545461563959556\n",
      "Accuracy: 0.9732915732648083\n"
     ]
    }
   ],
   "source": [
    "from sklearn.linear_model import LogisticRegression\n",
    "from sklearn.model_selection import GridSearchCV\n",
    "\n",
    "# Create logistic regression\n",
    "log_reg = LogisticRegression()\n",
    "\n",
    "gridSearch = GridSearchCV(log_reg, param_grid,refit=True, verbose=3, scoring=\"accuracy\" ,cv=5,n_jobs=-1,return_train_score=False)\n",
    "\n",
    "# Under sampled set\n",
    "X_train = np.load(f'{base_dir}/over_sampled_X_train.npy')\n",
    "y_train = np.load(f'{base_dir}/over_sampled_y_train.npy')\n",
    "\n",
    "# cant concatenate the validation set because it is not over sampled\n",
    "\n",
    "y_train = y_train.ravel()\n",
    "\n",
    "gridSearch.fit(X_train, y_train)\n",
    "\n",
    "# Get the best model\n",
    "best_model = gridSearch.best_estimator_\n",
    "\n",
    "# Get the best hyperparameters\n",
    "best_hyperparams = gridSearch.best_params_\n",
    "\n",
    "# Get the best score\n",
    "\n",
    "best_score = gridSearch.best_score_\n",
    "\n",
    "print(f'Best hyperparameters: {best_hyperparams}')\n",
    "print(f'Best score: {best_score}')\n",
    "\n",
    "# Predict the test set\n",
    "y_pred = best_model.predict(X_test)\n",
    "\n",
    "# Calculate the accuracy\n",
    "accuracy = np.mean(y_pred == y_test)\n",
    "print(f'Accuracy: {accuracy}')\n",
    "\n",
    "os.makedirs(output_dir + '/over_sampled_no_selection', exist_ok=True)\n",
    "\n",
    "output = f'{output_dir}/over_sampled_no_selection/'\n",
    "\n",
    "# Save the model\n",
    "import joblib\n",
    "joblib.dump(best_model, f'{output}/model.pkl')\n",
    "\n",
    "# Save the best hyperparameters\n",
    "import json\n",
    "with open(f'{output}/best_hyperparams.json', 'w') as f:\n",
    "    json.dump(best_hyperparams, f)\n",
    "\n",
    "# Save the accuracy\n",
    "with open(f'{output}/accuracy.txt', 'w') as f:\n",
    "    f.write(str(accuracy))\n",
    "\n",
    "# convert to pandas dataframe\n",
    "df = pd.DataFrame(gridSearch.cv_results_)\n",
    "\n",
    "# save to csv\n",
    "df.to_csv(f'{output}/cv_results.csv', index=False)"
   ]
  },
  {
   "cell_type": "markdown",
   "metadata": {},
   "source": [
    "## Under Sampling - Selection"
   ]
  },
  {
   "cell_type": "code",
   "execution_count": 34,
   "metadata": {},
   "outputs": [
    {
     "name": "stdout",
     "output_type": "stream",
     "text": [
      "Fitting 5 folds for each of 42 candidates, totalling 210 fits\n",
      "[CV 1/5] END C=0.001, penalty=l1, solver=liblinear;, score=0.500 total time=   0.0s\n",
      "[CV 3/5] END C=0.001, penalty=l1, solver=liblinear;, score=0.500 total time=   0.0s\n",
      "[CV 2/5] END C=0.001, penalty=l1, solver=liblinear;, score=0.500 total time=   0.0s\n",
      "[CV 4/5] END C=0.001, penalty=l1, solver=liblinear;, score=0.494 total time=   0.0s[CV 5/5] END C=0.001, penalty=l1, solver=liblinear;, score=0.506 total time=   0.0s\n",
      "\n",
      "[CV 1/5] END ..C=0.001, penalty=l1, solver=saga;, score=0.500 total time=   0.0s\n",
      "[CV 3/5] END ..C=0.001, penalty=l1, solver=saga;, score=0.500 total time=   0.0s\n",
      "[CV 4/5] END ..C=0.001, penalty=l1, solver=saga;, score=0.494 total time=   0.0s\n",
      "[CV 2/5] END ...C=0.001, penalty=l1, solver=lbfgs;, score=nan total time=   0.0s\n",
      "[CV 5/5] END ..C=0.001, penalty=l1, solver=saga;, score=0.506 total time=   0.0s\n",
      "[CV 1/5] END ...C=0.001, penalty=l1, solver=lbfgs;, score=nan total time=   0.0s\n",
      "[CV 2/5] END ..C=0.001, penalty=l1, solver=saga;, score=0.500 total time=   0.0s\n",
      "[CV 3/5] END ...C=0.001, penalty=l1, solver=lbfgs;, score=nan total time=   0.0s\n",
      "[CV 4/5] END ...C=0.001, penalty=l1, solver=lbfgs;, score=nan total time=   0.0s\n",
      "[CV 5/5] END ...C=0.001, penalty=l1, solver=lbfgs;, score=nan total time=   0.0s\n",
      "[CV 1/5] END C=0.001, penalty=l2, solver=liblinear;, score=0.922 total time=   0.0s\n",
      "[CV 2/5] END C=0.001, penalty=l2, solver=liblinear;, score=0.922 total time=   0.0s\n",
      "[CV 3/5] END C=0.001, penalty=l2, solver=liblinear;, score=0.856 total time=   0.0s\n",
      "[CV 4/5] END C=0.001, penalty=l2, solver=liblinear;, score=0.899 total time=   0.0s\n",
      "[CV 5/5] END C=0.001, penalty=l2, solver=liblinear;, score=0.910 total time=   0.0s\n",
      "[CV 1/5] END C=0.01, penalty=l1, solver=liblinear;, score=0.711 total time=   0.0s\n",
      "[CV 2/5] END .C=0.001, penalty=l2, solver=lbfgs;, score=0.944 total time=   0.0s\n",
      "[CV 4/5] END .C=0.001, penalty=l2, solver=lbfgs;, score=0.899 total time=   0.0s\n",
      "[CV 2/5] END C=0.01, penalty=l1, solver=liblinear;, score=0.756 total time=   0.0s\n",
      "[CV 1/5] END ..C=0.001, penalty=l2, solver=saga;, score=0.889 total time=   0.0s\n",
      "[CV 3/5] END C=0.01, penalty=l1, solver=liblinear;, score=0.722 total time=   0.0s\n",
      "[CV 4/5] END ..C=0.001, penalty=l2, solver=saga;, score=0.899 total time=   0.0s\n",
      "[CV 5/5] END ..C=0.001, penalty=l2, solver=saga;, score=0.899 total time=   0.0s\n",
      "[CV 5/5] END .C=0.001, penalty=l2, solver=lbfgs;, score=0.899 total time=   0.0s\n",
      "[CV 5/5] END C=0.01, penalty=l1, solver=liblinear;, score=0.787 total time=   0.0s\n",
      "[CV 3/5] END ....C=0.01, penalty=l1, solver=lbfgs;, score=nan total time=   0.0s\n",
      "[CV 1/5] END ....C=0.01, penalty=l1, solver=lbfgs;, score=nan total time=   0.0s\n",
      "[CV 4/5] END C=0.01, penalty=l1, solver=liblinear;, score=0.697 total time=   0.0s\n",
      "[CV 4/5] END ....C=0.01, penalty=l1, solver=lbfgs;, score=nan total time=   0.0s\n",
      "[CV 2/5] END ....C=0.01, penalty=l1, solver=lbfgs;, score=nan total time=   0.0s\n",
      "[CV 3/5] END ..C=0.001, penalty=l2, solver=saga;, score=0.911 total time=   0.0s\n",
      "[CV 2/5] END ..C=0.001, penalty=l2, solver=saga;, score=0.944 total time=   0.0s\n",
      "[CV 3/5] END .C=0.001, penalty=l2, solver=lbfgs;, score=0.911 total time=   0.0s\n",
      "[CV 1/5] END .C=0.001, penalty=l2, solver=lbfgs;, score=0.889 total time=   0.0s\n",
      "[CV 5/5] END ....C=0.01, penalty=l1, solver=lbfgs;, score=nan total time=   0.0s\n",
      "[CV 1/5] END C=0.01, penalty=l2, solver=liblinear;, score=0.944 total time=   0.0s\n",
      "[CV 4/5] END ...C=0.01, penalty=l1, solver=saga;, score=0.888 total time=   0.0s\n",
      "[CV 1/5] END ...C=0.01, penalty=l1, solver=saga;, score=0.889 total time=   0.0s\n",
      "[CV 2/5] END ...C=0.01, penalty=l1, solver=saga;, score=0.956 total time=   0.0s\n",
      "[CV 2/5] END C=0.01, penalty=l2, solver=liblinear;, score=0.956 total time=   0.0s\n",
      "[CV 4/5] END C=0.01, penalty=l2, solver=liblinear;, score=0.921 total time=   0.0s\n",
      "[CV 3/5] END C=0.01, penalty=l2, solver=liblinear;, score=0.933 total time=   0.0s\n",
      "[CV 5/5] END ...C=0.01, penalty=l1, solver=saga;, score=0.899 total time=   0.0s\n",
      "[CV 5/5] END C=0.01, penalty=l2, solver=liblinear;, score=0.955 total time=   0.0s\n",
      "[CV 3/5] END ...C=0.01, penalty=l1, solver=saga;, score=0.911 total time=   0.0s\n",
      "[CV 2/5] END ..C=0.01, penalty=l2, solver=lbfgs;, score=0.978 total time=   0.0s\n",
      "[CV 4/5] END ..C=0.01, penalty=l2, solver=lbfgs;, score=0.910 total time=   0.0s\n",
      "[CV 3/5] END ..C=0.01, penalty=l2, solver=lbfgs;, score=0.922 total time=   0.0s\n",
      "[CV 1/5] END ...C=0.01, penalty=l2, solver=saga;, score=0.900 total time=   0.0s\n",
      "[CV 3/5] END ...C=0.01, penalty=l2, solver=saga;, score=0.922 total time=   0.0s\n",
      "[CV 5/5] END ...C=0.01, penalty=l2, solver=saga;, score=0.899 total time=   0.0s\n",
      "[CV 5/5] END ..C=0.01, penalty=l2, solver=lbfgs;, score=0.899 total time=   0.0s\n",
      "[CV 1/5] END C=0.1, penalty=l1, solver=liblinear;, score=0.933 total time=   0.0s\n",
      "[CV 1/5] END ..C=0.01, penalty=l2, solver=lbfgs;, score=0.900 total time=   0.0s\n",
      "[CV 2/5] END C=0.1, penalty=l1, solver=liblinear;, score=0.933 total time=   0.0s\n",
      "[CV 3/5] END C=0.1, penalty=l1, solver=liblinear;, score=0.933 total time=   0.0s\n",
      "[CV 4/5] END ...C=0.01, penalty=l2, solver=saga;, score=0.910 total time=   0.0s\n",
      "[CV 5/5] END C=0.1, penalty=l1, solver=liblinear;, score=0.910 total time=   0.0s\n",
      "[CV 1/5] END .....C=0.1, penalty=l1, solver=lbfgs;, score=nan total time=   0.0s\n",
      "[CV 2/5] END .....C=0.1, penalty=l1, solver=lbfgs;, score=nan total time=   0.0s\n",
      "[CV 4/5] END C=0.1, penalty=l1, solver=liblinear;, score=0.933 total time=   0.0s\n",
      "[CV 3/5] END .....C=0.1, penalty=l1, solver=lbfgs;, score=nan total time=   0.0s\n",
      "[CV 2/5] END ...C=0.01, penalty=l2, solver=saga;, score=0.978 total time=   0.0s\n",
      "[CV 4/5] END .....C=0.1, penalty=l1, solver=lbfgs;, score=nan total time=   0.0s\n",
      "[CV 5/5] END .....C=0.1, penalty=l1, solver=lbfgs;, score=nan total time=   0.0s\n",
      "[CV 2/5] END C=0.1, penalty=l2, solver=liblinear;, score=0.956 total time=   0.0s\n",
      "[CV 1/5] END C=0.1, penalty=l2, solver=liblinear;, score=0.922 total time=   0.0s\n",
      "[CV 3/5] END C=0.1, penalty=l2, solver=liblinear;, score=0.956 total time=   0.0s\n",
      "[CV 4/5] END ....C=0.1, penalty=l1, solver=saga;, score=0.933 total time=   0.0s\n",
      "[CV 4/5] END C=0.1, penalty=l2, solver=liblinear;, score=0.933 total time=   0.0s\n",
      "[CV 1/5] END ....C=0.1, penalty=l2, solver=saga;, score=0.922 total time=   0.0s\n",
      "[CV 3/5] END .C=1, penalty=l1, solver=liblinear;, score=0.956 total time=   0.0s\n",
      "[CV 5/5] END ....C=0.1, penalty=l2, solver=saga;, score=0.933 total time=   0.0s\n",
      "[CV 5/5] END C=0.1, penalty=l2, solver=liblinear;, score=0.933 total time=   0.0s\n",
      "[CV 2/5] END ....C=0.1, penalty=l1, solver=saga;, score=0.944 total time=   0.0s\n",
      "[CV 4/5] END ...C=0.1, penalty=l2, solver=lbfgs;, score=0.933 total time=   0.0s\n",
      "[CV 4/5] END .C=1, penalty=l1, solver=liblinear;, score=0.933 total time=   0.0s\n",
      "[CV 1/5] END .......C=1, penalty=l1, solver=lbfgs;, score=nan total time=   0.0s\n",
      "[CV 1/5] END ....C=0.1, penalty=l1, solver=saga;, score=0.933 total time=   0.0s\n",
      "[CV 2/5] END .......C=1, penalty=l1, solver=lbfgs;, score=nan total time=   0.0s\n",
      "[CV 3/5] END .......C=1, penalty=l1, solver=lbfgs;, score=nan total time=   0.0s\n",
      "[CV 5/5] END .C=1, penalty=l1, solver=liblinear;, score=0.921 total time=   0.0s\n",
      "[CV 1/5] END ...C=0.1, penalty=l2, solver=lbfgs;, score=0.922 total time=   0.0s[CV 5/5] END ...C=0.1, penalty=l2, solver=lbfgs;, score=0.921 total time=   0.0s\n",
      "[CV 4/5] END .......C=1, penalty=l1, solver=lbfgs;, score=nan total time=   0.0s\n",
      "\n",
      "[CV 5/5] END .......C=1, penalty=l1, solver=lbfgs;, score=nan total time=   0.0s\n",
      "[CV 4/5] END .C=1, penalty=l2, solver=liblinear;, score=0.933 total time=   0.0s\n",
      "[CV 5/5] END ....C=0.1, penalty=l1, solver=saga;, score=0.899 total time=   0.0s\n",
      "[CV 2/5] END ......C=1, penalty=l1, solver=saga;, score=0.956 total time=   0.0s\n",
      "[CV 1/5] END .C=1, penalty=l2, solver=liblinear;, score=0.900 total time=   0.0s\n",
      "[CV 1/5] END .C=1, penalty=l1, solver=liblinear;, score=0.900 total time=   0.0s\n",
      "[CV 2/5] END ....C=0.1, penalty=l2, solver=saga;, score=0.978 total time=   0.0s\n",
      "[CV 5/5] END .C=1, penalty=l2, solver=liblinear;, score=0.921 total time=   0.0s\n",
      "[CV 2/5] END ...C=0.1, penalty=l2, solver=lbfgs;, score=0.967 total time=   0.0s\n",
      "[CV 3/5] END ....C=0.1, penalty=l1, solver=saga;, score=0.922 total time=   0.0s\n",
      "[CV 2/5] END .C=1, penalty=l2, solver=liblinear;, score=0.956 total time=   0.0s\n",
      "[CV 2/5] END .C=1, penalty=l1, solver=liblinear;, score=0.956 total time=   0.0s\n",
      "[CV 3/5] END .C=1, penalty=l2, solver=liblinear;, score=0.956 total time=   0.0s\n",
      "[CV 3/5] END ...C=0.1, penalty=l2, solver=lbfgs;, score=0.944 total time=   0.0s\n",
      "[CV 1/5] END ......C=1, penalty=l1, solver=saga;, score=0.911 total time=   0.0s\n",
      "[CV 3/5] END ......C=1, penalty=l2, solver=saga;, score=0.956 total time=   0.0s\n",
      "[CV 2/5] END .....C=1, penalty=l2, solver=lbfgs;, score=0.956 total time=   0.0s\n",
      "[CV 3/5] END ......C=1, penalty=l1, solver=saga;, score=0.956 total time=   0.0s\n",
      "[CV 1/5] END C=10, penalty=l1, solver=liblinear;, score=0.900 total time=   0.0s\n",
      "[CV 3/5] END ....C=0.1, penalty=l2, solver=saga;, score=0.944 total time=   0.0s\n",
      "[CV 1/5] END ......C=1, penalty=l2, solver=saga;, score=0.911 total time=   0.0s\n",
      "[CV 5/5] END C=10, penalty=l1, solver=liblinear;, score=0.921 total time=   0.0s\n",
      "[CV 2/5] END C=10, penalty=l1, solver=liblinear;, score=0.956 total time=   0.0s\n",
      "[CV 3/5] END ......C=10, penalty=l1, solver=lbfgs;, score=nan total time=   0.0s\n",
      "[CV 4/5] END ......C=10, penalty=l1, solver=lbfgs;, score=nan total time=   0.0s\n",
      "[CV 3/5] END .....C=1, penalty=l2, solver=lbfgs;, score=0.956 total time=   0.0s\n",
      "[CV 3/5] END C=10, penalty=l1, solver=liblinear;, score=0.956 total time=   0.0s\n",
      "[CV 5/5] END ......C=10, penalty=l1, solver=lbfgs;, score=nan total time=   0.0s\n",
      "[CV 2/5] END C=10, penalty=l2, solver=liblinear;, score=0.956 total time=   0.0s\n",
      "[CV 4/5] END C=10, penalty=l1, solver=liblinear;, score=0.933 total time=   0.0s\n",
      "[CV 1/5] END C=10, penalty=l2, solver=liblinear;, score=0.900 total time=   0.0s\n",
      "[CV 4/5] END .....C=1, penalty=l2, solver=lbfgs;, score=0.933 total time=   0.0s\n",
      "[CV 3/5] END C=10, penalty=l2, solver=liblinear;, score=0.956 total time=   0.0s\n",
      "[CV 4/5] END .....C=10, penalty=l1, solver=saga;, score=0.933 total time=   0.0s[CV 4/5] END C=10, penalty=l2, solver=liblinear;, score=0.933 total time=   0.0s\n",
      "\n",
      "[CV 5/5] END .....C=1, penalty=l2, solver=lbfgs;, score=0.921 total time=   0.0s\n",
      "[CV 4/5] END ....C=10, penalty=l2, solver=lbfgs;, score=0.933 total time=   0.0s\n",
      "[CV 1/5] END .....C=10, penalty=l1, solver=saga;, score=0.911 total time=   0.0s\n",
      "[CV 3/5] END C=100, penalty=l1, solver=liblinear;, score=0.956 total time=   0.0s[CV 4/5] END ....C=0.1, penalty=l2, solver=saga;, score=0.933 total time=   0.0s\n",
      "[CV 5/5] END C=10, penalty=l2, solver=liblinear;, score=0.921 total time=   0.0s\n",
      "[CV 4/5] END ......C=1, penalty=l1, solver=saga;, score=0.933 total time=   0.0s\n",
      "\n",
      "[CV 5/5] END .....C=100, penalty=l1, solver=lbfgs;, score=nan total time=   0.0s\n",
      "[CV 5/5] END .....C=10, penalty=l2, solver=saga;, score=0.933 total time=   0.0s\n",
      "[CV 1/5] END .....C=100, penalty=l1, solver=lbfgs;, score=nan total time=   0.0s\n",
      "[CV 4/5] END C=100, penalty=l1, solver=liblinear;, score=0.933 total time=   0.0s\n",
      "[CV 2/5] END ......C=1, penalty=l2, solver=saga;, score=0.956 total time=   0.0s\n",
      "[CV 5/5] END ....C=10, penalty=l2, solver=lbfgs;, score=0.921 total time=   0.0s\n",
      "[CV 1/5] END C=100, penalty=l2, solver=liblinear;, score=0.900 total time=   0.0s\n",
      "[CV 1/5] END .....C=10, penalty=l2, solver=saga;, score=0.911 total time=   0.0s\n",
      "[CV 2/5] END .....C=100, penalty=l1, solver=lbfgs;, score=nan total time=   0.0s\n",
      "[CV 5/5] END C=100, penalty=l1, solver=liblinear;, score=0.921 total time=   0.0s\n",
      "[CV 2/5] END C=100, penalty=l2, solver=liblinear;, score=0.956 total time=   0.0s\n",
      "[CV 1/5] END ....C=10, penalty=l2, solver=lbfgs;, score=0.900 total time=   0.0s\n",
      "[CV 4/5] END ......C=1, penalty=l2, solver=saga;, score=0.933 total time=   0.0s\n",
      "[CV 1/5] END C=100, penalty=l1, solver=liblinear;, score=0.900 total time=   0.0s\n",
      "[CV 5/5] END .....C=10, penalty=l1, solver=saga;, score=0.933 total time=   0.0s\n",
      "[CV 4/5] END C=100, penalty=l2, solver=liblinear;, score=0.933 total time=   0.0s\n",
      "[CV 3/5] END C=100, penalty=l2, solver=liblinear;, score=0.956 total time=   0.0s\n",
      "[CV 1/5] END ......C=10, penalty=l1, solver=lbfgs;, score=nan total time=   0.0s\n",
      "[CV 3/5] END .....C=100, penalty=l1, solver=lbfgs;, score=nan total time=   0.0s\n",
      "[CV 5/5] END ......C=1, penalty=l1, solver=saga;, score=0.921 total time=   0.0s\n",
      "[CV 2/5] END C=100, penalty=l1, solver=liblinear;, score=0.956 total time=   0.0s\n",
      "[CV 2/5] END .....C=10, penalty=l1, solver=saga;, score=0.956 total time=   0.0s[CV 2/5] END ......C=10, penalty=l1, solver=lbfgs;, score=nan total time=   0.0s\n",
      "[CV 4/5] END .....C=100, penalty=l1, solver=lbfgs;, score=nan total time=   0.0s\n",
      "\n",
      "[CV 5/5] END C=100, penalty=l2, solver=liblinear;, score=0.921 total time=   0.0s\n",
      "[CV 2/5] END ....C=100, penalty=l1, solver=saga;, score=0.956 total time=   0.0s\n",
      "[CV 2/5] END ....C=10, penalty=l2, solver=lbfgs;, score=0.956 total time=   0.0s\n",
      "[CV 2/5] END .....C=10, penalty=l2, solver=saga;, score=0.956 total time=   0.0s\n",
      "[CV 1/5] END ....C=100, penalty=l1, solver=saga;, score=0.911 total time=   0.0s\n",
      "[CV 5/5] END ......C=1, penalty=l2, solver=saga;, score=0.933 total time=   0.0s\n",
      "[CV 3/5] END ....C=10, penalty=l2, solver=lbfgs;, score=0.956 total time=   0.0s\n",
      "[CV 1/5] END ....C=100, penalty=l2, solver=saga;, score=0.911 total time=   0.0s\n",
      "[CV 1/5] END .....C=1, penalty=l2, solver=lbfgs;, score=0.900 total time=   0.0s\n",
      "[CV 2/5] END ....C=100, penalty=l2, solver=saga;, score=0.956 total time=   0.0s\n",
      "[CV 3/5] END ....C=100, penalty=l2, solver=saga;, score=0.956 total time=   0.0s\n",
      "[CV 2/5] END ...C=100, penalty=l2, solver=lbfgs;, score=0.956 total time=   0.0s\n",
      "[CV 4/5] END ....C=100, penalty=l2, solver=saga;, score=0.933 total time=   0.0s\n",
      "[CV 5/5] END ....C=100, penalty=l2, solver=saga;, score=0.933 total time=   0.0s\n",
      "[CV 1/5] END ...C=100, penalty=l2, solver=lbfgs;, score=0.900 total time=   0.0s\n",
      "[CV 3/5] END ...C=100, penalty=l2, solver=lbfgs;, score=0.956 total time=   0.0s\n",
      "[CV 3/5] END .....C=10, penalty=l1, solver=saga;, score=0.956 total time=   0.0s\n",
      "[CV 3/5] END .....C=10, penalty=l2, solver=saga;, score=0.956 total time=   0.0s\n",
      "[CV 4/5] END ...C=100, penalty=l2, solver=lbfgs;, score=0.933 total time=   0.0s\n",
      "[CV 3/5] END ....C=100, penalty=l1, solver=saga;, score=0.956 total time=   0.0s\n",
      "[CV 1/5] END C=1000, penalty=l1, solver=liblinear;, score=0.900 total time=   0.0s\n",
      "[CV 2/5] END C=1000, penalty=l1, solver=liblinear;, score=0.956 total time=   0.0s\n",
      "[CV 3/5] END C=1000, penalty=l1, solver=liblinear;, score=0.956 total time=   0.0s\n",
      "[CV 4/5] END C=1000, penalty=l1, solver=liblinear;, score=0.933 total time=   0.0s\n",
      "[CV 5/5] END ...C=100, penalty=l2, solver=lbfgs;, score=0.921 total time=   0.0s\n",
      "[CV 5/5] END C=1000, penalty=l1, solver=liblinear;, score=0.921 total time=   0.0s\n",
      "[CV 1/5] END ....C=1000, penalty=l1, solver=lbfgs;, score=nan total time=   0.0s\n",
      "[CV 2/5] END ....C=1000, penalty=l1, solver=lbfgs;, score=nan total time=   0.0s\n",
      "[CV 3/5] END ....C=1000, penalty=l1, solver=lbfgs;, score=nan total time=   0.0s\n",
      "[CV 4/5] END ....C=1000, penalty=l1, solver=lbfgs;, score=nan total time=   0.0s\n",
      "[CV 5/5] END ....C=1000, penalty=l1, solver=lbfgs;, score=nan total time=   0.0s\n",
      "[CV 4/5] END .....C=10, penalty=l2, solver=saga;, score=0.933 total time=   0.0s\n",
      "[CV 1/5] END C=1000, penalty=l2, solver=liblinear;, score=0.900 total time=   0.0s\n",
      "[CV 2/5] END C=1000, penalty=l2, solver=liblinear;, score=0.956 total time=   0.0s\n",
      "[CV 3/5] END C=1000, penalty=l2, solver=liblinear;, score=0.956 total time=   0.0s\n",
      "[CV 4/5] END C=1000, penalty=l2, solver=liblinear;, score=0.933 total time=   0.0s\n",
      "[CV 4/5] END ....C=100, penalty=l1, solver=saga;, score=0.933 total time=   0.0s\n",
      "[CV 2/5] END ...C=1000, penalty=l1, solver=saga;, score=0.956 total time=   0.0s\n",
      "[CV 5/5] END C=1000, penalty=l2, solver=liblinear;, score=0.921 total time=   0.0s\n",
      "[CV 1/5] END ...C=1000, penalty=l1, solver=saga;, score=0.911 total time=   0.0s\n",
      "[CV 4/5] END ...C=1000, penalty=l1, solver=saga;, score=0.933 total time=   0.0s\n",
      "[CV 3/5] END ...C=1000, penalty=l1, solver=saga;, score=0.956 total time=   0.0s\n",
      "[CV 5/5] END ...C=1000, penalty=l1, solver=saga;, score=0.933 total time=   0.0s\n",
      "[CV 1/5] END ..C=1000, penalty=l2, solver=lbfgs;, score=0.900 total time=   0.0s\n",
      "[CV 2/5] END ..C=1000, penalty=l2, solver=lbfgs;, score=0.956 total time=   0.0s\n",
      "[CV 1/5] END ...C=1000, penalty=l2, solver=saga;, score=0.911 total time=   0.0s\n",
      "[CV 3/5] END ..C=1000, penalty=l2, solver=lbfgs;, score=0.956 total time=   0.0s\n",
      "[CV 2/5] END ...C=1000, penalty=l2, solver=saga;, score=0.956 total time=   0.0s\n",
      "[CV 4/5] END ..C=1000, penalty=l2, solver=lbfgs;, score=0.933 total time=   0.0s\n",
      "[CV 3/5] END ...C=1000, penalty=l2, solver=saga;, score=0.956 total time=   0.0s\n",
      "[CV 5/5] END ..C=1000, penalty=l2, solver=lbfgs;, score=0.921 total time=   0.0s\n",
      "[CV 5/5] END ....C=100, penalty=l1, solver=saga;, score=0.933 total time=   0.0s\n",
      "[CV 4/5] END ...C=1000, penalty=l2, solver=saga;, score=0.933 total time=   0.0s\n",
      "[CV 5/5] END ...C=1000, penalty=l2, solver=saga;, score=0.933 total time=   0.0s\n",
      "Best hyperparameters: {'C': 0.01, 'penalty': 'l2', 'solver': 'liblinear'}\n",
      "Best score: 0.9419475655430711\n"
     ]
    },
    {
     "name": "stderr",
     "output_type": "stream",
     "text": [
      "/home/leikrad/Projects/TAA/venv/lib/python3.11/site-packages/sklearn/linear_model/_sag.py:350: ConvergenceWarning: The max_iter was reached which means the coef_ did not converge\n",
      "  warnings.warn(\n",
      "/home/leikrad/Projects/TAA/venv/lib/python3.11/site-packages/sklearn/linear_model/_sag.py:350: ConvergenceWarning: The max_iter was reached which means the coef_ did not converge\n",
      "  warnings.warn(\n",
      "/home/leikrad/Projects/TAA/venv/lib/python3.11/site-packages/sklearn/linear_model/_sag.py:350: ConvergenceWarning: The max_iter was reached which means the coef_ did not converge\n",
      "  warnings.warn(\n",
      "/home/leikrad/Projects/TAA/venv/lib/python3.11/site-packages/sklearn/linear_model/_sag.py:350: ConvergenceWarning: The max_iter was reached which means the coef_ did not converge\n",
      "  warnings.warn(\n",
      "/home/leikrad/Projects/TAA/venv/lib/python3.11/site-packages/sklearn/linear_model/_sag.py:350: ConvergenceWarning: The max_iter was reached which means the coef_ did not converge\n",
      "  warnings.warn(\n",
      "/home/leikrad/Projects/TAA/venv/lib/python3.11/site-packages/sklearn/linear_model/_sag.py:350: ConvergenceWarning: The max_iter was reached which means the coef_ did not converge\n",
      "  warnings.warn(\n",
      "/home/leikrad/Projects/TAA/venv/lib/python3.11/site-packages/sklearn/linear_model/_sag.py:350: ConvergenceWarning: The max_iter was reached which means the coef_ did not converge\n",
      "  warnings.warn(\n",
      "/home/leikrad/Projects/TAA/venv/lib/python3.11/site-packages/sklearn/linear_model/_sag.py:350: ConvergenceWarning: The max_iter was reached which means the coef_ did not converge\n",
      "  warnings.warn(\n",
      "/home/leikrad/Projects/TAA/venv/lib/python3.11/site-packages/sklearn/linear_model/_sag.py:350: ConvergenceWarning: The max_iter was reached which means the coef_ did not converge\n",
      "  warnings.warn(\n",
      "/home/leikrad/Projects/TAA/venv/lib/python3.11/site-packages/sklearn/linear_model/_sag.py:350: ConvergenceWarning: The max_iter was reached which means the coef_ did not converge\n",
      "  warnings.warn(\n",
      "/home/leikrad/Projects/TAA/venv/lib/python3.11/site-packages/sklearn/linear_model/_sag.py:350: ConvergenceWarning: The max_iter was reached which means the coef_ did not converge\n",
      "  warnings.warn(\n",
      "/home/leikrad/Projects/TAA/venv/lib/python3.11/site-packages/sklearn/linear_model/_sag.py:350: ConvergenceWarning: The max_iter was reached which means the coef_ did not converge\n",
      "  warnings.warn(\n",
      "/home/leikrad/Projects/TAA/venv/lib/python3.11/site-packages/sklearn/linear_model/_sag.py:350: ConvergenceWarning: The max_iter was reached which means the coef_ did not converge\n",
      "  warnings.warn(\n",
      "/home/leikrad/Projects/TAA/venv/lib/python3.11/site-packages/sklearn/linear_model/_sag.py:350: ConvergenceWarning: The max_iter was reached which means the coef_ did not converge\n",
      "  warnings.warn(\n",
      "/home/leikrad/Projects/TAA/venv/lib/python3.11/site-packages/sklearn/linear_model/_sag.py:350: ConvergenceWarning: The max_iter was reached which means the coef_ did not converge\n",
      "  warnings.warn(\n",
      "/home/leikrad/Projects/TAA/venv/lib/python3.11/site-packages/sklearn/linear_model/_sag.py:350: ConvergenceWarning: The max_iter was reached which means the coef_ did not converge\n",
      "  warnings.warn(\n",
      "/home/leikrad/Projects/TAA/venv/lib/python3.11/site-packages/sklearn/linear_model/_sag.py:350: ConvergenceWarning: The max_iter was reached which means the coef_ did not converge\n",
      "  warnings.warn(\n",
      "/home/leikrad/Projects/TAA/venv/lib/python3.11/site-packages/sklearn/linear_model/_sag.py:350: ConvergenceWarning: The max_iter was reached which means the coef_ did not converge\n",
      "  warnings.warn(\n",
      "/home/leikrad/Projects/TAA/venv/lib/python3.11/site-packages/sklearn/linear_model/_sag.py:350: ConvergenceWarning: The max_iter was reached which means the coef_ did not converge\n",
      "  warnings.warn(\n",
      "/home/leikrad/Projects/TAA/venv/lib/python3.11/site-packages/sklearn/linear_model/_sag.py:350: ConvergenceWarning: The max_iter was reached which means the coef_ did not converge\n",
      "  warnings.warn(\n",
      "/home/leikrad/Projects/TAA/venv/lib/python3.11/site-packages/sklearn/linear_model/_sag.py:350: ConvergenceWarning: The max_iter was reached which means the coef_ did not converge\n",
      "  warnings.warn(\n",
      "/home/leikrad/Projects/TAA/venv/lib/python3.11/site-packages/sklearn/linear_model/_sag.py:350: ConvergenceWarning: The max_iter was reached which means the coef_ did not converge\n",
      "  warnings.warn(\n",
      "/home/leikrad/Projects/TAA/venv/lib/python3.11/site-packages/sklearn/linear_model/_sag.py:350: ConvergenceWarning: The max_iter was reached which means the coef_ did not converge\n",
      "  warnings.warn(\n",
      "/home/leikrad/Projects/TAA/venv/lib/python3.11/site-packages/sklearn/linear_model/_sag.py:350: ConvergenceWarning: The max_iter was reached which means the coef_ did not converge\n",
      "  warnings.warn(\n",
      "/home/leikrad/Projects/TAA/venv/lib/python3.11/site-packages/sklearn/linear_model/_sag.py:350: ConvergenceWarning: The max_iter was reached which means the coef_ did not converge\n",
      "  warnings.warn(\n",
      "/home/leikrad/Projects/TAA/venv/lib/python3.11/site-packages/sklearn/linear_model/_sag.py:350: ConvergenceWarning: The max_iter was reached which means the coef_ did not converge\n",
      "  warnings.warn(\n",
      "/home/leikrad/Projects/TAA/venv/lib/python3.11/site-packages/sklearn/linear_model/_sag.py:350: ConvergenceWarning: The max_iter was reached which means the coef_ did not converge\n",
      "  warnings.warn(\n",
      "/home/leikrad/Projects/TAA/venv/lib/python3.11/site-packages/sklearn/linear_model/_sag.py:350: ConvergenceWarning: The max_iter was reached which means the coef_ did not converge\n",
      "  warnings.warn(\n",
      "/home/leikrad/Projects/TAA/venv/lib/python3.11/site-packages/sklearn/linear_model/_sag.py:350: ConvergenceWarning: The max_iter was reached which means the coef_ did not converge\n",
      "  warnings.warn(\n",
      "/home/leikrad/Projects/TAA/venv/lib/python3.11/site-packages/sklearn/linear_model/_sag.py:350: ConvergenceWarning: The max_iter was reached which means the coef_ did not converge\n",
      "  warnings.warn(\n",
      "/home/leikrad/Projects/TAA/venv/lib/python3.11/site-packages/sklearn/linear_model/_sag.py:350: ConvergenceWarning: The max_iter was reached which means the coef_ did not converge\n",
      "  warnings.warn(\n",
      "/home/leikrad/Projects/TAA/venv/lib/python3.11/site-packages/sklearn/linear_model/_sag.py:350: ConvergenceWarning: The max_iter was reached which means the coef_ did not converge\n",
      "  warnings.warn(\n",
      "/home/leikrad/Projects/TAA/venv/lib/python3.11/site-packages/sklearn/linear_model/_sag.py:350: ConvergenceWarning: The max_iter was reached which means the coef_ did not converge\n",
      "  warnings.warn(\n",
      "/home/leikrad/Projects/TAA/venv/lib/python3.11/site-packages/sklearn/linear_model/_sag.py:350: ConvergenceWarning: The max_iter was reached which means the coef_ did not converge\n",
      "  warnings.warn(\n",
      "/home/leikrad/Projects/TAA/venv/lib/python3.11/site-packages/sklearn/linear_model/_sag.py:350: ConvergenceWarning: The max_iter was reached which means the coef_ did not converge\n",
      "  warnings.warn(\n",
      "/home/leikrad/Projects/TAA/venv/lib/python3.11/site-packages/sklearn/linear_model/_sag.py:350: ConvergenceWarning: The max_iter was reached which means the coef_ did not converge\n",
      "  warnings.warn(\n",
      "/home/leikrad/Projects/TAA/venv/lib/python3.11/site-packages/sklearn/linear_model/_sag.py:350: ConvergenceWarning: The max_iter was reached which means the coef_ did not converge\n",
      "  warnings.warn(\n",
      "/home/leikrad/Projects/TAA/venv/lib/python3.11/site-packages/sklearn/linear_model/_sag.py:350: ConvergenceWarning: The max_iter was reached which means the coef_ did not converge\n",
      "  warnings.warn(\n",
      "/home/leikrad/Projects/TAA/venv/lib/python3.11/site-packages/sklearn/linear_model/_sag.py:350: ConvergenceWarning: The max_iter was reached which means the coef_ did not converge\n",
      "  warnings.warn(\n",
      "/home/leikrad/Projects/TAA/venv/lib/python3.11/site-packages/sklearn/linear_model/_sag.py:350: ConvergenceWarning: The max_iter was reached which means the coef_ did not converge\n",
      "  warnings.warn(\n",
      "/home/leikrad/Projects/TAA/venv/lib/python3.11/site-packages/sklearn/linear_model/_sag.py:350: ConvergenceWarning: The max_iter was reached which means the coef_ did not converge\n",
      "  warnings.warn(\n",
      "/home/leikrad/Projects/TAA/venv/lib/python3.11/site-packages/sklearn/linear_model/_sag.py:350: ConvergenceWarning: The max_iter was reached which means the coef_ did not converge\n",
      "  warnings.warn(\n",
      "/home/leikrad/Projects/TAA/venv/lib/python3.11/site-packages/sklearn/linear_model/_sag.py:350: ConvergenceWarning: The max_iter was reached which means the coef_ did not converge\n",
      "  warnings.warn(\n",
      "/home/leikrad/Projects/TAA/venv/lib/python3.11/site-packages/sklearn/linear_model/_sag.py:350: ConvergenceWarning: The max_iter was reached which means the coef_ did not converge\n",
      "  warnings.warn(\n",
      "/home/leikrad/Projects/TAA/venv/lib/python3.11/site-packages/sklearn/linear_model/_sag.py:350: ConvergenceWarning: The max_iter was reached which means the coef_ did not converge\n",
      "  warnings.warn(\n",
      "/home/leikrad/Projects/TAA/venv/lib/python3.11/site-packages/sklearn/linear_model/_sag.py:350: ConvergenceWarning: The max_iter was reached which means the coef_ did not converge\n",
      "  warnings.warn(\n",
      "/home/leikrad/Projects/TAA/venv/lib/python3.11/site-packages/sklearn/linear_model/_sag.py:350: ConvergenceWarning: The max_iter was reached which means the coef_ did not converge\n",
      "  warnings.warn(\n",
      "/home/leikrad/Projects/TAA/venv/lib/python3.11/site-packages/sklearn/linear_model/_sag.py:350: ConvergenceWarning: The max_iter was reached which means the coef_ did not converge\n",
      "  warnings.warn(\n",
      "/home/leikrad/Projects/TAA/venv/lib/python3.11/site-packages/sklearn/linear_model/_sag.py:350: ConvergenceWarning: The max_iter was reached which means the coef_ did not converge\n",
      "  warnings.warn(\n",
      "/home/leikrad/Projects/TAA/venv/lib/python3.11/site-packages/sklearn/linear_model/_sag.py:350: ConvergenceWarning: The max_iter was reached which means the coef_ did not converge\n",
      "  warnings.warn(\n",
      "/home/leikrad/Projects/TAA/venv/lib/python3.11/site-packages/sklearn/linear_model/_sag.py:350: ConvergenceWarning: The max_iter was reached which means the coef_ did not converge\n",
      "  warnings.warn(\n",
      "/home/leikrad/Projects/TAA/venv/lib/python3.11/site-packages/sklearn/linear_model/_sag.py:350: ConvergenceWarning: The max_iter was reached which means the coef_ did not converge\n",
      "  warnings.warn(\n",
      "/home/leikrad/Projects/TAA/venv/lib/python3.11/site-packages/sklearn/linear_model/_sag.py:350: ConvergenceWarning: The max_iter was reached which means the coef_ did not converge\n",
      "  warnings.warn(\n",
      "/home/leikrad/Projects/TAA/venv/lib/python3.11/site-packages/sklearn/linear_model/_sag.py:350: ConvergenceWarning: The max_iter was reached which means the coef_ did not converge\n",
      "  warnings.warn(\n",
      "/home/leikrad/Projects/TAA/venv/lib/python3.11/site-packages/sklearn/linear_model/_sag.py:350: ConvergenceWarning: The max_iter was reached which means the coef_ did not converge\n",
      "  warnings.warn(\n",
      "/home/leikrad/Projects/TAA/venv/lib/python3.11/site-packages/sklearn/linear_model/_sag.py:350: ConvergenceWarning: The max_iter was reached which means the coef_ did not converge\n",
      "  warnings.warn(\n",
      "/home/leikrad/Projects/TAA/venv/lib/python3.11/site-packages/sklearn/linear_model/_sag.py:350: ConvergenceWarning: The max_iter was reached which means the coef_ did not converge\n",
      "  warnings.warn(\n",
      "/home/leikrad/Projects/TAA/venv/lib/python3.11/site-packages/sklearn/linear_model/_sag.py:350: ConvergenceWarning: The max_iter was reached which means the coef_ did not converge\n",
      "  warnings.warn(\n",
      "/home/leikrad/Projects/TAA/venv/lib/python3.11/site-packages/sklearn/linear_model/_sag.py:350: ConvergenceWarning: The max_iter was reached which means the coef_ did not converge\n",
      "  warnings.warn(\n",
      "/home/leikrad/Projects/TAA/venv/lib/python3.11/site-packages/sklearn/linear_model/_sag.py:350: ConvergenceWarning: The max_iter was reached which means the coef_ did not converge\n",
      "  warnings.warn(\n",
      "/home/leikrad/Projects/TAA/venv/lib/python3.11/site-packages/sklearn/linear_model/_sag.py:350: ConvergenceWarning: The max_iter was reached which means the coef_ did not converge\n",
      "  warnings.warn(\n",
      "/home/leikrad/Projects/TAA/venv/lib/python3.11/site-packages/sklearn/linear_model/_sag.py:350: ConvergenceWarning: The max_iter was reached which means the coef_ did not converge\n",
      "  warnings.warn(\n",
      "/home/leikrad/Projects/TAA/venv/lib/python3.11/site-packages/sklearn/linear_model/_sag.py:350: ConvergenceWarning: The max_iter was reached which means the coef_ did not converge\n",
      "  warnings.warn(\n",
      "/home/leikrad/Projects/TAA/venv/lib/python3.11/site-packages/sklearn/linear_model/_sag.py:350: ConvergenceWarning: The max_iter was reached which means the coef_ did not converge\n",
      "  warnings.warn(\n",
      "/home/leikrad/Projects/TAA/venv/lib/python3.11/site-packages/sklearn/linear_model/_sag.py:350: ConvergenceWarning: The max_iter was reached which means the coef_ did not converge\n",
      "  warnings.warn(\n",
      "/home/leikrad/Projects/TAA/venv/lib/python3.11/site-packages/sklearn/model_selection/_validation.py:547: FitFailedWarning: \n",
      "35 fits failed out of a total of 210.\n",
      "The score on these train-test partitions for these parameters will be set to nan.\n",
      "If these failures are not expected, you can try to debug them by setting error_score='raise'.\n",
      "\n",
      "Below are more details about the failures:\n",
      "--------------------------------------------------------------------------------\n",
      "35 fits failed with the following error:\n",
      "Traceback (most recent call last):\n",
      "  File \"/home/leikrad/Projects/TAA/venv/lib/python3.11/site-packages/sklearn/model_selection/_validation.py\", line 895, in _fit_and_score\n",
      "    estimator.fit(X_train, y_train, **fit_params)\n",
      "  File \"/home/leikrad/Projects/TAA/venv/lib/python3.11/site-packages/sklearn/base.py\", line 1474, in wrapper\n",
      "    return fit_method(estimator, *args, **kwargs)\n",
      "           ^^^^^^^^^^^^^^^^^^^^^^^^^^^^^^^^^^^^^^\n",
      "  File \"/home/leikrad/Projects/TAA/venv/lib/python3.11/site-packages/sklearn/linear_model/_logistic.py\", line 1172, in fit\n",
      "    solver = _check_solver(self.solver, self.penalty, self.dual)\n",
      "             ^^^^^^^^^^^^^^^^^^^^^^^^^^^^^^^^^^^^^^^^^^^^^^^^^^^\n",
      "  File \"/home/leikrad/Projects/TAA/venv/lib/python3.11/site-packages/sklearn/linear_model/_logistic.py\", line 67, in _check_solver\n",
      "    raise ValueError(\n",
      "ValueError: Solver lbfgs supports only 'l2' or None penalties, got l1 penalty.\n",
      "\n",
      "  warnings.warn(some_fits_failed_message, FitFailedWarning)\n",
      "/home/leikrad/Projects/TAA/venv/lib/python3.11/site-packages/sklearn/model_selection/_search.py:1051: UserWarning: One or more of the test scores are non-finite: [0.5        0.5               nan 0.90179775 0.90843945 0.90843945\n",
      " 0.73440699 0.90841448        nan 0.94194757 0.92179775 0.92179775\n",
      " 0.92853933 0.92629213        nan 0.93970037 0.9419226  0.93745318\n",
      " 0.93300874 0.93523096        nan 0.93300874 0.93747815 0.93300874\n",
      " 0.93300874 0.93747815        nan 0.93300874 0.93747815 0.93300874\n",
      " 0.93300874 0.93747815        nan 0.93300874 0.93747815 0.93300874\n",
      " 0.93300874 0.93747815        nan 0.93300874 0.93747815 0.93300874]\n",
      "  warnings.warn(\n"
     ]
    },
    {
     "name": "stdout",
     "output_type": "stream",
     "text": [
      "Accuracy: 0.9431100817997091\n"
     ]
    }
   ],
   "source": [
    "from sklearn.linear_model import LogisticRegression\n",
    "from sklearn.model_selection import GridSearchCV\n",
    "\n",
    "# Create logistic regression\n",
    "log_reg = LogisticRegression()\n",
    "\n",
    "gridSearch = GridSearchCV(log_reg, param_grid,refit=True, verbose=3, scoring=\"accuracy\" ,cv=5,n_jobs=-1,return_train_score=False)\n",
    "\n",
    "# Under sampled set\n",
    "X_train = np.load(f'{base_dir}/under_sampled_best_X_train.npy')\n",
    "y_train = np.load(f'{base_dir}/under_sampled_y_train.npy')\n",
    "\n",
    "# cant concatenate the validation set because it is not under sampled\n",
    "\n",
    "y_train = y_train.ravel()\n",
    "\n",
    "gridSearch.fit(X_train, y_train)\n",
    "\n",
    "# Get the best model\n",
    "best_model = gridSearch.best_estimator_\n",
    "\n",
    "# Get the best hyperparameters\n",
    "best_hyperparams = gridSearch.best_params_\n",
    "\n",
    "# Get the best score\n",
    "\n",
    "best_score = gridSearch.best_score_\n",
    "\n",
    "print(f'Best hyperparameters: {best_hyperparams}')\n",
    "print(f'Best score: {best_score}')\n",
    "\n",
    "# Predict the test set\n",
    "y_pred = best_model.predict(under_sampled_best_X_test)\n",
    "\n",
    "# Calculate the accuracy\n",
    "accuracy = np.mean(y_pred == y_test)\n",
    "print(f'Accuracy: {accuracy}')\n",
    "\n",
    "os.makedirs(output_dir + '/under_sampled_best_selection', exist_ok=True)\n",
    "\n",
    "output = f'{output_dir}/under_sampled_best_selection/'\n",
    "\n",
    "# Save the model\n",
    "import joblib\n",
    "joblib.dump(best_model, f'{output}/model.pkl')\n",
    "\n",
    "# Save the best hyperparameters\n",
    "import json\n",
    "with open(f'{output}/best_hyperparams.json', 'w') as f:\n",
    "    json.dump(best_hyperparams, f)\n",
    "\n",
    "# Save the accuracy\n",
    "with open(f'{output}/accuracy.txt', 'w') as f:\n",
    "    f.write(str(accuracy))\n",
    "\n",
    "# convert to pandas dataframe\n",
    "df = pd.DataFrame(gridSearch.cv_results_)\n",
    "\n",
    "# save to csv\n",
    "df.to_csv(f'{output}/cv_results.csv', index=False)"
   ]
  },
  {
   "cell_type": "markdown",
   "metadata": {},
   "source": [
    "## Over Sampling - Selection"
   ]
  },
  {
   "cell_type": "code",
   "execution_count": 36,
   "metadata": {},
   "outputs": [
    {
     "name": "stdout",
     "output_type": "stream",
     "text": [
      "Fitting 5 folds for each of 42 candidates, totalling 210 fits\n",
      "[CV 1/5] END ...C=0.001, penalty=l1, solver=lbfgs;, score=nan total time=   0.1s\n",
      "[CV 2/5] END ...C=0.001, penalty=l1, solver=lbfgs;, score=nan total time=   0.1s\n",
      "[CV 3/5] END ...C=0.001, penalty=l1, solver=lbfgs;, score=nan total time=   0.1s\n",
      "[CV 4/5] END ...C=0.001, penalty=l1, solver=lbfgs;, score=nan total time=   0.0s\n",
      "[CV 5/5] END ...C=0.001, penalty=l1, solver=lbfgs;, score=nan total time=   0.0s\n",
      "[CV 4/5] END C=0.001, penalty=l1, solver=liblinear;, score=0.941 total time=   0.8s\n",
      "[CV 3/5] END C=0.001, penalty=l1, solver=liblinear;, score=0.938 total time=   0.9s\n",
      "[CV 5/5] END C=0.001, penalty=l1, solver=liblinear;, score=0.939 total time=   0.9s\n",
      "[CV 2/5] END C=0.001, penalty=l1, solver=liblinear;, score=0.939 total time=   0.9s\n",
      "[CV 1/5] END C=0.001, penalty=l1, solver=liblinear;, score=0.939 total time=   1.0s\n",
      "[CV 1/5] END C=0.001, penalty=l2, solver=liblinear;, score=0.940 total time=   0.9s\n",
      "[CV 2/5] END C=0.001, penalty=l2, solver=liblinear;, score=0.940 total time=   0.9s\n",
      "[CV 3/5] END C=0.001, penalty=l2, solver=liblinear;, score=0.939 total time=   0.6s\n",
      "[CV 4/5] END C=0.001, penalty=l2, solver=liblinear;, score=0.941 total time=   0.6s\n",
      "[CV 5/5] END C=0.001, penalty=l2, solver=liblinear;, score=0.941 total time=   0.7s\n",
      "[CV 2/5] END .C=0.001, penalty=l2, solver=lbfgs;, score=0.941 total time=   0.2s\n",
      "[CV 4/5] END .C=0.001, penalty=l2, solver=lbfgs;, score=0.942 total time=   0.3s\n",
      "[CV 3/5] END .C=0.001, penalty=l2, solver=lbfgs;, score=0.940 total time=   0.2s\n",
      "[CV 5/5] END .C=0.001, penalty=l2, solver=lbfgs;, score=0.941 total time=   0.2s\n",
      "[CV 1/5] END C=0.01, penalty=l1, solver=liblinear;, score=0.940 total time=   0.4s\n",
      "[CV 5/5] END ..C=0.001, penalty=l1, solver=saga;, score=0.939 total time=   2.5s\n",
      "[CV 1/5] END ..C=0.001, penalty=l1, solver=saga;, score=0.939 total time=   2.6s\n",
      "[CV 3/5] END C=0.01, penalty=l1, solver=liblinear;, score=0.939 total time=   0.5s\n",
      "[CV 3/5] END ..C=0.001, penalty=l1, solver=saga;, score=0.938 total time=   2.7s\n",
      "[CV 4/5] END ..C=0.001, penalty=l1, solver=saga;, score=0.941 total time=   2.9s\n",
      "[CV 1/5] END ....C=0.01, penalty=l1, solver=lbfgs;, score=nan total time=   0.0s\n",
      "[CV 2/5] END ....C=0.01, penalty=l1, solver=lbfgs;, score=nan total time=   0.0s\n",
      "[CV 3/5] END ....C=0.01, penalty=l1, solver=lbfgs;, score=nan total time=   0.0s\n",
      "[CV 4/5] END ....C=0.01, penalty=l1, solver=lbfgs;, score=nan total time=   0.0s\n",
      "[CV 5/5] END ....C=0.01, penalty=l1, solver=lbfgs;, score=nan total time=   0.0s\n",
      "[CV 2/5] END C=0.01, penalty=l1, solver=liblinear;, score=0.939 total time=   0.6s\n",
      "[CV 2/5] END ..C=0.001, penalty=l1, solver=saga;, score=0.939 total time=   3.1s\n",
      "[CV 4/5] END C=0.01, penalty=l1, solver=liblinear;, score=0.941 total time=   0.5s\n",
      "[CV 5/5] END C=0.01, penalty=l1, solver=liblinear;, score=0.940 total time=   0.6s\n",
      "[CV 2/5] END ..C=0.001, penalty=l2, solver=saga;, score=0.941 total time=   2.3s\n",
      "[CV 4/5] END ..C=0.001, penalty=l2, solver=saga;, score=0.942 total time=   2.3s\n",
      "[CV 3/5] END ..C=0.001, penalty=l2, solver=saga;, score=0.940 total time=   2.4s\n",
      "[CV 2/5] END C=0.01, penalty=l2, solver=liblinear;, score=0.939 total time=   0.6s\n",
      "[CV 5/5] END ..C=0.001, penalty=l2, solver=saga;, score=0.941 total time=   2.3s\n",
      "[CV 1/5] END C=0.01, penalty=l2, solver=liblinear;, score=0.939 total time=   0.7s\n",
      "[CV 1/5] END ..C=0.001, penalty=l2, solver=saga;, score=0.941 total time=   2.8s\n",
      "[CV 2/5] END ..C=0.01, penalty=l2, solver=lbfgs;, score=0.939 total time=   0.4s\n",
      "[CV 4/5] END C=0.01, penalty=l2, solver=liblinear;, score=0.941 total time=   0.9s\n",
      "[CV 1/5] END .C=0.001, penalty=l2, solver=lbfgs;, score=0.941 total time=   0.4s\n",
      "[CV 4/5] END ..C=0.01, penalty=l2, solver=lbfgs;, score=0.941 total time=   0.4s\n",
      "[CV 3/5] END ..C=0.01, penalty=l2, solver=lbfgs;, score=0.939 total time=   0.5s\n",
      "[CV 3/5] END C=0.01, penalty=l2, solver=liblinear;, score=0.938 total time=   0.8s\n",
      "[CV 1/5] END C=0.1, penalty=l1, solver=liblinear;, score=0.939 total time=   0.7s\n",
      "[CV 5/5] END ..C=0.01, penalty=l2, solver=lbfgs;, score=0.940 total time=   0.4s\n",
      "[CV 5/5] END C=0.01, penalty=l2, solver=liblinear;, score=0.940 total time=   0.8s\n",
      "[CV 1/5] END .....C=0.1, penalty=l1, solver=lbfgs;, score=nan total time=   0.0s\n",
      "[CV 2/5] END .....C=0.1, penalty=l1, solver=lbfgs;, score=nan total time=   0.0s\n",
      "[CV 3/5] END .....C=0.1, penalty=l1, solver=lbfgs;, score=nan total time=   0.0s\n",
      "[CV 4/5] END .....C=0.1, penalty=l1, solver=lbfgs;, score=nan total time=   0.0s\n",
      "[CV 5/5] END .....C=0.1, penalty=l1, solver=lbfgs;, score=nan total time=   0.0s\n",
      "[CV 3/5] END C=0.1, penalty=l1, solver=liblinear;, score=0.938 total time=   0.9s\n",
      "[CV 2/5] END C=0.1, penalty=l1, solver=liblinear;, score=0.939 total time=   0.6s\n",
      "[CV 5/5] END C=0.1, penalty=l1, solver=liblinear;, score=0.940 total time=   0.8s\n",
      "[CV 1/5] END C=0.1, penalty=l2, solver=liblinear;, score=0.939 total time=   0.6s\n",
      "[CV 4/5] END ...C=0.01, penalty=l1, solver=saga;, score=0.941 total time=   2.9s\n",
      "[CV 1/5] END ...C=0.01, penalty=l2, solver=saga;, score=0.939 total time=   2.4s\n",
      "[CV 2/5] END ...C=0.01, penalty=l1, solver=saga;, score=0.939 total time=   3.0s\n",
      "[CV 2/5] END C=0.1, penalty=l2, solver=liblinear;, score=0.939 total time=   0.6s\n",
      "[CV 3/5] END ...C=0.01, penalty=l2, solver=saga;, score=0.938 total time=   2.5s\n",
      "[CV 4/5] END C=0.1, penalty=l1, solver=liblinear;, score=0.941 total time=   0.7s\n",
      "[CV 1/5] END ...C=0.01, penalty=l1, solver=saga;, score=0.940 total time=   2.7s\n",
      "[CV 3/5] END C=0.1, penalty=l2, solver=liblinear;, score=0.938 total time=   0.6s\n",
      "[CV 4/5] END C=0.1, penalty=l2, solver=liblinear;, score=0.940 total time=   0.6s\n",
      "[CV 5/5] END ...C=0.01, penalty=l2, solver=saga;, score=0.940 total time=   2.9s\n",
      "[CV 5/5] END C=0.1, penalty=l2, solver=liblinear;, score=0.940 total time=   0.8s\n",
      "[CV 1/5] END ..C=0.01, penalty=l2, solver=lbfgs;, score=0.940 total time=   0.3s\n",
      "[CV 2/5] END ....C=0.1, penalty=l1, solver=saga;, score=0.939 total time=   2.8s\n",
      "[CV 1/5] END ....C=0.1, penalty=l1, solver=saga;, score=0.939 total time=   2.2s\n",
      "[CV 5/5] END ...C=0.01, penalty=l1, solver=saga;, score=0.940 total time=   1.9s\n",
      "[CV 4/5] END ...C=0.01, penalty=l2, solver=saga;, score=0.941 total time=   1.8s\n",
      "[CV 4/5] END ....C=0.1, penalty=l1, solver=saga;, score=0.940 total time=   3.1s\n",
      "[CV 1/5] END ...C=0.1, penalty=l2, solver=lbfgs;, score=0.939 total time=   0.4s\n",
      "[CV 1/5] END ....C=0.1, penalty=l2, solver=saga;, score=0.939 total time=   1.9s\n",
      "[CV 2/5] END ...C=0.1, penalty=l2, solver=lbfgs;, score=0.939 total time=   0.3s\n",
      "[CV 2/5] END ....C=0.1, penalty=l2, solver=saga;, score=0.939 total time=   1.7s\n",
      "[CV 3/5] END ...C=0.1, penalty=l2, solver=lbfgs;, score=0.938 total time=   0.4s\n",
      "[CV 2/5] END ...C=0.01, penalty=l2, solver=saga;, score=0.939 total time=   2.6s\n",
      "[CV 4/5] END ...C=0.1, penalty=l2, solver=lbfgs;, score=0.940 total time=   0.4s\n",
      "[CV 3/5] END ...C=0.01, penalty=l1, solver=saga;, score=0.939 total time=   2.7s\n",
      "[CV 3/5] END ....C=0.1, penalty=l2, solver=saga;, score=0.938 total time=   2.1s\n",
      "[CV 5/5] END ...C=0.1, penalty=l2, solver=lbfgs;, score=0.940 total time=   0.5s\n",
      "[CV 1/5] END .C=1, penalty=l1, solver=liblinear;, score=0.939 total time=   0.6s\n",
      "[CV 2/5] END .C=1, penalty=l1, solver=liblinear;, score=0.939 total time=   0.8s\n",
      "[CV 3/5] END .C=1, penalty=l1, solver=liblinear;, score=0.938 total time=   0.9s\n",
      "[CV 1/5] END .......C=1, penalty=l1, solver=lbfgs;, score=nan total time=   0.0s\n",
      "[CV 2/5] END .......C=1, penalty=l1, solver=lbfgs;, score=nan total time=   0.0s\n",
      "[CV 5/5] END .C=1, penalty=l1, solver=liblinear;, score=0.940 total time=   0.6s\n",
      "[CV 3/5] END .......C=1, penalty=l1, solver=lbfgs;, score=nan total time=   0.0s\n",
      "[CV 4/5] END .......C=1, penalty=l1, solver=lbfgs;, score=nan total time=   0.0s\n",
      "[CV 5/5] END .......C=1, penalty=l1, solver=lbfgs;, score=nan total time=   0.0s\n",
      "[CV 4/5] END .C=1, penalty=l1, solver=liblinear;, score=0.940 total time=   0.8s\n",
      "[CV 1/5] END .C=1, penalty=l2, solver=liblinear;, score=0.939 total time=   0.4s\n",
      "[CV 2/5] END .C=1, penalty=l2, solver=liblinear;, score=0.939 total time=   0.4s\n",
      "[CV 5/5] END ....C=0.1, penalty=l2, solver=saga;, score=0.940 total time=   2.8s\n",
      "[CV 3/5] END .C=1, penalty=l2, solver=liblinear;, score=0.938 total time=   0.6s\n",
      "[CV 3/5] END ....C=0.1, penalty=l1, solver=saga;, score=0.938 total time=   2.4s\n",
      "[CV 4/5] END ....C=0.1, penalty=l2, solver=saga;, score=0.940 total time=   3.1s\n",
      "[CV 5/5] END .C=1, penalty=l2, solver=liblinear;, score=0.940 total time=   0.4s\n",
      "[CV 4/5] END .C=1, penalty=l2, solver=liblinear;, score=0.940 total time=   0.5s\n",
      "[CV 1/5] END .....C=1, penalty=l2, solver=lbfgs;, score=0.939 total time=   0.2s\n",
      "[CV 1/5] END ......C=1, penalty=l1, solver=saga;, score=0.939 total time=   2.0s\n",
      "[CV 2/5] END .....C=1, penalty=l2, solver=lbfgs;, score=0.939 total time=   0.3s\n",
      "[CV 5/5] END ....C=0.1, penalty=l1, solver=saga;, score=0.940 total time=   2.7s\n",
      "[CV 3/5] END .....C=1, penalty=l2, solver=lbfgs;, score=0.938 total time=   0.3s\n",
      "[CV 4/5] END .....C=1, penalty=l2, solver=lbfgs;, score=0.940 total time=   0.3s\n",
      "[CV 5/5] END .....C=1, penalty=l2, solver=lbfgs;, score=0.940 total time=   0.3s\n",
      "[CV 4/5] END ......C=1, penalty=l1, solver=saga;, score=0.940 total time=   2.3s\n",
      "[CV 2/5] END ......C=1, penalty=l1, solver=saga;, score=0.939 total time=   2.5s\n",
      "[CV 3/5] END ......C=1, penalty=l1, solver=saga;, score=0.938 total time=   2.5s\n",
      "[CV 5/5] END ......C=1, penalty=l1, solver=saga;, score=0.940 total time=   2.3s\n",
      "[CV 2/5] END C=10, penalty=l1, solver=liblinear;, score=0.939 total time=   0.6s\n",
      "[CV 1/5] END C=10, penalty=l1, solver=liblinear;, score=0.939 total time=   0.8s\n",
      "[CV 3/5] END C=10, penalty=l1, solver=liblinear;, score=0.938 total time=   0.8s\n",
      "[CV 4/5] END C=10, penalty=l1, solver=liblinear;, score=0.940 total time=   0.8s\n",
      "[CV 1/5] END ......C=10, penalty=l1, solver=lbfgs;, score=nan total time=   0.0s\n",
      "[CV 2/5] END ......C=10, penalty=l1, solver=lbfgs;, score=nan total time=   0.0s\n",
      "[CV 5/5] END C=10, penalty=l1, solver=liblinear;, score=0.940 total time=   0.7s\n",
      "[CV 3/5] END ......C=10, penalty=l1, solver=lbfgs;, score=nan total time=   0.0s\n",
      "[CV 4/5] END ......C=10, penalty=l1, solver=lbfgs;, score=nan total time=   0.0s\n",
      "[CV 5/5] END ......C=10, penalty=l1, solver=lbfgs;, score=nan total time=   0.0s\n",
      "[CV 2/5] END ......C=1, penalty=l2, solver=saga;, score=0.939 total time=   2.1s\n",
      "[CV 1/5] END ......C=1, penalty=l2, solver=saga;, score=0.939 total time=   2.4s\n",
      "[CV 1/5] END C=10, penalty=l2, solver=liblinear;, score=0.939 total time=   0.5s\n",
      "[CV 2/5] END C=10, penalty=l2, solver=liblinear;, score=0.939 total time=   0.5s\n",
      "[CV 5/5] END ......C=1, penalty=l2, solver=saga;, score=0.940 total time=   2.4s\n",
      "[CV 4/5] END C=10, penalty=l2, solver=liblinear;, score=0.940 total time=   0.5s\n",
      "[CV 3/5] END C=10, penalty=l2, solver=liblinear;, score=0.938 total time=   0.6s\n",
      "[CV 3/5] END ......C=1, penalty=l2, solver=saga;, score=0.938 total time=   2.7s\n",
      "[CV 5/5] END C=10, penalty=l2, solver=liblinear;, score=0.940 total time=   0.5s\n",
      "[CV 1/5] END ....C=10, penalty=l2, solver=lbfgs;, score=0.939 total time=   0.2s\n",
      "[CV 4/5] END ......C=1, penalty=l2, solver=saga;, score=0.940 total time=   3.1s\n",
      "[CV 1/5] END .....C=10, penalty=l1, solver=saga;, score=0.939 total time=   2.1s\n",
      "[CV 2/5] END .....C=10, penalty=l1, solver=saga;, score=0.939 total time=   2.0s\n",
      "[CV 3/5] END ....C=10, penalty=l2, solver=lbfgs;, score=0.938 total time=   0.3s\n",
      "[CV 2/5] END ....C=10, penalty=l2, solver=lbfgs;, score=0.939 total time=   0.4s\n",
      "[CV 4/5] END ....C=10, penalty=l2, solver=lbfgs;, score=0.940 total time=   0.3s\n",
      "[CV 5/5] END ....C=10, penalty=l2, solver=lbfgs;, score=0.940 total time=   0.5s\n",
      "[CV 3/5] END .....C=10, penalty=l1, solver=saga;, score=0.938 total time=   2.2s\n",
      "[CV 1/5] END C=100, penalty=l1, solver=liblinear;, score=0.939 total time=   0.8s\n",
      "[CV 3/5] END C=100, penalty=l1, solver=liblinear;, score=0.938 total time=   0.7s\n",
      "[CV 2/5] END C=100, penalty=l1, solver=liblinear;, score=0.939 total time=   0.8s\n",
      "[CV 5/5] END C=100, penalty=l1, solver=liblinear;, score=0.940 total time=   0.7s\n",
      "[CV 5/5] END .....C=10, penalty=l1, solver=saga;, score=0.940 total time=   2.7s\n",
      "[CV 3/5] END .....C=10, penalty=l2, solver=saga;, score=0.938 total time=   1.9s\n",
      "[CV 1/5] END .....C=100, penalty=l1, solver=lbfgs;, score=nan total time=   0.0s\n",
      "[CV 2/5] END .....C=100, penalty=l1, solver=lbfgs;, score=nan total time=   0.0s\n",
      "[CV 4/5] END .....C=10, penalty=l1, solver=saga;, score=0.940 total time=   2.9s\n",
      "[CV 4/5] END C=100, penalty=l1, solver=liblinear;, score=0.940 total time=   0.8s\n",
      "[CV 3/5] END .....C=100, penalty=l1, solver=lbfgs;, score=nan total time=   0.0s\n",
      "[CV 5/5] END .....C=100, penalty=l1, solver=lbfgs;, score=nan total time=   0.0s\n",
      "[CV 4/5] END .....C=100, penalty=l1, solver=lbfgs;, score=nan total time=   0.0s\n",
      "[CV 1/5] END .....C=10, penalty=l2, solver=saga;, score=0.939 total time=   2.2s\n",
      "[CV 2/5] END .....C=10, penalty=l2, solver=saga;, score=0.939 total time=   2.4s\n",
      "[CV 4/5] END .....C=10, penalty=l2, solver=saga;, score=0.940 total time=   2.3s\n",
      "[CV 4/5] END C=100, penalty=l2, solver=liblinear;, score=0.940 total time=   0.6s\n",
      "[CV 2/5] END C=100, penalty=l2, solver=liblinear;, score=0.939 total time=   0.7s\n",
      "[CV 3/5] END C=100, penalty=l2, solver=liblinear;, score=0.938 total time=   0.8s\n",
      "[CV 5/5] END C=100, penalty=l2, solver=liblinear;, score=0.940 total time=   0.6s\n",
      "[CV 1/5] END C=100, penalty=l2, solver=liblinear;, score=0.939 total time=   0.9s\n",
      "[CV 5/5] END .....C=10, penalty=l2, solver=saga;, score=0.940 total time=   3.0s\n",
      "[CV 1/5] END ...C=100, penalty=l2, solver=lbfgs;, score=0.939 total time=   0.3s\n",
      "[CV 2/5] END ...C=100, penalty=l2, solver=lbfgs;, score=0.939 total time=   0.2s\n",
      "[CV 3/5] END ...C=100, penalty=l2, solver=lbfgs;, score=0.938 total time=   0.3s\n",
      "[CV 4/5] END ...C=100, penalty=l2, solver=lbfgs;, score=0.940 total time=   0.3s\n",
      "[CV 5/5] END ...C=100, penalty=l2, solver=lbfgs;, score=0.940 total time=   0.3s\n",
      "[CV 1/5] END ....C=100, penalty=l1, solver=saga;, score=0.939 total time=   2.3s\n",
      "[CV 4/5] END ....C=100, penalty=l1, solver=saga;, score=0.940 total time=   2.3s\n",
      "[CV 1/5] END C=1000, penalty=l1, solver=liblinear;, score=0.939 total time=   0.5s\n",
      "[CV 5/5] END ....C=100, penalty=l1, solver=saga;, score=0.940 total time=   2.3s\n",
      "[CV 2/5] END ....C=100, penalty=l1, solver=saga;, score=0.939 total time=   2.6s\n",
      "[CV 2/5] END C=1000, penalty=l1, solver=liblinear;, score=0.939 total time=   0.5s\n",
      "[CV 3/5] END ....C=100, penalty=l1, solver=saga;, score=0.938 total time=   2.8s\n",
      "[CV 4/5] END C=1000, penalty=l1, solver=liblinear;, score=0.940 total time=   0.5s\n",
      "[CV 5/5] END C=1000, penalty=l1, solver=liblinear;, score=0.940 total time=   0.5s\n",
      "[CV 1/5] END ....C=1000, penalty=l1, solver=lbfgs;, score=nan total time=   0.0s\n",
      "[CV 4/5] END ....C=100, penalty=l2, solver=saga;, score=0.940 total time=   1.9s\n",
      "[CV 3/5] END C=1000, penalty=l1, solver=liblinear;, score=0.938 total time=   0.6s\n",
      "[CV 2/5] END ....C=1000, penalty=l1, solver=lbfgs;, score=nan total time=   0.0s\n",
      "[CV 1/5] END ....C=100, penalty=l2, solver=saga;, score=0.939 total time=   2.4s[CV 3/5] END ....C=1000, penalty=l1, solver=lbfgs;, score=nan total time=   0.0s\n",
      "\n",
      "[CV 5/5] END ....C=1000, penalty=l1, solver=lbfgs;, score=nan total time=   0.0s\n",
      "[CV 4/5] END ....C=1000, penalty=l1, solver=lbfgs;, score=nan total time=   0.0s\n",
      "[CV 3/5] END ....C=100, penalty=l2, solver=saga;, score=0.938 total time=   2.1s\n",
      "[CV 5/5] END ....C=100, penalty=l2, solver=saga;, score=0.940 total time=   2.1s\n",
      "[CV 2/5] END ....C=100, penalty=l2, solver=saga;, score=0.939 total time=   2.6s\n",
      "[CV 1/5] END C=1000, penalty=l2, solver=liblinear;, score=0.939 total time=   0.6s\n",
      "[CV 2/5] END C=1000, penalty=l2, solver=liblinear;, score=0.939 total time=   0.7s\n",
      "[CV 5/5] END C=1000, penalty=l2, solver=liblinear;, score=0.940 total time=   0.6s\n",
      "[CV 3/5] END C=1000, penalty=l2, solver=liblinear;, score=0.938 total time=   0.7s\n",
      "[CV 4/5] END C=1000, penalty=l2, solver=liblinear;, score=0.940 total time=   0.8s\n",
      "[CV 1/5] END ..C=1000, penalty=l2, solver=lbfgs;, score=0.939 total time=   0.3s\n",
      "[CV 2/5] END ..C=1000, penalty=l2, solver=lbfgs;, score=0.939 total time=   0.3s\n",
      "[CV 4/5] END ..C=1000, penalty=l2, solver=lbfgs;, score=0.940 total time=   0.3s\n",
      "[CV 3/5] END ..C=1000, penalty=l2, solver=lbfgs;, score=0.938 total time=   0.3s\n",
      "[CV 5/5] END ..C=1000, penalty=l2, solver=lbfgs;, score=0.940 total time=   0.2s\n",
      "[CV 1/5] END ...C=1000, penalty=l1, solver=saga;, score=0.939 total time=   2.3s\n",
      "[CV 2/5] END ...C=1000, penalty=l1, solver=saga;, score=0.939 total time=   2.2s\n",
      "[CV 4/5] END ...C=1000, penalty=l1, solver=saga;, score=0.940 total time=   2.0s\n",
      "[CV 1/5] END ...C=1000, penalty=l2, solver=saga;, score=0.939 total time=   1.5s\n",
      "[CV 3/5] END ...C=1000, penalty=l1, solver=saga;, score=0.938 total time=   2.3s\n",
      "[CV 5/5] END ...C=1000, penalty=l1, solver=saga;, score=0.940 total time=   2.1s\n",
      "[CV 2/5] END ...C=1000, penalty=l2, solver=saga;, score=0.939 total time=   1.5s\n",
      "[CV 3/5] END ...C=1000, penalty=l2, solver=saga;, score=0.938 total time=   1.6s\n",
      "[CV 4/5] END ...C=1000, penalty=l2, solver=saga;, score=0.940 total time=   1.5s\n",
      "[CV 5/5] END ...C=1000, penalty=l2, solver=saga;, score=0.940 total time=   1.5s\n"
     ]
    },
    {
     "name": "stderr",
     "output_type": "stream",
     "text": [
      "/home/leikrad/Projects/TAA/venv/lib/python3.11/site-packages/sklearn/model_selection/_validation.py:547: FitFailedWarning: \n",
      "35 fits failed out of a total of 210.\n",
      "The score on these train-test partitions for these parameters will be set to nan.\n",
      "If these failures are not expected, you can try to debug them by setting error_score='raise'.\n",
      "\n",
      "Below are more details about the failures:\n",
      "--------------------------------------------------------------------------------\n",
      "35 fits failed with the following error:\n",
      "Traceback (most recent call last):\n",
      "  File \"/home/leikrad/Projects/TAA/venv/lib/python3.11/site-packages/sklearn/model_selection/_validation.py\", line 895, in _fit_and_score\n",
      "    estimator.fit(X_train, y_train, **fit_params)\n",
      "  File \"/home/leikrad/Projects/TAA/venv/lib/python3.11/site-packages/sklearn/base.py\", line 1474, in wrapper\n",
      "    return fit_method(estimator, *args, **kwargs)\n",
      "           ^^^^^^^^^^^^^^^^^^^^^^^^^^^^^^^^^^^^^^\n",
      "  File \"/home/leikrad/Projects/TAA/venv/lib/python3.11/site-packages/sklearn/linear_model/_logistic.py\", line 1172, in fit\n",
      "    solver = _check_solver(self.solver, self.penalty, self.dual)\n",
      "             ^^^^^^^^^^^^^^^^^^^^^^^^^^^^^^^^^^^^^^^^^^^^^^^^^^^\n",
      "  File \"/home/leikrad/Projects/TAA/venv/lib/python3.11/site-packages/sklearn/linear_model/_logistic.py\", line 67, in _check_solver\n",
      "    raise ValueError(\n",
      "ValueError: Solver lbfgs supports only 'l2' or None penalties, got l1 penalty.\n",
      "\n",
      "  warnings.warn(some_fits_failed_message, FitFailedWarning)\n",
      "/home/leikrad/Projects/TAA/venv/lib/python3.11/site-packages/sklearn/model_selection/_search.py:1051: UserWarning: One or more of the test scores are non-finite: [0.93914751 0.93927506        nan 0.94026067 0.94095252 0.94097185\n",
      " 0.93961132 0.93959973        nan 0.9395031  0.93951856 0.93954175\n",
      " 0.93936782 0.93932531        nan 0.93934077 0.93932531 0.9393485\n",
      " 0.9393485  0.93931758        nan 0.93932531 0.93931758 0.93932917\n",
      " 0.93934077 0.93931758        nan 0.93931758 0.93931758 0.93932917\n",
      " 0.9393485  0.93931758        nan 0.93931758 0.93931758 0.93932917\n",
      " 0.93932144 0.93931371        nan 0.93931758 0.93931371 0.93932531]\n",
      "  warnings.warn(\n"
     ]
    },
    {
     "name": "stdout",
     "output_type": "stream",
     "text": [
      "Best hyperparameters: {'C': 0.001, 'penalty': 'l2', 'solver': 'lbfgs'}\n",
      "Best score: 0.9409718481160857\n",
      "Accuracy: 0.9723818297327368\n"
     ]
    }
   ],
   "source": [
    "from sklearn.linear_model import LogisticRegression\n",
    "from sklearn.model_selection import GridSearchCV\n",
    "\n",
    "# Create logistic regression\n",
    "log_reg = LogisticRegression()\n",
    "\n",
    "gridSearch = GridSearchCV(log_reg, param_grid,refit=True, verbose=3, scoring=\"accuracy\" ,cv=5,n_jobs=-1,return_train_score=False)\n",
    "\n",
    "# Under sampled set\n",
    "X_train = np.load(f'{base_dir}/over_sampled_best_X_train.npy')\n",
    "y_train = np.load(f'{base_dir}/over_sampled_y_train.npy')\n",
    "\n",
    "# cant concatenate the validation set because it is not under sampled\n",
    "\n",
    "y_train = y_train.ravel()\n",
    "\n",
    "gridSearch.fit(X_train, y_train)\n",
    "\n",
    "# Get the best model\n",
    "best_model = gridSearch.best_estimator_\n",
    "\n",
    "# Get the best hyperparameters\n",
    "best_hyperparams = gridSearch.best_params_\n",
    "\n",
    "# Get the best score\n",
    "\n",
    "best_score = gridSearch.best_score_\n",
    "\n",
    "print(f'Best hyperparameters: {best_hyperparams}')\n",
    "print(f'Best score: {best_score}')\n",
    "\n",
    "# Predict the test set\n",
    "y_pred = best_model.predict(over_sampled_best_X_test)\n",
    "\n",
    "# Calculate the accuracy\n",
    "accuracy = np.mean(y_pred == y_test)\n",
    "print(f'Accuracy: {accuracy}')\n",
    "\n",
    "os.makedirs(output_dir + '/over_sampled_best_selection', exist_ok=True)\n",
    "\n",
    "output = f'{output_dir}/over_sampled_best_selection/'\n",
    "\n",
    "# Save the model\n",
    "import joblib\n",
    "joblib.dump(best_model, f'{output}/model.pkl')\n",
    "\n",
    "# Save the best hyperparameters\n",
    "import json\n",
    "with open(f'{output}/best_hyperparams.json', 'w') as f:\n",
    "    json.dump(best_hyperparams, f)\n",
    "\n",
    "# Save the accuracy\n",
    "with open(f'{output}/accuracy.txt', 'w') as f:\n",
    "    f.write(str(accuracy))\n",
    "\n",
    "# convert to pandas dataframe\n",
    "df = pd.DataFrame(gridSearch.cv_results_)\n",
    "\n",
    "# save to csv\n",
    "df.to_csv(f'{output}/cv_results.csv', index=False)"
   ]
  }
 ],
 "metadata": {
  "kernelspec": {
   "display_name": "venv",
   "language": "python",
   "name": "python3"
  },
  "language_info": {
   "codemirror_mode": {
    "name": "ipython",
    "version": 3
   },
   "file_extension": ".py",
   "mimetype": "text/x-python",
   "name": "python",
   "nbconvert_exporter": "python",
   "pygments_lexer": "ipython3",
   "version": "3.11.8"
  }
 },
 "nbformat": 4,
 "nbformat_minor": 2
}
